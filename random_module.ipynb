{
 "cells": [
  {
   "cell_type": "markdown",
   "metadata": {},
   "source": [
    "# Python random module\n",
    "\n",
    "This module implements pseudo-random number generators for various distributions.\n"
   ]
  },
  {
   "cell_type": "code",
   "execution_count": 1,
   "metadata": {},
   "outputs": [],
   "source": [
    "import random"
   ]
  },
  {
   "cell_type": "markdown",
   "metadata": {},
   "source": [
    "**random.random()**\n",
    "\n",
    "     Return the next random floating point number in the range [0.0, 1.0)"
   ]
  },
  {
   "cell_type": "code",
   "execution_count": 2,
   "metadata": {},
   "outputs": [
    {
     "data": {
      "text/plain": [
       "0.6033480714317964"
      ]
     },
     "execution_count": 2,
     "metadata": {},
     "output_type": "execute_result"
    }
   ],
   "source": [
    "random.random()"
   ]
  },
  {
   "cell_type": "code",
   "execution_count": 5,
   "metadata": {},
   "outputs": [
    {
     "data": {
      "text/plain": [
       "0.3119043929208256"
      ]
     },
     "execution_count": 5,
     "metadata": {},
     "output_type": "execute_result"
    }
   ],
   "source": [
    "# returns different number [0.0, 1.0) everytime you call this function!\n",
    "\n",
    "random.random()"
   ]
  },
  {
   "cell_type": "code",
   "execution_count": 6,
   "metadata": {},
   "outputs": [
    {
     "name": "stdout",
     "output_type": "stream",
     "text": [
      "0.08842186516497241\n",
      "0.3730165665283375\n",
      "0.6718944031163099\n",
      "0.3455795635938105\n",
      "0.7142613830108466\n",
      "0.5503093743149323\n",
      "0.7537252634596693\n",
      "0.37093139042096535\n",
      "0.8704972914328144\n",
      "0.38333770409523604\n"
     ]
    }
   ],
   "source": [
    "# generate 10 random numbers\n",
    "\n",
    "for i in range(0, 10):\n",
    "    print(random.random())"
   ]
  },
  {
   "cell_type": "markdown",
   "metadata": {},
   "source": [
    "**random.randrange(stop)**\n",
    "\n",
    "**random.randrange(start, stop[, step])**\n",
    "\n",
    "    Return a randomly selected element from range(start, stop, step). \n",
    "    The positional argument pattern matches that of range()."
   ]
  },
  {
   "cell_type": "code",
   "execution_count": 8,
   "metadata": {},
   "outputs": [
    {
     "data": {
      "text/plain": [
       "4"
      ]
     },
     "execution_count": 8,
     "metadata": {},
     "output_type": "execute_result"
    }
   ],
   "source": [
    "random.randrange(0,10)"
   ]
  },
  {
   "cell_type": "code",
   "execution_count": 10,
   "metadata": {},
   "outputs": [
    {
     "name": "stdout",
     "output_type": "stream",
     "text": [
      "1\n",
      "7\n",
      "6\n",
      "7\n",
      "8\n",
      "3\n",
      "9\n",
      "1\n"
     ]
    }
   ],
   "source": [
    "for i in range(0, 8):\n",
    "    print(random.randrange(0, 10))"
   ]
  },
  {
   "cell_type": "code",
   "execution_count": 11,
   "metadata": {},
   "outputs": [
    {
     "data": {
      "text/plain": [
       "8"
      ]
     },
     "execution_count": 11,
     "metadata": {},
     "output_type": "execute_result"
    }
   ],
   "source": [
    "random.randrange(0,10,2)"
   ]
  },
  {
   "cell_type": "code",
   "execution_count": 14,
   "metadata": {},
   "outputs": [
    {
     "name": "stdout",
     "output_type": "stream",
     "text": [
      "2\n",
      "4\n",
      "0\n",
      "4\n",
      "8\n",
      "4\n",
      "8\n",
      "4\n"
     ]
    }
   ],
   "source": [
    "# odd number never generated!\n",
    "\n",
    "for i in range(0, 8):\n",
    "    print(random.randrange(0, 10, 2))"
   ]
  },
  {
   "cell_type": "markdown",
   "metadata": {},
   "source": [
    "**random.randint(a, b)**\n",
    "\n",
    "    Return a random integer N such that a <= N <= b. Alias for randrange(a, b+1)."
   ]
  },
  {
   "cell_type": "code",
   "execution_count": 15,
   "metadata": {},
   "outputs": [
    {
     "data": {
      "text/plain": [
       "0"
      ]
     },
     "execution_count": 15,
     "metadata": {},
     "output_type": "execute_result"
    }
   ],
   "source": [
    "random.randint(-2, 4)"
   ]
  },
  {
   "cell_type": "code",
   "execution_count": 17,
   "metadata": {},
   "outputs": [
    {
     "name": "stdout",
     "output_type": "stream",
     "text": [
      "4\n",
      "-2\n",
      "0\n",
      "-1\n",
      "2\n",
      "0\n",
      "2\n",
      "4\n",
      "0\n",
      "1\n"
     ]
    }
   ],
   "source": [
    "# unlike randrange, randint includes both the endpoint values\n",
    "\n",
    "\n",
    "for i in range(0, 10):\n",
    "    print(random.randint(-2, 4))"
   ]
  },
  {
   "cell_type": "markdown",
   "metadata": {},
   "source": [
    "## CBSE Sample Question Paper (2020-21) Computer Science (083)\n",
    "\n",
    "\n",
    "What possible outputs(s) are expected to be displayed on screen at the time of execution of the\n",
    "program from the following code? Also specify the maximum values that can be assigned to each of\n",
    "the variables Lower and Upper.\n",
    "\n",
    "\n",
    "```python\n",
    "import random\n",
    "\n",
    "AR = [20, 30, 40, 50, 60, 70];\n",
    "Lower = random.randint(1,3)\n",
    "Upper = random.randint(2,4)\n",
    "for K in range(Lower, Upper +1):\n",
    "    print(AR[K], end=\"#\")\n",
    "```\n",
    "\n",
    "(i) 10#40#70#\n",
    "\n",
    "(ii) 30#40#50#\n",
    "\n",
    "(iii) 50#60#70#\n",
    "\n",
    "(iv) 40#50#70#\n",
    "\n",
    "\n",
    "\n",
    "**Answer**\n",
    "\n",
    "OUTPUT: (ii)\n",
    "\n",
    "Maximum value of Lower: 3\n",
    "\n",
    "Maximum value of Upper: 4"
   ]
  },
  {
   "cell_type": "code",
   "execution_count": 18,
   "metadata": {},
   "outputs": [
    {
     "name": "stdout",
     "output_type": "stream",
     "text": [
      "Lower = 1\n",
      "Upper = 3\n",
      "30#40#50#\n",
      "\n",
      "Lower = 2\n",
      "Upper = 2\n",
      "40#\n",
      "\n",
      "Lower = 2\n",
      "Upper = 3\n",
      "40#50#\n",
      "\n",
      "Lower = 3\n",
      "Upper = 3\n",
      "50#\n",
      "\n",
      "Lower = 3\n",
      "Upper = 2\n",
      "\n",
      "\n",
      "Lower = 2\n",
      "Upper = 3\n",
      "40#50#\n",
      "\n",
      "Lower = 3\n",
      "Upper = 2\n",
      "\n",
      "\n",
      "Lower = 1\n",
      "Upper = 2\n",
      "30#40#\n",
      "\n",
      "Lower = 1\n",
      "Upper = 2\n",
      "30#40#\n",
      "\n",
      "Lower = 3\n",
      "Upper = 2\n",
      "\n",
      "\n"
     ]
    }
   ],
   "source": [
    "\n",
    "import random\n",
    "\n",
    "AR = [20, 30, 40, 50, 60, 70]\n",
    "\n",
    "# output is not deterministic as random.randint returns different values each time\n",
    "# We run it 10 times to see different results\n",
    "\n",
    "for i in range(0, 10):\n",
    "    Lower = random.randint(1,3)\n",
    "    Upper = random.randint(2,4)\n",
    "    print(\"Lower =\", Lower)\n",
    "    print(\"Upper =\", Upper)\n",
    "    for K in range(Lower, Upper +1):\n",
    "        print(AR[K], end=\"#\")\n",
    "    print(\"\\n\")"
   ]
  },
  {
   "cell_type": "markdown",
   "metadata": {},
   "source": [
    "## CBSE Compartment exam (2020) Computer Science (91C)\n",
    "\n",
    "Name the Python Library modules which need to be imported to\n",
    "invoke the following functions :\n",
    "    \n",
    "(i) cos()\n",
    "\n",
    "(ii) randint()\n",
    "\n",
    "**Answer**: \n",
    "\n",
    "(i) cos is in **math** module\n",
    "\n",
    "(ii) readint is in **random** module"
   ]
  },
  {
   "cell_type": "markdown",
   "metadata": {},
   "source": [
    "## CBSE Compartment exam (2020) Computer Science (91C)\n",
    "\n",
    "What possible output(s) are expected to be displayed on screen at\n",
    "the time of execution of the program from the following code ? Also\n",
    "specify the minimum and maximum values that can be assigned to\n",
    "the variable End.\n",
    "\n",
    "\n",
    "```python\n",
    "import random\n",
    "Colours = [\"VIOLET\",\"INDIGO\",\"BLUE\",\"GREEN\", \"YELLOW\",\"ORANGE\",\"RED\"]\n",
    "End = randrange(2) + 3\n",
    "Begin = randrange(End) + 1\n",
    "\n",
    "for i in range(Begin,End):\n",
    "    print(Colours[i], end=\"&\")\n",
    "```\n",
    "\n",
    "(i) INDIGO&BLUE&GREEN& \n",
    "\n",
    "(ii) VIOLET&INDIGO&BLUE&\n",
    "\n",
    "(iii) BLUE&GREEN&YELLOW& \n",
    "\n",
    "(iv) GREEN&YELLOW&ORANGE&\n",
    "\n",
    "\n",
    "**Answer**:\n",
    "\n",
    "(i) INDIGO&BLUE&GREEN&\n",
    "\n",
    "Minimum Value of End = 3\n",
    "\n",
    "Maximum Value of End = 4"
   ]
  },
  {
   "cell_type": "code",
   "execution_count": 5,
   "metadata": {},
   "outputs": [
    {
     "name": "stdout",
     "output_type": "stream",
     "text": [
      "Begin 1\n",
      "End 3\n",
      "INDIGO&BLUE&\n",
      "Begin 1\n",
      "End 4\n",
      "INDIGO&BLUE&GREEN&\n",
      "Begin 1\n",
      "End 3\n",
      "INDIGO&BLUE&\n",
      "Begin 2\n",
      "End 3\n",
      "BLUE&\n",
      "Begin 1\n",
      "End 4\n",
      "INDIGO&BLUE&GREEN&\n",
      "Begin 3\n",
      "End 4\n",
      "GREEN&\n",
      "Begin 4\n",
      "End 4\n",
      "\n",
      "Begin 3\n",
      "End 3\n",
      "\n",
      "Begin 1\n",
      "End 3\n",
      "INDIGO&BLUE&\n",
      "Begin 2\n",
      "End 3\n",
      "BLUE&\n"
     ]
    }
   ],
   "source": [
    "import random\n",
    "Colours = [\"VIOLET\",\"INDIGO\",\"BLUE\",\"GREEN\", \"YELLOW\",\"ORANGE\",\"RED\"]\n",
    "\n",
    "# question is wrong actually. random.randrange should be used\n",
    "# or import should have been \n",
    "#\n",
    "#   from random import randrange\n",
    "#\n",
    "\n",
    "# Because of randrange call it is not deterministric\n",
    "# Calling 10 times to see various patterns\n",
    "\n",
    "for i in range(10):\n",
    "    End = random.randrange(2) + 3\n",
    "    Begin = random.randrange(End) + 1\n",
    "    print(\"Begin\", Begin)\n",
    "    print(\"End\", End)\n",
    "\n",
    "    for i in range(Begin,End):\n",
    "        print(Colours[i], end=\"&\")\n",
    "    print()"
   ]
  }
 ],
 "metadata": {
  "kernelspec": {
   "display_name": "Python 3",
   "language": "python",
   "name": "python3"
  },
  "language_info": {
   "codemirror_mode": {
    "name": "ipython",
    "version": 3
   },
   "file_extension": ".py",
   "mimetype": "text/x-python",
   "name": "python",
   "nbconvert_exporter": "python",
   "pygments_lexer": "ipython3",
   "version": "3.7.6"
  }
 },
 "nbformat": 4,
 "nbformat_minor": 4
}
