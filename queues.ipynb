{
 "cells": [
  {
   "cell_type": "markdown",
   "metadata": {},
   "source": [
    "## Queue First In First Out (FIFO)\n",
    "\n",
    "### NCERT Class XII chapter to read\n",
    "\n",
    "[Queue](https://ncert.nic.in/textbook.php?lecs1=4-13)\n",
    "\n",
    "**Queue** follows the principle of **First In First Out (FIFO)**,\n",
    "since the element entering first in the queue will be the\n",
    "first one to come out of it. Thus, the element that has\n",
    "been longest in the queue will be removed first. It is also\n",
    "known as a First Come First Served (FCFS) approach.\n",
    "\n",
    "Queue is an arrangement in which new objects/items\n",
    "always get added at one end, usually called the REAR,\n",
    "and objects/items always get removed from the other\n",
    "end, usually called the FRONT of the queue. REAR is\n",
    "also known as TAIL and FRONT as HEAD of a queue."
   ]
  },
  {
   "cell_type": "markdown",
   "metadata": {},
   "source": [
    "### The concept of queue has many applications in real-life:\n",
    "    \n",
    "* If a train ticket is in the waiting list (such as W/L1), it means the ticket is in a queue of tickets waiting to get confirmed, as per the increasing order of waiting numbers. If a confirmed ticket is cancelled, the W/ L1 numbered ticket is removed from the FRONT of the waiting queue and confirmed.\n",
    "\n",
    "\n",
    "* Sometimes on calling a customer service centre, the Interactive Voice Response System (IVRS) tells us to wait till a support person is available. Here the call is put into a queue of customers waiting to be serviced.\n",
    "\n",
    "\n",
    "* Imagine there is a single-lane one-way road, then the vehicle that entered first will exit first, following the concept of queue. Likewise, vehicles in a highway toll tax booth are served following the principle of FIFO.\n"
   ]
  },
  {
   "cell_type": "markdown",
   "metadata": {},
   "source": [
    "### Some examples of application of queue in computer science:\n",
    "    \n",
    "* Suppose there is a web-server hosting a web-site to declare result(s). This server can handle a maximum of 50 concurrent requests to view result(s). So, to serve thousands of user requests, a Queue would be the most appropriate data structure to use.\n",
    "\n",
    "\n",
    "* Some Operating Systems (OS) are required to handle multiple tasks called - jobs, seeking to use the processor. But we know that a processor can handle only one task at a time. Therefore, in a multitaskingoperating system, jobs are lined up (queued) and then given access to the processor according to some order. The simplest way is to give access to the processor on a FIFO basis, that is according to the order in which the jobs arrive with a request for the processor.\n",
    "\n",
    "\n",
    "* When we send print commands from multiple files from the same computer or from different computers using a shared printer. The OS puts these print requests in a queue and sends them to the printer one by one on a FIFO basis.\n"
   ]
  },
  {
   "cell_type": "markdown",
   "metadata": {},
   "source": [
    "## Operations on Queue\n",
    "\n",
    "* **ENQUEUE**: is used to insert a new element to the queue at the rear end. We can insert elements in the queue till there is space in the queue for adding more elements. Inserting elements beyond capacity of the queue will result in an exception - known as Overflow.\n",
    "\n",
    "\n",
    "* **DEQUEUE**: is used to remove one element at a time from the front of the queue. We can delete elements from a queue until it is empty, trying to delete an element from an empty queue will result in exception - known as Underflow.\n",
    "\n",
    "\n",
    "* **IS EMPTY** : used to check whether the queue has any element or not, so as to avoid Underflow exception while performing dequeue operation.\n",
    "\n",
    "\n",
    "* **PEEK** : used to view elements at the front of the queue, without removing it from the queue.\n",
    "\n",
    "\n",
    "* **IS FULL** : used to check whether any more elements can be added to the queue or not, to avoid Overflow exceptions while performing enqueue operation"
   ]
  },
  {
   "cell_type": "code",
   "execution_count": 6,
   "metadata": {},
   "outputs": [
    {
     "name": "stdout",
     "output_type": "stream",
     "text": [
      "3\n",
      "java\n",
      "2\n",
      "javascript\n",
      "1\n",
      "python\n",
      "0\n",
      "True\n"
     ]
    }
   ],
   "source": [
    "def enqueue(myQueue, element):\n",
    "    myQueue.append(element)\n",
    "    \n",
    "# we don't implement isFull as we use unbounded (not fixed size) queue\n",
    "\n",
    "def isEmpty(myQueue):\n",
    "    if len(myQueue)==0:\n",
    "        return True\n",
    "    else:\n",
    "        return False\n",
    "\n",
    "def dequeue(myQueue):\n",
    "    if not (isEmpty(myQueue)):\n",
    "        # Note: The pop() function with index[0] will delete the element from\n",
    "        # the beginning of the list, hence Front of queue.\n",
    "        return myQueue.pop(0)\n",
    "    else :\n",
    "        print(\"Queue is empty\")\n",
    "\n",
    "def size(myQueue):\n",
    "    return len(myQueue)\n",
    "\n",
    "def peek(myQueue):\n",
    "    if isEmpty(myQueue):\n",
    "        print(\"Queue is empty\")\n",
    "        return None\n",
    "    else:\n",
    "        return myQueue[0]\n",
    "\n",
    "q = [ ]\n",
    "\n",
    "enqueue(q, \"java\")\n",
    "enqueue(q, \"javascript\")\n",
    "enqueue(q, \"python\")\n",
    "\n",
    "print(size(q))\n",
    "print(dequeue(q))\n",
    "print(size(q))\n",
    "print(dequeue(q))\n",
    "print(size(q))\n",
    "print(dequeue(q))\n",
    "print(size(q))\n",
    "\n",
    "print(isEmpty(q))\n",
    "\n"
   ]
  },
  {
   "cell_type": "markdown",
   "metadata": {},
   "source": [
    "## CBSE Compartment exam (2020) Computer Science (91C)\n",
    "\n",
    "Write functions in Python for InsertQ(Names) and for\n",
    "RemoveQ(Names) for performing insertion and removal operations\n",
    "with a queue of List which contains names of students."
   ]
  },
  {
   "cell_type": "code",
   "execution_count": 2,
   "metadata": {},
   "outputs": [
    {
     "name": "stdout",
     "output_type": "stream",
     "text": [
      "enter Name to be inserted: John\n",
      "enter Name to be inserted: Jana\n",
      "Deleted Name is:  John\n",
      "Deleted Name is:  Jana\n",
      "Queue empty\n"
     ]
    }
   ],
   "source": [
    "def InsertQ(Names):\n",
    "    Name = input(\"enter Name to be inserted: \")\n",
    "    Names.append(Name)\n",
    "    \n",
    "def DeleteQ(Names):\n",
    "    if (Names == []):\n",
    "        print(\"Queue empty\")\n",
    "    else:\n",
    "        print (\"Deleted Name is: \",Names[0])\n",
    "        del(Names[0])\n",
    "        \n",
    "queue = []\n",
    "InsertQ(queue)\n",
    "InsertQ(queue)\n",
    "DeleteQ(queue)\n",
    "DeleteQ(queue)\n",
    "DeleteQ(queue)"
   ]
  }
 ],
 "metadata": {
  "kernelspec": {
   "display_name": "Python 3",
   "language": "python",
   "name": "python3"
  },
  "language_info": {
   "codemirror_mode": {
    "name": "ipython",
    "version": 3
   },
   "file_extension": ".py",
   "mimetype": "text/x-python",
   "name": "python",
   "nbconvert_exporter": "python",
   "pygments_lexer": "ipython3",
   "version": "3.7.6"
  }
 },
 "nbformat": 4,
 "nbformat_minor": 4
}
