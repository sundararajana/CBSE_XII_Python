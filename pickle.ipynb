{
 "cells": [
  {
   "cell_type": "markdown",
   "metadata": {},
   "source": [
    "## The pickle module\n",
    "\n",
    "Python considers everything as an object.\n",
    "So, all data types including list, tuple, dictionary, etc.\n",
    "are also considered as objects. During execution of\n",
    "a program, we may require to store current state of\n",
    "variables so that we can retrieve them later to its present\n",
    "state. \n",
    "\n",
    "Suppose you are playing a video game, and after\n",
    "some time, you want to close it. So, the program should\n",
    "be able to store the current state of the game, including\n",
    "current level/stage, your score, etc. as a Python object.\n",
    "\n",
    "To save any object\n",
    "structure into a file, Python provides a module\n",
    "called **pickle**. The module pickle is used for serializing\n",
    "and de-serializing any Python objects.\n",
    "\n",
    "\n",
    "**Serialization** is the process of transforming data or\n",
    "an object in memory (RAM) to a stream of bytes called\n",
    "byte streams. These byte streams in a binary file can\n",
    "then be stored in a disk or in a database or sent through\n",
    "a network. Serialization process is also called pickling.\n",
    "**De-serialization or unpickling** is the inverse of\n",
    "pickling process where a byte stream is converted back\n",
    "to Python object.\n",
    "\n",
    "The **pickle module deals with binary files**. The pickle Module must be imported\n",
    "to load and dump data. **The pickle module provides two\n",
    "methods - dump() and load() to work with binary files\n",
    "for pickling and unpickling**, respectively."
   ]
  },
  {
   "cell_type": "markdown",
   "metadata": {},
   "source": [
    "## The pickle.dump method\n",
    "\n",
    "This method is used to convert (pickling) Python objects\n",
    "for writing data in a **binary file**. The file in which data\n",
    "are to be dumped, needs to be opened in binary write\n",
    "mode (wb).\n",
    "\n",
    "Syntax of dump() is as follows:\n",
    "```python\n",
    "    pickle.dump(data_object, file_object)\n",
    "    \n",
    "```\n",
    "\n",
    "where data_object is the object that has to be\n",
    "dumped to the file with the file handle named file_object\n"
   ]
  },
  {
   "cell_type": "code",
   "execution_count": 1,
   "metadata": {},
   "outputs": [
    {
     "ename": "TypeError",
     "evalue": "write() argument must be str, not bytes",
     "output_type": "error",
     "traceback": [
      "\u001b[0;31m---------------------------------------------------------------------------\u001b[0m",
      "\u001b[0;31mTypeError\u001b[0m                                 Traceback (most recent call last)",
      "\u001b[0;32m<ipython-input-1-4528e57614cf>\u001b[0m in \u001b[0;36m<module>\u001b[0;34m\u001b[0m\n\u001b[1;32m      8\u001b[0m \u001b[0;34m\u001b[0m\u001b[0m\n\u001b[1;32m      9\u001b[0m     \u001b[0;31m# use pickle module's dump method to dump list into file\u001b[0m\u001b[0;34m\u001b[0m\u001b[0;34m\u001b[0m\u001b[0;34m\u001b[0m\u001b[0m\n\u001b[0;32m---> 10\u001b[0;31m     \u001b[0mpickle\u001b[0m\u001b[0;34m.\u001b[0m\u001b[0mdump\u001b[0m\u001b[0;34m(\u001b[0m\u001b[0mlistvalues\u001b[0m\u001b[0;34m,\u001b[0m \u001b[0mfileobject\u001b[0m\u001b[0;34m)\u001b[0m\u001b[0;34m\u001b[0m\u001b[0;34m\u001b[0m\u001b[0m\n\u001b[0m",
      "\u001b[0;31mTypeError\u001b[0m: write() argument must be str, not bytes"
     ]
    }
   ],
   "source": [
    "import pickle\n",
    "\n",
    "listvalues = [1,\"Geetika\",'F', 26]\n",
    "\n",
    "# open a text file for writing. Note the mode \"w\"\n",
    "# This will result in exception being thrown as pickle requires binary file\n",
    "with open(\"mybinary.dat\", \"w\") as fileobject:\n",
    "\n",
    "    # use pickle module's dump method to dump list into file\n",
    "    pickle.dump(listvalues, fileobject)"
   ]
  },
  {
   "cell_type": "code",
   "execution_count": 2,
   "metadata": {},
   "outputs": [],
   "source": [
    "\n",
    "# Program 2.6\n",
    "\n",
    "import pickle\n",
    "\n",
    "listvalues = [1,\"Geetika\",'F', 26]\n",
    "\n",
    "# open a binary file for writing. Note the mode \"wb\"\n",
    "with open(\"mybinary.dat\", \"wb\") as fileobject:\n",
    "    # use pickle module's dump method to dump list into file\n",
    "    pickle.dump(listvalues, fileobject)\n"
   ]
  },
  {
   "cell_type": "markdown",
   "metadata": {},
   "source": [
    "## The pickle.load() method\n",
    "\n",
    "This method is used to load (unpickling) data from a\n",
    "binary file. The file to be loaded is opened in binary read\n",
    "(rb) mode. Syntax of load() is as follows:\n",
    "```python\n",
    "    store_object = pickle.load(file_object)\n",
    "```\n",
    "Here, the pickled Python object is loaded from the\n",
    "file having a file handle named file_object and is\n",
    "stored in a new file handle called store_object."
   ]
  },
  {
   "cell_type": "code",
   "execution_count": 3,
   "metadata": {},
   "outputs": [
    {
     "name": "stdout",
     "output_type": "stream",
     "text": [
      "The data that were stored in file are: \n",
      "[1, 'Geetika', 'F', 26]\n"
     ]
    }
   ],
   "source": [
    "# Program 2-7 Unpickling data in Python\n",
    "\n",
    "import pickle\n",
    "print(\"The data that were stored in file are: \")\n",
    "\n",
    "# open a binary file for writing. Note the mode \"wb\"\n",
    "with open(\"mybinary.dat\",\"rb\") as fileobject:\n",
    "    # load an object from binary file\n",
    "    objectvar = pickle.load(fileobject)\n",
    "\n",
    "    # print the loaded object\n",
    "    print(objectvar)"
   ]
  },
  {
   "cell_type": "markdown",
   "metadata": {},
   "source": [
    "# Program 2-8 To perform basic operations on a binary file using pickle module"
   ]
  },
  {
   "cell_type": "code",
   "execution_count": 20,
   "metadata": {},
   "outputs": [
    {
     "name": "stdout",
     "output_type": "stream",
     "text": [
      "WORKING WITH BINARY FILES\n",
      "Enter Records of Employees\n",
      "\n",
      "RECORD No. 1\n",
      "\tEmployee number : 11\n",
      "\tEmployee Name : Murugan\n",
      "\tBasic Salary : 40000\n",
      "\tAllowances : 4400\n",
      "\tTOTAL SALARY :  44400\n",
      "Do you wish to enter more records (y/n)? y\n",
      "RECORD No. 2\n",
      "\tEmployee number : 12\n",
      "\tEmployee Name : Kandan\n",
      "\tBasic Salary : 32000\n",
      "\tAllowances : 3100\n",
      "\tTOTAL SALARY :  35100\n",
      "Do you wish to enter more records (y/n)? n\n",
      "Record entry OVER \n",
      "\n",
      "Size of binary file (in bytes): 252\n",
      "Now reading the employee records from the file\n",
      "\n",
      "Record Number :  1\n",
      "[11, 'Ravi', 32600, 4400, 37000]\n",
      "Record Number :  2\n",
      "[12, 'Kannan', 400000, 8000, 408000]\n",
      "Record Number :  3\n",
      "[11, 'John', 32000, 4400, 36400]\n",
      "Record Number :  4\n",
      "[11, 'John', 40000, 4400, 44400]\n",
      "Record Number :  5\n",
      "[12, 'Smith', 32000, 3100, 35100]\n",
      "Record Number :  6\n",
      "[11, 'John', 40000, 4400, 44400]\n",
      "Record Number :  7\n",
      "[11, 'Murugan', 40000, 4400, 44400]\n",
      "Record Number :  8\n",
      "[12, 'Kandan', 32000, 3100, 35100]\n"
     ]
    }
   ],
   "source": [
    "\n",
    "# Program to write and read employee records in a binary file\n",
    "import pickle\n",
    "\n",
    "print(\"WORKING WITH BINARY FILES\")\n",
    "bfile = open(\"empfile.dat\",\"ab\")\n",
    "recno = 1\n",
    "print (\"Enter Records of Employees\")\n",
    "print()\n",
    "\n",
    "# taking data from user and dumping in the file as list object\n",
    "while True:\n",
    "    print(\"RECORD No.\", recno)\n",
    "    eno = int(input(\"\\tEmployee number : \"))\n",
    "    ename = input(\"\\tEmployee Name : \")\n",
    "    ebasic = int(input(\"\\tBasic Salary : \"))\n",
    "    allow = int(input(\"\\tAllowances : \"))\n",
    "    totsal = ebasic + allow\n",
    "    print(\"\\tTOTAL SALARY : \", totsal)\n",
    "    edata = [eno, ename, ebasic, allow, totsal]\n",
    "    pickle.dump(edata,bfile)\n",
    "    ans = input(\"Do you wish to enter more records (y/n)? \")\n",
    "    recno = recno + 1\n",
    "    if ans.lower() == 'n':\n",
    "        print(\"Record entry OVER \")\n",
    "        print()\n",
    "        break\n",
    "        \n",
    "# retrieving the size of file\n",
    "print(\"Size of binary file (in bytes):\", bfile.tell())\n",
    "bfile.close()\n",
    "\n",
    "# Reading the employee records from the file using load() module\n",
    "print(\"Now reading the employee records from the file\")\n",
    "print()\n",
    "readrec = 1\n",
    "try:\n",
    "    with open(\"empfile.dat\",\"rb\") as bfile:\n",
    "        while True:\n",
    "            edata = pickle.load(bfile)\n",
    "            print(\"Record Number : \",readrec)\n",
    "            print(edata)\n",
    "            readrec = readrec + 1\n",
    "except EOFError:\n",
    "    pass\n",
    "    bfile.close()"
   ]
  },
  {
   "cell_type": "markdown",
   "metadata": {},
   "source": [
    "## Write a program to enter the following records in a binary file:\n",
    "\n",
    "* Item_No integer\n",
    "* Item_Name String\n",
    "* Qty Integer\n",
    "* Price float\n",
    "\n",
    "Number of records should be accepted from the user. Read the file to display\n",
    "the records in the following format:\n",
    "    \n",
    "    Item No: \n",
    "    Item Name:\n",
    "    Quantity:\n",
    "    Price per item:\n",
    "    Amount: (to be calculated as Price*Qty)"
   ]
  },
  {
   "cell_type": "code",
   "execution_count": 24,
   "metadata": {},
   "outputs": [
    {
     "name": "stdout",
     "output_type": "stream",
     "text": [
      "RECORD No. 1\n",
      "\tItem number : 12\n",
      "\tItem Name : Pen\n",
      "\tQuantity : 5\n",
      "\tPrice : 10\n",
      "Do you wish to enter more records (y/n)? y\n",
      "RECORD No. 2\n",
      "\tItem number : 14\n",
      "\tItem Name : Pencil\n",
      "\tQuantity : 7\n",
      "\tPrice : 2\n",
      "Do you wish to enter more records (y/n)? n\n",
      "Record entry OVER \n",
      "\n",
      "\tRecord number: 1\n",
      "\tItem No: 12\n",
      "\tItem Name: Pen\n",
      "\tQuantity: 5\n",
      "\tPrice per item: 10.0\n",
      "\tAmount: 50.0\n",
      "\n",
      "\tRecord number: 2\n",
      "\tItem No: 14\n",
      "\tItem Name: Pencil\n",
      "\tQuantity: 7\n",
      "\tPrice per item: 2.0\n",
      "\tAmount: 14.0\n",
      "\n"
     ]
    }
   ],
   "source": [
    "import pickle\n",
    "\n",
    "bfile = open(\"pricedata.dat\",\"wb\")\n",
    "recno = 1\n",
    "\n",
    "# taking data from user and dumping in the file as list object\n",
    "while True:\n",
    "    print(\"RECORD No.\", recno)\n",
    "    Item_No = int(input(\"\\tItem number : \"))\n",
    "    Item_Name = input(\"\\tItem Name : \")\n",
    "    Qty = int(input(\"\\tQuantity : \"))\n",
    "    Price = float(input(\"\\tPrice : \"))\n",
    "    itemdata = [ Item_No, Item_Name, Qty, Price ]\n",
    "    pickle.dump(itemdata, bfile)\n",
    "    ans = input(\"Do you wish to enter more records (y/n)? \")\n",
    "    recno = recno + 1\n",
    "    if ans.lower() == 'n':\n",
    "        print(\"Record entry OVER \")\n",
    "        print()\n",
    "        break\n",
    "        \n",
    "bfile.close()\n",
    "\n",
    "readrec = 1\n",
    "try:\n",
    "    with open(\"pricedata.dat\",\"rb\") as bfile:\n",
    "        while True:\n",
    "            itemdata = pickle.load(bfile)\n",
    "            print(\"\\tRecord number:\", readrec)\n",
    "            print(\"\\tItem No:\", itemdata[0])\n",
    "            print(\"\\tItem Name:\", itemdata[1])\n",
    "            print(\"\\tQuantity:\", itemdata[2])\n",
    "            print(\"\\tPrice per item:\", itemdata[3])\n",
    "            print(\"\\tAmount:\", itemdata[2]*itemdata[3])\n",
    "            print(\"\")\n",
    "            readrec = readrec + 1\n",
    "except EOFError:\n",
    "    bfile.close()"
   ]
  }
 ],
 "metadata": {
  "kernelspec": {
   "display_name": "Python 3",
   "language": "python",
   "name": "python3"
  },
  "language_info": {
   "codemirror_mode": {
    "name": "ipython",
    "version": 3
   },
   "file_extension": ".py",
   "mimetype": "text/x-python",
   "name": "python",
   "nbconvert_exporter": "python",
   "pygments_lexer": "ipython3",
   "version": "3.7.6"
  }
 },
 "nbformat": 4,
 "nbformat_minor": 4
}
