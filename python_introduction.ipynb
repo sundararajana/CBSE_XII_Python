{
 "cells": [
  {
   "cell_type": "markdown",
   "metadata": {},
   "source": [
    "## Python Introduction\n",
    "\n",
    "\n",
    "### NCERT Class XI chapter to read\n",
    "\n",
    "[Getting Started with Python](https://ncert.nic.in/textbook.php?kecs1=5-11)\n",
    "\n",
    "### Features of Python\n",
    "    \n",
    "* Python is a **high level language. It is a free and open source language**.\n",
    "* It is an **interpreted language**, as Python programs are executed by an interpreter.\n",
    "* Python programs are easy to understand as they have a clearly defined syntax and relatively simple structure.\n",
    "* Python is **case-sensitive**. For example, NUMBER and number are not same in Python.\n",
    "* Python is **portable and platform independent**, means it can run on various operating systems and hardware platforms.\n",
    "* Python has a **rich library** of predefined functions.\n",
    "* Python is also helpful in web development. Many popular **web services** and applications are built using Python.\n",
    "* Python uses **indentation for blocks and nested blocks**."
   ]
  },
  {
   "cell_type": "markdown",
   "metadata": {},
   "source": [
    "## Python Lexical Structure\n",
    "\n",
    "Python breaks each source line into a sequence of elementary words. These lexical components (lexical means relating to the words) known as **tokens**. \n",
    "\n",
    "https://www.merriam-webster.com/dictionary/lexical\n",
    "\n",
    "Each token corresponds to a substring of the logical line. The normal token types are \n",
    "\n",
    "1. **identifiers**\n",
    "\n",
    "    An identifier is a name used to identify a variable, function, class, module, or other object\n",
    "\n",
    "2. **keywords**\n",
    "\n",
    "     Identifiers that Python reserves for special syntactic uses. Keywords contain lowercase letters only. You cannot use keywords as regular/ordinary identifiers\n",
    "     \n",
    "     Examples include: **if while for**\n",
    "\n",
    "3. **operators**\n",
    "\n",
    "    Python uses nonalphanumeric characters and character combinations as operators.\n",
    "   \n",
    "    Examples include **+ * // >>**\n",
    "\n",
    "4. **delimiters**\n",
    "\n",
    "    Python uses the following symbols and symbol combinations as delimiters in expressions, lists, dictionaries, various aspects of statements, and strings, among other purposes. \n",
    "    \n",
    "    Examples include **, (comma) : (colon) [ ]**\n",
    "    \n",
    "5. **literals**\n",
    "\n",
    "    A literal is a number or string that appears directly in a program.\n",
    "    \n",
    "    Examples include **3.14 \"hello\"**"
   ]
  },
  {
   "cell_type": "markdown",
   "metadata": {},
   "source": [
    "## Python Identifier rules\n",
    "\n",
    "### IdentIfIers \n",
    "\n",
    "In programming languages, **identifiers are names used to identify a variable, function, or other entities in a program**\n",
    "\n",
    "* The name should begin with an uppercase or a lowercase alphabet or an underscore sign (_). \n",
    "* This may be followed by any combination of characters a–z, A–Z, 0–9 or underscore (_). \n",
    "Thus, an identifier cannot start with a digit.\n",
    "* It can be of any length. (However, it is preferred to keep it short and meaningful).\n",
    "* It should not be a keyword or reserved word given in Table 5.1.\n",
    "* We cannot use special symbols like !, @, #, $, %, etc., in identifiers."
   ]
  },
  {
   "cell_type": "markdown",
   "metadata": {},
   "source": [
    "## Python Keywords\n",
    "\n",
    "* Keywords are **reserved words.** \n",
    "\n",
    "* Each keyword has a **specific meaning to the Python interpreter**.\n",
    "\n",
    "* We can use a keyword in our program only for the purpose for which it has been defined. \n",
    "\n",
    "* Keywords **cannot be used as ordinary identifiers.**\n",
    "\n",
    "Keywords must be spelled exactly as written here:\n",
    "\n",
    "\n",
    "![Python Keywords](images/keywords.png)"
   ]
  },
  {
   "cell_type": "markdown",
   "metadata": {},
   "source": [
    "## CBSE Comptt exam (2020) Computer Science (91C)\n",
    "\n",
    "Which of the following are keywords in Python ?\n",
    "\n",
    "(i) break\n",
    "\n",
    "(ii) check\n",
    "\n",
    "(iii) range\n",
    "\n",
    "(iv) while\n",
    "\n",
    "**Answer**: (i) break (iv) while"
   ]
  },
  {
   "cell_type": "markdown",
   "metadata": {},
   "source": [
    "## Variables\n",
    "\n",
    "* A variable in a program is **uniquely identified by a name (identifier).**\n",
    "\n",
    "* Variable in Python **refers to an object — an item or element that is stored in the memory.**\n",
    "\n",
    "* Value of a variable can be a string (e.g., ‘b’, ‘Global Citizen’), \n",
    "  numeric (e.g., 345) or any combination of alphanumeric characters (CD67). \n",
    "  \n",
    "* Variable **declaration is implicit in Python**, means variables are automatically declared and defined when they are assigned a value the first time.\n",
    "\n",
    "* In Python we can use an **assignment statement to create new variables** and assign specific values to them."
   ]
  },
  {
   "cell_type": "code",
   "execution_count": 1,
   "metadata": {},
   "outputs": [
    {
     "ename": "SyntaxError",
     "evalue": "invalid syntax (<ipython-input-1-22608c0e061a>, line 3)",
     "output_type": "error",
     "traceback": [
      "\u001b[0;36m  File \u001b[0;32m\"<ipython-input-1-22608c0e061a>\"\u001b[0;36m, line \u001b[0;32m3\u001b[0m\n\u001b[0;31m    9xxx = 12\u001b[0m\n\u001b[0m       ^\u001b[0m\n\u001b[0;31mSyntaxError\u001b[0m\u001b[0;31m:\u001b[0m invalid syntax\n"
     ]
    }
   ],
   "source": [
    "# variable name cannot start with a number\n",
    "\n",
    "9xxx = 12"
   ]
  },
  {
   "cell_type": "code",
   "execution_count": 2,
   "metadata": {},
   "outputs": [
    {
     "ename": "SyntaxError",
     "evalue": "invalid syntax (<ipython-input-2-e418c22cbf8f>, line 3)",
     "output_type": "error",
     "traceback": [
      "\u001b[0;36m  File \u001b[0;32m\"<ipython-input-2-e418c22cbf8f>\"\u001b[0;36m, line \u001b[0;32m3\u001b[0m\n\u001b[0;31m    s!x = 33\u001b[0m\n\u001b[0m     ^\u001b[0m\n\u001b[0;31mSyntaxError\u001b[0m\u001b[0;31m:\u001b[0m invalid syntax\n"
     ]
    }
   ],
   "source": [
    "# special characters like !, @, # not allowed in an identifier\n",
    "\n",
    "s!x = 33"
   ]
  },
  {
   "cell_type": "code",
   "execution_count": 3,
   "metadata": {},
   "outputs": [
    {
     "ename": "SyntaxError",
     "evalue": "invalid syntax (<ipython-input-3-d5257e5147d3>, line 3)",
     "output_type": "error",
     "traceback": [
      "\u001b[0;36m  File \u001b[0;32m\"<ipython-input-3-d5257e5147d3>\"\u001b[0;36m, line \u001b[0;32m3\u001b[0m\n\u001b[0;31m    if = 33\u001b[0m\n\u001b[0m       ^\u001b[0m\n\u001b[0;31mSyntaxError\u001b[0m\u001b[0;31m:\u001b[0m invalid syntax\n"
     ]
    }
   ],
   "source": [
    "# if is a keyword and so cannot be used as an identifier\n",
    "\n",
    "if = 33"
   ]
  },
  {
   "cell_type": "code",
   "execution_count": 4,
   "metadata": {},
   "outputs": [
    {
     "name": "stdout",
     "output_type": "stream",
     "text": [
      "X = 34\n",
      "x = hello\n"
     ]
    }
   ],
   "source": [
    "# Python identifiers are case sensitive\n",
    "# Capital X is different from small x\n",
    "\n",
    "X = 34\n",
    "\n",
    "x = \"hello\"\n",
    "\n",
    "print(\"X =\", X)\n",
    "print(\"x =\", x)"
   ]
  },
  {
   "cell_type": "markdown",
   "metadata": {},
   "source": [
    "## CBSE Sample Question Paper (2020-21) Computer Science (083)\n",
    "\n",
    "\n",
    "Find the invalid identifier from the following\n",
    "\n",
    "a) MyName\n",
    "\n",
    "b) True \n",
    "\n",
    "c) 2ndName \n",
    "\n",
    "d) My_Name"
   ]
  },
  {
   "cell_type": "code",
   "execution_count": 5,
   "metadata": {},
   "outputs": [
    {
     "ename": "SyntaxError",
     "evalue": "can't assign to keyword (<ipython-input-5-032a8d6e39fc>, line 6)",
     "output_type": "error",
     "traceback": [
      "\u001b[0;36m  File \u001b[0;32m\"<ipython-input-5-032a8d6e39fc>\"\u001b[0;36m, line \u001b[0;32m6\u001b[0m\n\u001b[0;31m    True = 30\u001b[0m\n\u001b[0m             ^\u001b[0m\n\u001b[0;31mSyntaxError\u001b[0m\u001b[0;31m:\u001b[0m can't assign to keyword\n"
     ]
    }
   ],
   "source": [
    "# answer both (b) and (c). \n",
    "\n",
    "# True is a keyword. \n",
    "# Identifier cannot start with a number. So 2ndName is invalid as well\n",
    "\n",
    "True = 30"
   ]
  },
  {
   "cell_type": "code",
   "execution_count": 6,
   "metadata": {},
   "outputs": [
    {
     "ename": "SyntaxError",
     "evalue": "invalid syntax (<ipython-input-6-609e13318c35>, line 1)",
     "output_type": "error",
     "traceback": [
      "\u001b[0;36m  File \u001b[0;32m\"<ipython-input-6-609e13318c35>\"\u001b[0;36m, line \u001b[0;32m1\u001b[0m\n\u001b[0;31m    2ndName = 434\u001b[0m\n\u001b[0m          ^\u001b[0m\n\u001b[0;31mSyntaxError\u001b[0m\u001b[0;31m:\u001b[0m invalid syntax\n"
     ]
    }
   ],
   "source": [
    "2ndName = 434"
   ]
  },
  {
   "cell_type": "markdown",
   "metadata": {},
   "source": [
    "## CBSE Compartment exam (2020) Computer Science (91C)\n",
    "\n",
    "\n",
    "Which of the following is not a valid variable name in Python ?\n",
    "Justify reason for it not being a valid name.\n",
    "\n",
    "(i) 5Radius\n",
    "\n",
    "(ii) Radius_\n",
    "\n",
    "(iii) _Radius\n",
    "\n",
    "(iv) Radius\n",
    "\n",
    "\n",
    "**Answer**:  (i) 5Radius is invalid because it starts with a number"
   ]
  },
  {
   "cell_type": "code",
   "execution_count": 7,
   "metadata": {},
   "outputs": [
    {
     "ename": "SyntaxError",
     "evalue": "invalid syntax (<ipython-input-7-9219f8eb535f>, line 1)",
     "output_type": "error",
     "traceback": [
      "\u001b[0;36m  File \u001b[0;32m\"<ipython-input-7-9219f8eb535f>\"\u001b[0;36m, line \u001b[0;32m1\u001b[0m\n\u001b[0;31m    5Radius = 4\u001b[0m\n\u001b[0m          ^\u001b[0m\n\u001b[0;31mSyntaxError\u001b[0m\u001b[0;31m:\u001b[0m invalid syntax\n"
     ]
    }
   ],
   "source": [
    "5Radius = 4"
   ]
  },
  {
   "cell_type": "markdown",
   "metadata": {},
   "source": [
    "## CBSE Sample Question Paper (2019-20) Computer Science (083)\n",
    "\n",
    "\n",
    "Write the type of tokens from the following:\n",
    "\n",
    "(i) if \n",
    "\n",
    "(ii) roll_no\n",
    "\n",
    "\n",
    "**Answer**\n",
    "\n",
    "(i) keyword\n",
    "\n",
    "(ii) identifier"
   ]
  },
  {
   "cell_type": "markdown",
   "metadata": {},
   "source": [
    "## Program 5-2 Write a program to display values of variables in Python."
   ]
  },
  {
   "cell_type": "code",
   "execution_count": 8,
   "metadata": {},
   "outputs": [
    {
     "name": "stdout",
     "output_type": "stream",
     "text": [
      "Keep Smiling\n",
      "User Number is 101\n"
     ]
    }
   ],
   "source": [
    "# Program 5-2\n",
    "# To display values of variables\n",
    "\n",
    "message = \"Keep Smiling\"\n",
    "print(message)\n",
    "userNo = 101\n",
    "print('User Number is', userNo)"
   ]
  },
  {
   "cell_type": "markdown",
   "metadata": {},
   "source": [
    "## Program 5-3 To find the area of a rectangle"
   ]
  },
  {
   "cell_type": "code",
   "execution_count": 9,
   "metadata": {},
   "outputs": [
    {
     "name": "stdout",
     "output_type": "stream",
     "text": [
      "200\n"
     ]
    }
   ],
   "source": [
    "# Program 5-3\n",
    "# To find the area of a rectangle\n",
    "\n",
    "length = 10\n",
    "breadth = 20\n",
    "area = length * breadth\n",
    "\n",
    "print(area)"
   ]
  },
  {
   "cell_type": "markdown",
   "metadata": {},
   "source": [
    "## Comments\n",
    "\n",
    "* Comments are used to add a **remark or a note in the source code.**\n",
    "* Comments are **not executed by interpreter.**\n",
    "* In Python, a comment starts with # (hash sign). \n",
    "* **Everything following the # till the end of that line is treated as a comment**\n",
    "* The **interpreter simply ignores** it while executing the statement.\n",
    "\n",
    "## Why comments?\n",
    "\n",
    "* They are added with the purpose of making the source code easier for **humans to understand.**\n",
    "\n",
    "* They are used **primarily to document the meaning and purpose of source code** and its input and output requirements, so that we can remember later how it functions and how to use it. \n",
    "\n",
    "* For large and complex software, it may require programmers to work in teams and sometimes, a **program written by one programmer is required to be used or maintained by another programmer.** In such situations, documentations in the form of comments are needed to understand the working of the program.\n"
   ]
  },
  {
   "cell_type": "code",
   "execution_count": 10,
   "metadata": {},
   "outputs": [
    {
     "name": "stdout",
     "output_type": "stream",
     "text": [
      "give me a number 23\n"
     ]
    }
   ],
   "source": [
    "# This line is a comment\n",
    "\n",
    "s = input(\"give me a number \") # get a number from user"
   ]
  },
  {
   "cell_type": "markdown",
   "metadata": {},
   "source": [
    "## Program 5-4 Write a Python program to find the sum of two numbers."
   ]
  },
  {
   "cell_type": "code",
   "execution_count": 11,
   "metadata": {},
   "outputs": [
    {
     "name": "stdout",
     "output_type": "stream",
     "text": [
      "30\n"
     ]
    }
   ],
   "source": [
    "# Program 5-4\n",
    "# To find the sum of two numbers\n",
    "\n",
    "num1 = 10\n",
    "num2 = 20\n",
    "result = num1 + num2\n",
    "print(result)"
   ]
  },
  {
   "cell_type": "markdown",
   "metadata": {},
   "source": [
    "## Everything is an Object\n",
    "\n",
    "Python **treats every value or data item whether numeric,\n",
    "string, or other type as\n",
    "an object** in the sense that it can be assigned to some\n",
    "variable or can be passed to a function as an argument.\n",
    "\n",
    "\n",
    "**Every object in Python is assigned a unique identity\n",
    "(ID)** which remains the same for the lifetime of that object.\n",
    "This ID is akin to the memory address of the object. \n",
    "\n",
    "The function **id()** returns the identity of an object."
   ]
  },
  {
   "cell_type": "code",
   "execution_count": 12,
   "metadata": {},
   "outputs": [
    {
     "name": "stdout",
     "output_type": "stream",
     "text": [
      "4347500256\n",
      "4347500256\n"
     ]
    }
   ],
   "source": [
    "# Example 5.2\n",
    "\n",
    "num1 = 20\n",
    "\n",
    "print(id(num1))\n",
    "\n",
    "# same value of the number and so same object\n",
    "num2 = 30 - 10\n",
    "\n",
    "print(id(num2))"
   ]
  },
  {
   "cell_type": "markdown",
   "metadata": {},
   "source": [
    "## Data Types\n",
    "\n",
    "**Every value belongs to a specific data type** in Python.\n",
    "Data type identifies the operations that can be performed on\n",
    "that data.\n",
    "\n",
    "![Data Types](images/data_types.jpg)"
   ]
  },
  {
   "cell_type": "markdown",
   "metadata": {},
   "source": [
    "## Number\n",
    "\n",
    "Number data type stores numerical values only. It is\n",
    "further classified into three different types: **int**, **float**\n",
    "and **complex**.\n",
    "\n",
    "![Number Types](images/number_types.png)"
   ]
  },
  {
   "cell_type": "markdown",
   "metadata": {},
   "source": [
    "## Boolean\n",
    "\n",
    "Boolean data type (**bool**) is a subtype of integer. It\n",
    "is a unique data type, consisting of two constants, **True**\n",
    "and **False**. Boolean True value is non-zero, non-null\n",
    "and non-empty. Boolean False is the value zero."
   ]
  },
  {
   "cell_type": "code",
   "execution_count": 13,
   "metadata": {},
   "outputs": [
    {
     "data": {
      "text/plain": [
       "int"
      ]
     },
     "execution_count": 13,
     "metadata": {},
     "output_type": "execute_result"
    }
   ],
   "source": [
    "# Example 5.3\n",
    "\n",
    "# Let us now try to execute few statements to determine\n",
    "# the data type of the value pointed by a variable\n",
    "# using built-in function type().\n",
    "\n",
    "num1 = 10\n",
    "type(num1)"
   ]
  },
  {
   "cell_type": "code",
   "execution_count": 14,
   "metadata": {},
   "outputs": [
    {
     "data": {
      "text/plain": [
       "int"
      ]
     },
     "execution_count": 14,
     "metadata": {},
     "output_type": "execute_result"
    }
   ],
   "source": [
    "num2 = -1210\n",
    "type(num2)"
   ]
  },
  {
   "cell_type": "code",
   "execution_count": 15,
   "metadata": {},
   "outputs": [
    {
     "data": {
      "text/plain": [
       "bool"
      ]
     },
     "execution_count": 15,
     "metadata": {},
     "output_type": "execute_result"
    }
   ],
   "source": [
    "var1 = True\n",
    "type(var1)"
   ]
  },
  {
   "cell_type": "code",
   "execution_count": 16,
   "metadata": {},
   "outputs": [
    {
     "data": {
      "text/plain": [
       "float"
      ]
     },
     "execution_count": 16,
     "metadata": {},
     "output_type": "execute_result"
    }
   ],
   "source": [
    "float1 = -1921.9\n",
    "type(float1)"
   ]
  },
  {
   "cell_type": "code",
   "execution_count": 17,
   "metadata": {},
   "outputs": [
    {
     "data": {
      "text/plain": [
       "complex"
      ]
     },
     "execution_count": 17,
     "metadata": {},
     "output_type": "execute_result"
    }
   ],
   "source": [
    "var2 = -3 + 7.2j\n",
    "type(var2)"
   ]
  },
  {
   "cell_type": "markdown",
   "metadata": {},
   "source": [
    "## Collections\n",
    "\n",
    "* Variables of simple data types like integers, float, boolean, etc., hold single values. \n",
    "\n",
    "* But such variables are not useful to hold a long list of information, for example, names of the months in a year, names of students in a class, names and numbers in a phone book or the list of artefacts in a museum. For this, \n",
    "\n",
    "* Python provides data types like **tuples**, **lists**, **dictionaries** and **sets**."
   ]
  },
  {
   "cell_type": "markdown",
   "metadata": {},
   "source": [
    "## Sequences\n",
    "\n",
    "A Python **sequence is an ordered collection of items,\n",
    "where each item is indexed by an integer.**\n",
    "\n",
    "The **three types of sequence data types** available in Python are\n",
    "\n",
    "1. **String**\n",
    "2. **List**\n",
    "3. **Tuple**"
   ]
  },
  {
   "cell_type": "markdown",
   "metadata": {},
   "source": [
    "## String\n",
    "\n",
    "* String is a group of characters. \n",
    "* These characters may be alphabets, digits or special characters including spaces.\n",
    "* String values are enclosed either in single quotation marks (e.g., ‘Hello’) or in double quotation marks (e.g., “Hello”). The quotes are not a part of the string, they are used to mark the beginning and end of the string for the interpreter.\n",
    "* Once created a string **cannot be changed** (**immutable**). For example we cannot change the characters of a string or add/delete characters.\n",
    "* We can only create new strings out of existing strings"
   ]
  },
  {
   "cell_type": "code",
   "execution_count": 18,
   "metadata": {},
   "outputs": [
    {
     "data": {
      "text/plain": [
       "str"
      ]
     },
     "execution_count": 18,
     "metadata": {},
     "output_type": "execute_result"
    }
   ],
   "source": [
    "str1 = 'Hello Friend'\n",
    "type(str1)"
   ]
  },
  {
   "cell_type": "code",
   "execution_count": 19,
   "metadata": {},
   "outputs": [
    {
     "data": {
      "text/plain": [
       "str"
      ]
     },
     "execution_count": 19,
     "metadata": {},
     "output_type": "execute_result"
    }
   ],
   "source": [
    "str2 = \"452\"\n",
    "type(str2)"
   ]
  },
  {
   "cell_type": "markdown",
   "metadata": {},
   "source": [
    "### We cannot perform numerical operations on strings, even when the string contains a numeric value, as in str2"
   ]
  },
  {
   "cell_type": "code",
   "execution_count": 20,
   "metadata": {},
   "outputs": [
    {
     "ename": "TypeError",
     "evalue": "unsupported operand type(s) for /: 'str' and 'int'",
     "output_type": "error",
     "traceback": [
      "\u001b[0;31m---------------------------------------------------------------------------\u001b[0m",
      "\u001b[0;31mTypeError\u001b[0m                                 Traceback (most recent call last)",
      "\u001b[0;32m<ipython-input-20-5ba189042a19>\u001b[0m in \u001b[0;36m<module>\u001b[0;34m\u001b[0m\n\u001b[0;32m----> 1\u001b[0;31m \u001b[0mstr2\u001b[0m \u001b[0;34m/\u001b[0m \u001b[0;36m44\u001b[0m\u001b[0;34m\u001b[0m\u001b[0;34m\u001b[0m\u001b[0m\n\u001b[0m",
      "\u001b[0;31mTypeError\u001b[0m: unsupported operand type(s) for /: 'str' and 'int'"
     ]
    }
   ],
   "source": [
    "str2 / 44"
   ]
  },
  {
   "cell_type": "code",
   "execution_count": 21,
   "metadata": {},
   "outputs": [
    {
     "data": {
      "text/plain": [
       "10.272727272727273"
      ]
     },
     "execution_count": 21,
     "metadata": {},
     "output_type": "execute_result"
    }
   ],
   "source": [
    "# we have to convert string to a number and then perform operations\n",
    "\n",
    "int(str2) / 44"
   ]
  },
  {
   "cell_type": "markdown",
   "metadata": {},
   "source": [
    "## List\n",
    "\n",
    "List is a sequence of items separated by commas and\n",
    "the items are enclosed in square brackets [ ]. Lists\n",
    "can be changed after creation (**mutable sequence**)"
   ]
  },
  {
   "cell_type": "code",
   "execution_count": 22,
   "metadata": {},
   "outputs": [
    {
     "name": "stdout",
     "output_type": "stream",
     "text": [
      "[5, 3.4, 'New Delhi', '20C', 45]\n",
      "<class 'list'>\n"
     ]
    }
   ],
   "source": [
    "# Create a list\n",
    "\n",
    "list1 = [5, 3.4, \"New Delhi\", \"20C\", 45]\n",
    "\n",
    "# print the list\n",
    "print(list1)\n",
    "\n",
    "print(type(list1))"
   ]
  },
  {
   "cell_type": "code",
   "execution_count": 23,
   "metadata": {},
   "outputs": [
    {
     "name": "stdout",
     "output_type": "stream",
     "text": [
      "New Delhi\n"
     ]
    }
   ],
   "source": [
    "# print the third element\n",
    "\n",
    "print(list1[2])"
   ]
  },
  {
   "cell_type": "code",
   "execution_count": 24,
   "metadata": {},
   "outputs": [
    {
     "name": "stdout",
     "output_type": "stream",
     "text": [
      "45\n"
     ]
    }
   ],
   "source": [
    "# print the last element\n",
    "\n",
    "print(list1[-1])"
   ]
  },
  {
   "cell_type": "markdown",
   "metadata": {},
   "source": [
    "## Tuple\n",
    "\n",
    "Tuple is a sequence of items separated by commas and\n",
    "items are enclosed in parenthesis ( ). This is unlike list,\n",
    "where values are enclosed in brackets [ ]. Once created,\n",
    "we cannot change the tuple (**immutable** sequence)"
   ]
  },
  {
   "cell_type": "code",
   "execution_count": 25,
   "metadata": {},
   "outputs": [
    {
     "name": "stdout",
     "output_type": "stream",
     "text": [
      "<class 'tuple'>\n"
     ]
    }
   ],
   "source": [
    "# create a tuple\n",
    "\n",
    "tuple1 = (10, 20, \"Apple\", 3.4, 'a')\n",
    "\n",
    "print(type(tuple1))"
   ]
  },
  {
   "cell_type": "code",
   "execution_count": 26,
   "metadata": {},
   "outputs": [
    {
     "name": "stdout",
     "output_type": "stream",
     "text": [
      "(10, 20, 'Apple', 3.4, 'a')\n"
     ]
    }
   ],
   "source": [
    "# print the tuple\n",
    "\n",
    "print(tuple1)"
   ]
  },
  {
   "cell_type": "code",
   "execution_count": 27,
   "metadata": {},
   "outputs": [
    {
     "name": "stdout",
     "output_type": "stream",
     "text": [
      "Apple\n"
     ]
    }
   ],
   "source": [
    "# print third element of the tuple\n",
    "\n",
    "print(tuple1[2])"
   ]
  },
  {
   "cell_type": "code",
   "execution_count": 28,
   "metadata": {},
   "outputs": [
    {
     "name": "stdout",
     "output_type": "stream",
     "text": [
      "a\n"
     ]
    }
   ],
   "source": [
    "# print the last element of the tuple\n",
    "\n",
    "print(tuple1[-1])"
   ]
  },
  {
   "cell_type": "markdown",
   "metadata": {},
   "source": [
    "## Set\n",
    "\n",
    "Set is an **unordered collection of unique items**.\n",
    "\n",
    "Syntactically Set is specified by items separated by commas\n",
    "and the items are enclosed in curly brackets { }. A set is\n",
    "similar to list, except that it cannot have duplicate entries."
   ]
  },
  {
   "cell_type": "code",
   "execution_count": 29,
   "metadata": {},
   "outputs": [
    {
     "name": "stdout",
     "output_type": "stream",
     "text": [
      "<class 'set'>\n",
      "{10, 3.14, 20, 'Chennai'}\n"
     ]
    }
   ],
   "source": [
    "# create a set\n",
    "\n",
    "set1 = { 10, 20, 3.14, \"Chennai\" }\n",
    "\n",
    "print(type(set1))\n",
    "\n",
    "print(set1)"
   ]
  },
  {
   "cell_type": "code",
   "execution_count": 30,
   "metadata": {},
   "outputs": [
    {
     "name": "stdout",
     "output_type": "stream",
     "text": [
      "{1, 2, 3}\n",
      "3\n"
     ]
    }
   ],
   "source": [
    "# no duplicate elements in a set\n",
    "\n",
    "set2 = { 1, 2, 1, 3 }\n",
    "\n",
    "print(set2)\n",
    "\n",
    "print(len(set2))"
   ]
  },
  {
   "cell_type": "markdown",
   "metadata": {},
   "source": [
    "## None\n",
    "\n",
    "None is a **special data type with a single value**. It is\n",
    "**used to signify the absence of value in a situation**. None\n",
    "supports no special operations, and it is neither False\n",
    "nor 0 (zero)."
   ]
  },
  {
   "cell_type": "code",
   "execution_count": 31,
   "metadata": {},
   "outputs": [
    {
     "name": "stdout",
     "output_type": "stream",
     "text": [
      "<class 'NoneType'>\n",
      "None\n"
     ]
    }
   ],
   "source": [
    "myVar = None\n",
    "\n",
    "print(type(myVar))\n",
    "\n",
    "print(myVar)"
   ]
  },
  {
   "cell_type": "markdown",
   "metadata": {},
   "source": [
    "## Mapping\n",
    "\n",
    "Mapping is an **unordered data type** that maps keys to values. Currently,\n",
    "there is only one standard mapping data type in Python\n",
    "called **dictionary**"
   ]
  },
  {
   "cell_type": "markdown",
   "metadata": {},
   "source": [
    "## Dictionary\n",
    "\n",
    "* Dictionary in Python holds data items in **key-value pairs.**\n",
    "\n",
    "* Syntactically items in a dictionary are **enclosed in curly brackets { }**\n",
    "\n",
    "* Dictionaries **permit faster access to data.**\n",
    "\n",
    "* Every **key is separated from its value using a colon (:) sign.** The key: value pairs of a dictionary can be accessed using the key. \n",
    "\n",
    "* The **keys are usually strings and their values can be any data type.**\n",
    "\n",
    "* In order **to access any value in the dictionary, we have to specify its key in square brackets [ ].**"
   ]
  },
  {
   "cell_type": "code",
   "execution_count": 32,
   "metadata": {},
   "outputs": [
    {
     "name": "stdout",
     "output_type": "stream",
     "text": [
      "{'Fruit': 'Apple', 'Climate': 'Cold', 'Price(kg)': 120}\n"
     ]
    }
   ],
   "source": [
    "# create a dictionary\n",
    "\n",
    "dict1 = { 'Fruit': 'Apple', 'Climate': 'Cold', 'Price(kg)': 120 }\n",
    "\n",
    "print(dict1)"
   ]
  },
  {
   "cell_type": "code",
   "execution_count": 33,
   "metadata": {},
   "outputs": [
    {
     "name": "stdout",
     "output_type": "stream",
     "text": [
      "<class 'dict'>\n"
     ]
    }
   ],
   "source": [
    "print(type(dict1))"
   ]
  },
  {
   "cell_type": "code",
   "execution_count": 34,
   "metadata": {},
   "outputs": [
    {
     "name": "stdout",
     "output_type": "stream",
     "text": [
      "120\n"
     ]
    }
   ],
   "source": [
    "print(dict1['Price(kg)'])"
   ]
  },
  {
   "cell_type": "code",
   "execution_count": 35,
   "metadata": {},
   "outputs": [
    {
     "name": "stdout",
     "output_type": "stream",
     "text": [
      "Apple\n"
     ]
    }
   ],
   "source": [
    "print(dict1['Fruit'])"
   ]
  }
 ],
 "metadata": {
  "kernelspec": {
   "display_name": "Python 3",
   "language": "python",
   "name": "python3"
  },
  "language_info": {
   "codemirror_mode": {
    "name": "ipython",
    "version": 3
   },
   "file_extension": ".py",
   "mimetype": "text/x-python",
   "name": "python",
   "nbconvert_exporter": "python",
   "pygments_lexer": "ipython3",
   "version": "3.7.6"
  }
 },
 "nbformat": 4,
 "nbformat_minor": 4
}
