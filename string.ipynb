{
 "cells": [
  {
   "cell_type": "markdown",
   "metadata": {},
   "source": [
    "## Python Strings"
   ]
  },
  {
   "cell_type": "markdown",
   "metadata": {},
   "source": [
    "**Python Strings are like immutable list of characters**\n",
    "\n",
    "Python strings are like (immutable) list of characters. Almost all list things will work for strings except the ones that modify/delete/append. You can modify individual characters of a given string or remove individual charaters. Also you cannot add more characters at either end. All string operators/methods that return a modified string return a new string"
   ]
  },
  {
   "cell_type": "code",
   "execution_count": 2,
   "metadata": {},
   "outputs": [
    {
     "data": {
      "text/plain": [
       "5"
      ]
     },
     "execution_count": 2,
     "metadata": {},
     "output_type": "execute_result"
    }
   ],
   "source": [
    "# strings are one or more characters enclosed within double or single quotes\n",
    "s = \"hello\"\n",
    "\n",
    "# length of the string\n",
    "len(s)"
   ]
  },
  {
   "cell_type": "code",
   "execution_count": 3,
   "metadata": {},
   "outputs": [
    {
     "data": {
      "text/plain": [
       "5"
      ]
     },
     "execution_count": 3,
     "metadata": {},
     "output_type": "execute_result"
    }
   ],
   "source": [
    "s = 'hello'\n",
    "len(s)"
   ]
  },
  {
   "cell_type": "markdown",
   "metadata": {},
   "source": [
    "## Mutliline strings"
   ]
  },
  {
   "cell_type": "code",
   "execution_count": 5,
   "metadata": {},
   "outputs": [
    {
     "name": "stdout",
     "output_type": "stream",
     "text": [
      "\n",
      "The quick brown fox jumps\n",
      "over the lazy dog\n",
      "\n",
      "45\n"
     ]
    }
   ],
   "source": [
    "# triple quotes can be used for multiline strings\n",
    "\n",
    "s = \"\"\"\n",
    "The quick brown fox jumps\n",
    "over the lazy dog\n",
    "\"\"\"\n",
    "\n",
    "print(s)\n",
    "print(len(s))"
   ]
  },
  {
   "cell_type": "markdown",
   "metadata": {},
   "source": [
    "## special characters after backslash\n",
    "\n",
    "* \\t for tab\n",
    "* \\n for newline\n"
   ]
  },
  {
   "cell_type": "code",
   "execution_count": 6,
   "metadata": {},
   "outputs": [
    {
     "name": "stdout",
     "output_type": "stream",
     "text": [
      "hello\tworld\n",
      "is the first program\n",
      "\n"
     ]
    }
   ],
   "source": [
    "\n",
    "s = \"hello\\tworld\\nis the first program\\n\"\n",
    "\n",
    "print(s)"
   ]
  },
  {
   "cell_type": "markdown",
   "metadata": {},
   "source": [
    "## raw strings\n",
    "\n",
    "sometimes we don't want special character escapes like \\t. In such cases we can use raw strings\n"
   ]
  },
  {
   "cell_type": "code",
   "execution_count": 8,
   "metadata": {},
   "outputs": [
    {
     "name": "stdout",
     "output_type": "stream",
     "text": [
      "hello\\tworld\\nis the first program\\n\n"
     ]
    }
   ],
   "source": [
    "s = r\"hello\\tworld\\nis the first program\\n\"\n",
    "print(s)"
   ]
  },
  {
   "cell_type": "markdown",
   "metadata": {},
   "source": [
    "## accessing individual characters in a string"
   ]
  },
  {
   "cell_type": "code",
   "execution_count": 10,
   "metadata": {},
   "outputs": [
    {
     "name": "stdout",
     "output_type": "stream",
     "text": [
      "j a v a\n"
     ]
    }
   ],
   "source": [
    "# indexed individual character access\n",
    "\n",
    "s = \"java\"\n",
    "\n",
    "# indexed access to individual characters\n",
    "# negative index means access from the end. Basically add len(s) to the negative index\n",
    "print(s[0], s[1], s[2], s[-1])"
   ]
  },
  {
   "cell_type": "markdown",
   "metadata": {},
   "source": [
    "## String character, substring membership"
   ]
  },
  {
   "cell_type": "code",
   "execution_count": 13,
   "metadata": {},
   "outputs": [
    {
     "name": "stdout",
     "output_type": "stream",
     "text": [
      "True\n"
     ]
    }
   ],
   "source": [
    "s = \"hello\"\n",
    "\n",
    "print(\"e\" in s)"
   ]
  },
  {
   "cell_type": "code",
   "execution_count": 14,
   "metadata": {},
   "outputs": [
    {
     "name": "stdout",
     "output_type": "stream",
     "text": [
      "False\n"
     ]
    }
   ],
   "source": [
    "print(\"w\" in s)"
   ]
  },
  {
   "cell_type": "code",
   "execution_count": 19,
   "metadata": {},
   "outputs": [
    {
     "name": "stdout",
     "output_type": "stream",
     "text": [
      "True\n",
      "True\n",
      "True\n",
      "False\n",
      "False\n"
     ]
    }
   ],
   "source": [
    "# in, not in operators check if a particular character or substring exists in a string\n",
    "\n",
    "s = \"The quick brown fox jumps over the lazy dog\"\n",
    "print(\"q\" in s)\n",
    "print(\"over\" in s)\n",
    "print(\"Fox\" not in s)\n",
    "print(\"jump\" not in s)\n",
    "print(\"p\" not in s)"
   ]
  },
  {
   "cell_type": "markdown",
   "metadata": {},
   "source": [
    "## slicing a string"
   ]
  },
  {
   "cell_type": "code",
   "execution_count": 17,
   "metadata": {},
   "outputs": [
    {
     "name": "stdout",
     "output_type": "stream",
     "text": [
      "java\n",
      "jvsrp\n",
      "tpircsavaj\n"
     ]
    }
   ],
   "source": [
    "\n",
    "s = \"javascript\"\n",
    "\n",
    "# [start, end)\n",
    "print(s[0:4])\n",
    "\n",
    "# [start, end) with step (default start is 0 and default stop is len(s))\n",
    "\n",
    "# every even index character only\n",
    "print(s[0::2])\n",
    "\n",
    "# when step is negative, start is len(s) and stop is 0\n",
    "# following reverses the string\n",
    "\n",
    "print(s[::-1])"
   ]
  },
  {
   "cell_type": "markdown",
   "metadata": {},
   "source": [
    "## iterating all characters of a string"
   ]
  },
  {
   "cell_type": "code",
   "execution_count": 18,
   "metadata": {},
   "outputs": [
    {
     "name": "stdout",
     "output_type": "stream",
     "text": [
      "h\n",
      "e\n",
      "l\n",
      "l\n",
      "o\n"
     ]
    }
   ],
   "source": [
    "# iterator each character of the string\n",
    "\n",
    "for i in \"hello\":\n",
    "    print(i)"
   ]
  },
  {
   "cell_type": "markdown",
   "metadata": {},
   "source": [
    "## Splitting a string into a list of strings"
   ]
  },
  {
   "cell_type": "code",
   "execution_count": 21,
   "metadata": {},
   "outputs": [
    {
     "name": "stdout",
     "output_type": "stream",
     "text": [
      "<class 'list'>\n",
      "['The', 'quick', 'brown', 'fox', 'jumps', 'over', 'the', 'lazy', 'dog']\n",
      "['2', '66', '77']\n"
     ]
    }
   ],
   "source": [
    "s = \"The quick brown fox jumps over the lazy dog\"\n",
    "\n",
    "words = s.split()\n",
    "print(type(words))\n",
    "print(words)\n",
    "\n",
    "# by default split splits on blank character. But we can pass\n",
    "# a different separator to split\n",
    "\n",
    "s = \"2,66,77\"\n",
    "print(s.split(\",\"))"
   ]
  },
  {
   "cell_type": "markdown",
   "metadata": {},
   "source": [
    "## String concatenation, repetition"
   ]
  },
  {
   "cell_type": "code",
   "execution_count": 22,
   "metadata": {},
   "outputs": [
    {
     "name": "stdout",
     "output_type": "stream",
     "text": [
      "helloworld\n",
      "hellohellohellohellohello\n",
      "worldworldworldworldworldworldworldworldworldworld\n"
     ]
    }
   ],
   "source": [
    "h = \"hello\"\n",
    "w = \"world\"\n",
    "\n",
    "# add two strings to create a new concatenated string\n",
    "print(h + w)\n",
    "\n",
    "# multiply an integer with string \n",
    "print(5 * h)\n",
    "\n",
    "# multiply a sting with integer \n",
    "print(w * 10)"
   ]
  },
  {
   "cell_type": "markdown",
   "metadata": {},
   "source": [
    "## Find and replace a substring to create a new string"
   ]
  },
  {
   "cell_type": "code",
   "execution_count": 23,
   "metadata": {},
   "outputs": [
    {
     "name": "stdout",
     "output_type": "stream",
     "text": [
      "The quick brown lion jumps over the lazy dog\n",
      "The quick brown fox jumps over the lazy dog\n",
      "weed is a weed is a weed\n",
      "rose is a rose is a rose\n"
     ]
    }
   ],
   "source": [
    "# use replace to a substring with another string\n",
    "\n",
    "s = \"The quick brown lion jumps over the lazy dog\"\n",
    "print(s)\n",
    "\n",
    "# oops! That's fox and not lion. Replace it!\n",
    "print(s.replace(\"lion\", \"fox\"))\n",
    "\n",
    "# multiple replaces\n",
    "s = \"weed is a weed is a weed\"\n",
    "print(s)\n",
    "\n",
    "# oops! that is not weed but rose!\n",
    "print(s.replace(\"weed\", \"rose\"))"
   ]
  },
  {
   "cell_type": "markdown",
   "metadata": {},
   "source": [
    "## String partition method\n",
    "\n",
    "Split the string at the first occurrence of sep, and return a 3-tuple containing the part before the separator, \n",
    "the separator itself, and the part after the separator. If the separator is not found, return a 3-tuple containing\n",
    "the string itself, followed by two empty strings.\n"
   ]
  },
  {
   "cell_type": "code",
   "execution_count": 30,
   "metadata": {},
   "outputs": [
    {
     "name": "stdout",
     "output_type": "stream",
     "text": [
      "('I could eat ', 'idlies', ' all day')\n"
     ]
    }
   ],
   "source": [
    "text = \"I could eat idlies all day\"\n",
    "\n",
    "x = text.partition(\"idlies\")\n",
    "\n",
    "print(x) "
   ]
  },
  {
   "cell_type": "markdown",
   "metadata": {},
   "source": [
    "## String count method\n",
    "\n",
    "Return the number of times a given string appears within another string"
   ]
  },
  {
   "cell_type": "code",
   "execution_count": 31,
   "metadata": {},
   "outputs": [
    {
     "name": "stdout",
     "output_type": "stream",
     "text": [
      "3\n"
     ]
    }
   ],
   "source": [
    "s = \"rose is a rose is a rose\"\n",
    "print(s.count(\"rose\"))"
   ]
  },
  {
   "cell_type": "markdown",
   "metadata": {},
   "source": [
    "## String index method\n",
    "\n",
    "finds the first occurrence of the specified substring in a string."
   ]
  },
  {
   "cell_type": "code",
   "execution_count": 34,
   "metadata": {},
   "outputs": [
    {
     "name": "stdout",
     "output_type": "stream",
     "text": [
      "6\n",
      "12\n"
     ]
    },
    {
     "ename": "ValueError",
     "evalue": "substring not found",
     "output_type": "error",
     "traceback": [
      "\u001b[0;31m---------------------------------------------------------------------------\u001b[0m",
      "\u001b[0;31mValueError\u001b[0m                                Traceback (most recent call last)",
      "\u001b[0;32m<ipython-input-34-7db61bc3431f>\u001b[0m in \u001b[0;36m<module>\u001b[0;34m\u001b[0m\n\u001b[1;32m      3\u001b[0m \u001b[0mprint\u001b[0m\u001b[0;34m(\u001b[0m\u001b[0ms\u001b[0m\u001b[0;34m.\u001b[0m\u001b[0mindex\u001b[0m\u001b[0;34m(\u001b[0m\u001b[0;34m\"brown\"\u001b[0m\u001b[0;34m)\u001b[0m\u001b[0;34m)\u001b[0m\u001b[0;34m\u001b[0m\u001b[0;34m\u001b[0m\u001b[0m\n\u001b[1;32m      4\u001b[0m \u001b[0mprint\u001b[0m\u001b[0;34m(\u001b[0m\u001b[0ms\u001b[0m\u001b[0;34m.\u001b[0m\u001b[0mindex\u001b[0m\u001b[0;34m(\u001b[0m\u001b[0;34m\"f\"\u001b[0m\u001b[0;34m)\u001b[0m\u001b[0;34m)\u001b[0m\u001b[0;34m\u001b[0m\u001b[0;34m\u001b[0m\u001b[0m\n\u001b[0;32m----> 5\u001b[0;31m \u001b[0mprint\u001b[0m\u001b[0;34m(\u001b[0m\u001b[0ms\u001b[0m\u001b[0;34m.\u001b[0m\u001b[0mindex\u001b[0m\u001b[0;34m(\u001b[0m\u001b[0;34m\"horse\"\u001b[0m\u001b[0;34m)\u001b[0m\u001b[0;34m)\u001b[0m\u001b[0;34m\u001b[0m\u001b[0;34m\u001b[0m\u001b[0m\n\u001b[0m",
      "\u001b[0;31mValueError\u001b[0m: substring not found"
     ]
    }
   ],
   "source": [
    "s = \"quick brown fox\"\n",
    "\n",
    "print(s.index(\"brown\"))\n",
    "print(s.index(\"f\"))\n",
    "print(s.index(\"horse\"))"
   ]
  },
  {
   "cell_type": "markdown",
   "metadata": {},
   "source": [
    "## String character case related methods"
   ]
  },
  {
   "cell_type": "code",
   "execution_count": 24,
   "metadata": {},
   "outputs": [
    {
     "name": "stdout",
     "output_type": "stream",
     "text": [
      "JAVA\n",
      "java\n",
      "False\n",
      "False\n"
     ]
    }
   ],
   "source": [
    "# upper, lower, isupper, islower\n",
    "s = \"Java\"\n",
    "\n",
    "# upper returns all uppercase version\n",
    "print(s.upper())\n",
    "\n",
    "# lower returns all lowercase version\n",
    "print(s.lower())\n",
    "\n",
    "# check if it is all lowercase\n",
    "print(s.islower())\n",
    "\n",
    "# check if it is all uppercase\n",
    "print(s.isupper())"
   ]
  },
  {
   "cell_type": "code",
   "execution_count": 25,
   "metadata": {},
   "outputs": [
    {
     "name": "stdout",
     "output_type": "stream",
     "text": [
      "Java\n"
     ]
    }
   ],
   "source": [
    "s = \"java\"\n",
    "# return a new string with first char in uppercase\n",
    "print(s.capitalize())"
   ]
  },
  {
   "cell_type": "code",
   "execution_count": 27,
   "metadata": {},
   "outputs": [
    {
     "data": {
      "text/plain": [
       "'Hello World'"
      ]
     },
     "execution_count": 27,
     "metadata": {},
     "output_type": "execute_result"
    }
   ],
   "source": [
    "s = \"hello world\"\n",
    "\n",
    "# capitalize every word in a string\n",
    "s.title()"
   ]
  },
  {
   "cell_type": "markdown",
   "metadata": {},
   "source": [
    "## Checking for digit, alphabetic, alphanumeric characters"
   ]
  },
  {
   "cell_type": "code",
   "execution_count": 28,
   "metadata": {},
   "outputs": [
    {
     "name": "stdout",
     "output_type": "stream",
     "text": [
      "False\n",
      "True\n",
      "True\n",
      "False\n",
      "True\n",
      "True\n",
      "False\n"
     ]
    }
   ],
   "source": [
    "s = \"foobar\"\n",
    "d = \"4353454\"\n",
    "\n",
    "# are all characters digits?\n",
    "print(s.isdigit())\n",
    "print(d.isdigit())\n",
    "\n",
    "# are all characters alphabetic?\n",
    "print(s.isalpha())\n",
    "print(d.isalpha())\n",
    "\n",
    "# are all characters alphanumeric?\n",
    "print(s.isalnum())\n",
    "print(d.isalnum())\n",
    "\n",
    "# email id has '@' and so not alphanumeric!\n",
    "print(\"ani@exmaple.com\".isalnum())"
   ]
  },
  {
   "cell_type": "markdown",
   "metadata": {},
   "source": [
    "## strip whitespace characters"
   ]
  },
  {
   "cell_type": "code",
   "execution_count": 29,
   "metadata": {},
   "outputs": [
    {
     "name": "stdout",
     "output_type": "stream",
     "text": [
      "    hello    \n",
      "13\n",
      "after lstrip: hello    .\n",
      "9\n",
      "after rstrip:     hello.\n",
      "9\n",
      "after strip: hello.\n",
      "5\n"
     ]
    }
   ],
   "source": [
    "s = \"    hello    \"\n",
    "\n",
    "print(s)\n",
    "print(len(s))\n",
    "\n",
    "# create a new string with left spaces removed\n",
    "# add \".\" at the end to visualize that right spaces are intact\n",
    "print(\"after lstrip:\", s.lstrip() + \".\")\n",
    "print(len(s.lstrip()))\n",
    "\n",
    "# create a new string with right spaces removed\n",
    "print(\"after rstrip:\", s.rstrip() + \".\")\n",
    "print(len(s.rstrip()))\n",
    "\n",
    "# strip spaces from both left and right ends\n",
    "print(\"after strip:\", s.strip() + \".\")\n",
    "print(len(s.strip()))"
   ]
  },
  {
   "cell_type": "code",
   "execution_count": null,
   "metadata": {},
   "outputs": [],
   "source": []
  }
 ],
 "metadata": {
  "kernelspec": {
   "display_name": "Python 3",
   "language": "python",
   "name": "python3"
  },
  "language_info": {
   "codemirror_mode": {
    "name": "ipython",
    "version": 3
   },
   "file_extension": ".py",
   "mimetype": "text/x-python",
   "name": "python",
   "nbconvert_exporter": "python",
   "pygments_lexer": "ipython3",
   "version": "3.7.6"
  }
 },
 "nbformat": 4,
 "nbformat_minor": 4
}
