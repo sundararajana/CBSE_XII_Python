{
 "cells": [
  {
   "cell_type": "markdown",
   "metadata": {},
   "source": [
    "## Python Functions\n",
    "\n",
    "Function is a reusable code that is called from many places. Arguments may be passed to a function. A function executes one or more statements (in the function definition) and optionally returns a value. The return value then is passed back to the caller of the function. If there is no return value or return statement without expression is used, then a special None value is returned. None value is unqiue value of type called NoneType. \n",
    "\n",
    "Python functions are defined with **def** keyword. A function can be defined to receive zero or more parameters. The callers will pass arguments for the parameters of the function.\n",
    "\n",
    "```python\n",
    "    # function definition\n",
    "    def func_name(param1, param2, param3):\n",
    "        statements\n",
    "        return expression\n",
    "    \n",
    "    # function call\n",
    "    func_name(arg1, arg2, arg3)\n",
    "```"
   ]
  },
  {
   "cell_type": "markdown",
   "metadata": {},
   "source": [
    "## function definition before use"
   ]
  },
  {
   "cell_type": "code",
   "execution_count": 1,
   "metadata": {},
   "outputs": [
    {
     "ename": "NameError",
     "evalue": "name 'hello' is not defined",
     "output_type": "error",
     "traceback": [
      "\u001b[0;31m---------------------------------------------------------------------------\u001b[0m",
      "\u001b[0;31mNameError\u001b[0m                                 Traceback (most recent call last)",
      "\u001b[0;32m<ipython-input-1-6e949b0e7d0e>\u001b[0m in \u001b[0;36m<module>\u001b[0;34m\u001b[0m\n\u001b[0;32m----> 1\u001b[0;31m \u001b[0mhello\u001b[0m\u001b[0;34m(\u001b[0m\u001b[0;34m)\u001b[0m\u001b[0;34m\u001b[0m\u001b[0;34m\u001b[0m\u001b[0m\n\u001b[0m\u001b[1;32m      2\u001b[0m \u001b[0;34m\u001b[0m\u001b[0m\n\u001b[1;32m      3\u001b[0m \u001b[0;31m# function must be defined before it is used\u001b[0m\u001b[0;34m\u001b[0m\u001b[0;34m\u001b[0m\u001b[0;34m\u001b[0m\u001b[0m\n\u001b[1;32m      4\u001b[0m \u001b[0;32mdef\u001b[0m \u001b[0mhello\u001b[0m\u001b[0;34m(\u001b[0m\u001b[0;34m)\u001b[0m\u001b[0;34m:\u001b[0m\u001b[0;34m\u001b[0m\u001b[0;34m\u001b[0m\u001b[0m\n\u001b[1;32m      5\u001b[0m     \u001b[0mprint\u001b[0m\u001b[0;34m(\u001b[0m\u001b[0;34m\"hello\"\u001b[0m\u001b[0;34m)\u001b[0m\u001b[0;34m\u001b[0m\u001b[0;34m\u001b[0m\u001b[0m\n",
      "\u001b[0;31mNameError\u001b[0m: name 'hello' is not defined"
     ]
    }
   ],
   "source": [
    "hello()\n",
    "\n",
    "# function must be defined before it is used\n",
    "def hello():\n",
    "    print(\"hello\")"
   ]
  },
  {
   "cell_type": "markdown",
   "metadata": {},
   "source": [
    "## function definition and call"
   ]
  },
  {
   "cell_type": "code",
   "execution_count": 2,
   "metadata": {},
   "outputs": [],
   "source": [
    "# simple square sum function\n",
    "\n",
    "# two parameters x, y\n",
    "def sum_of_squares(x, y):\n",
    "    # compute and return\n",
    "    return x**2 + y**2"
   ]
  },
  {
   "cell_type": "code",
   "execution_count": 3,
   "metadata": {},
   "outputs": [
    {
     "data": {
      "text/plain": [
       "25"
      ]
     },
     "execution_count": 3,
     "metadata": {},
     "output_type": "execute_result"
    }
   ],
   "source": [
    "# call the function defined above\n",
    "\n",
    "# pass arguments 3, 4 for x, y respectively\n",
    "sum_of_squares(3, 4)"
   ]
  },
  {
   "cell_type": "markdown",
   "metadata": {},
   "source": [
    "## Named argument passing for functions\n",
    "\n",
    "A caller can pass arguments to a function by position or by names"
   ]
  },
  {
   "cell_type": "code",
   "execution_count": 4,
   "metadata": {},
   "outputs": [
    {
     "data": {
      "text/plain": [
       "20"
      ]
     },
     "execution_count": 4,
     "metadata": {},
     "output_type": "execute_result"
    }
   ],
   "source": [
    "sum_of_squares(x = 4, y = 2)"
   ]
  },
  {
   "cell_type": "code",
   "execution_count": 5,
   "metadata": {},
   "outputs": [
    {
     "data": {
      "text/plain": [
       "20"
      ]
     },
     "execution_count": 5,
     "metadata": {},
     "output_type": "execute_result"
    }
   ],
   "source": [
    "# when using named argument passing style, order does not matter.\n",
    "\n",
    "sum_of_squares(y = 2, x = 4)"
   ]
  },
  {
   "cell_type": "code",
   "execution_count": 6,
   "metadata": {},
   "outputs": [
    {
     "name": "stdout",
     "output_type": "stream",
     "text": [
      "[4, 6, 7]\n",
      "['hello', 6, 7]\n"
     ]
    }
   ],
   "source": [
    "# function can change mutable values passed to it.\n",
    "\n",
    "def func(s):\n",
    "    s[0] = \"hello\"\n",
    "    return\n",
    "    \n",
    "d = [4, 6, 7]\n",
    "print(d)\n",
    "func(d)\n",
    "print(d)"
   ]
  },
  {
   "cell_type": "markdown",
   "metadata": {},
   "source": [
    "## Default values for arguments\n",
    "\n",
    "A function can define default values for zero or more parameters. When calling such a function, caller may optionally omit arguments for defaulted parameters.\n",
    "\n",
    "```python\n",
    "\n",
    "    def power(x, n = 2):\n",
    "        return x**n\n",
    "    \n",
    "    power(10, 4)\n",
    "    power(10); // n = 2\n",
    "```"
   ]
  },
  {
   "cell_type": "code",
   "execution_count": 7,
   "metadata": {},
   "outputs": [
    {
     "name": "stdout",
     "output_type": "stream",
     "text": [
      "512\n",
      "100\n",
      "17\n",
      "245\n"
     ]
    }
   ],
   "source": [
    "def power(x, n = 2):\n",
    "    return x**n\n",
    "\n",
    "print(power(8, 3))\n",
    "print(power(10))\n",
    "\n",
    "# example from Python global int conversion function\n",
    "\n",
    "print(int(\"17\"))\n",
    "\n",
    "# second 'base' parameter for int function is defaulted to be 10 (decimal)!\n",
    "print(int(\"365\", 8))"
   ]
  },
  {
   "cell_type": "markdown",
   "metadata": {},
   "source": [
    "## Some limitatins with default values\n",
    "\n",
    "    * defaults are computed when function is defined.\n",
    "    => default values cannot depend on the value of other function parameters!!\n",
    "\n",
    "```python\n",
    "        # This does not work! len(seq) cannot be computed when the functin is defined!\n",
    "        def func(seq, n = len(seq)):\n",
    "                 statements\n",
    "```\n",
    "\n",
    "    * defaults cannot be specified only for initial parameters. If you specified default\n",
    "    value for the parameter position N, you should define defaults for all the \n",
    "    subsequent positions N+1, N+2 ..etc.\n",
    "    \n",
    "```python\n",
    "        # This does not work. Must specify default for y as well\n",
    "        def func(x = 10, y):\n",
    "            statements\n",
    "```"
   ]
  },
  {
   "cell_type": "markdown",
   "metadata": {},
   "source": [
    "## local scope of a function"
   ]
  },
  {
   "cell_type": "code",
   "execution_count": 8,
   "metadata": {},
   "outputs": [
    {
     "name": "stdout",
     "output_type": "stream",
     "text": [
      "hello\n"
     ]
    },
    {
     "ename": "NameError",
     "evalue": "name 'localx' is not defined",
     "output_type": "error",
     "traceback": [
      "\u001b[0;31m---------------------------------------------------------------------------\u001b[0m",
      "\u001b[0;31mNameError\u001b[0m                                 Traceback (most recent call last)",
      "\u001b[0;32m<ipython-input-8-60235cda3d0b>\u001b[0m in \u001b[0;36m<module>\u001b[0;34m\u001b[0m\n\u001b[1;32m      6\u001b[0m \u001b[0;34m\u001b[0m\u001b[0m\n\u001b[1;32m      7\u001b[0m \u001b[0mfunc\u001b[0m\u001b[0;34m(\u001b[0m\u001b[0;34m)\u001b[0m\u001b[0;34m\u001b[0m\u001b[0;34m\u001b[0m\u001b[0m\n\u001b[0;32m----> 8\u001b[0;31m \u001b[0mprint\u001b[0m\u001b[0;34m(\u001b[0m\u001b[0mlocalx\u001b[0m\u001b[0;34m)\u001b[0m\u001b[0;34m\u001b[0m\u001b[0;34m\u001b[0m\u001b[0m\n\u001b[0m",
      "\u001b[0;31mNameError\u001b[0m: name 'localx' is not defined"
     ]
    }
   ],
   "source": [
    "# function introduces a scope. The variables defined inside a function cannot be accessed outside the function\n",
    "\n",
    "def func():\n",
    "    localx = \"hello\"\n",
    "    print(localx)\n",
    "    \n",
    "func()\n",
    "print(localx)"
   ]
  },
  {
   "cell_type": "code",
   "execution_count": 9,
   "metadata": {},
   "outputs": [
    {
     "name": "stdout",
     "output_type": "stream",
     "text": [
      "hello\n",
      "55\n"
     ]
    }
   ],
   "source": [
    "x = 55\n",
    "\n",
    "# function when assigns to x, it introduces new x in local scope\n",
    "def func():\n",
    "    # this is *not* global x. This is local x\n",
    "    x = \"hello\"\n",
    "    print(x)\n",
    "    \n",
    "func()\n",
    "# global x is still 55\n",
    "print(x)\n",
    "    \n"
   ]
  },
  {
   "cell_type": "code",
   "execution_count": 10,
   "metadata": {},
   "outputs": [
    {
     "name": "stdout",
     "output_type": "stream",
     "text": [
      "55\n"
     ]
    }
   ],
   "source": [
    "x = 55\n",
    "def func():\n",
    "    # no local x defined now. Uses global x\n",
    "    print(x)\n",
    "    \n",
    "func()"
   ]
  },
  {
   "cell_type": "markdown",
   "metadata": {},
   "source": [
    "## CBSE Comptt exam (2020) Computer Science (91C)\n",
    "\n",
    "Write the output of the following Python code :\n",
    "    \n",
    "```python\n",
    "def Update(X=10):\n",
    "    X += 15\n",
    "    print('X = ', X)\n",
    "\n",
    "X = 20\n",
    "Update()\n",
    "print('X = ', X)\n",
    "```"
   ]
  },
  {
   "cell_type": "code",
   "execution_count": 3,
   "metadata": {},
   "outputs": [
    {
     "name": "stdout",
     "output_type": "stream",
     "text": [
      "X =  25\n",
      "X =  20\n"
     ]
    }
   ],
   "source": [
    "def Update(X = 10):\n",
    "    X += 15\n",
    "    print('X = ', X)\n",
    "\n",
    "X = 20\n",
    "Update()\n",
    "print('X = ', X)"
   ]
  },
  {
   "cell_type": "markdown",
   "metadata": {},
   "source": [
    "## Assigning to a global variable inside a function\n",
    "\n",
    "**Optional: The following video from NPTEL Python course by Prof. Mukund Madhavan**\n",
    "\n",
    "[Global scope, nested functions](https://youtu.be/v2MUlo-JuT4)"
   ]
  },
  {
   "cell_type": "code",
   "execution_count": 11,
   "metadata": {},
   "outputs": [
    {
     "name": "stdout",
     "output_type": "stream",
     "text": [
      "x before call 45\n",
      "x after call 899\n"
     ]
    }
   ],
   "source": [
    "# if a function wants to assign to a global variable (why?), it has to say it is global x first\n",
    "\n",
    "x = 45\n",
    "def func():\n",
    "    # global keyword tells that the function is uses global x\n",
    "    # Generally a bad idea to update global variables from many functions.\n",
    "    # Hard to track/debug such a program!\n",
    "    global x\n",
    "    \n",
    "    # the assignment here does not introduce a new local x. \n",
    "    # This assigns to global variable x\n",
    "    x = 899\n",
    "\n",
    "print(\"x before call\", x)\n",
    "func()\n",
    "print(\"x after call\", x)"
   ]
  },
  {
   "cell_type": "markdown",
   "metadata": {},
   "source": [
    "## CBSE Sample Question Paper (2020-21) Computer Science (083)\n",
    "\n",
    "Explain the use of **global keyword** used in a function with the help of a suitable example."
   ]
  },
  {
   "cell_type": "markdown",
   "metadata": {},
   "source": [
    "In Python, global keyword allows the programmer to modify the variable outside the current scope. \n",
    "It is used to create a global variable and make changes to the variable in local context. \n",
    "A variable declared inside a function is by default local and a variable declared outside the function\n",
    "is global by default. The keyword global is written inside the function to use its global value. \n",
    "Outside the function, global keyword has no effect.\n",
    "\n",
    "\n",
    "Example\n",
    "\n",
    "```python\n",
    "c = 10 # global variable\n",
    "print(c)\n",
    "\n",
    "def add():\n",
    "    global c\n",
    "    c = c + 2 # global value of c is incremented by 2\n",
    "\n",
    "print(\"Inside add():\", c)\n",
    "add()\n",
    "\n",
    "c = 15\n",
    "print(\"In main:\", c)\n",
    "```"
   ]
  },
  {
   "cell_type": "code",
   "execution_count": 1,
   "metadata": {},
   "outputs": [
    {
     "name": "stdout",
     "output_type": "stream",
     "text": [
      "10\n",
      "Inside add(): 12\n",
      "In main: 15\n"
     ]
    }
   ],
   "source": [
    "c = 10 # global variable\n",
    "print(c)\n",
    "\n",
    "def add():\n",
    "    global c\n",
    "    c = c + 2 # global value of c is incremented by 2\n",
    "    print(\"Inside add():\", c)\n",
    "    \n",
    "add()\n",
    "\n",
    "c = 15\n",
    "print(\"In main:\", c)"
   ]
  },
  {
   "cell_type": "markdown",
   "metadata": {},
   "source": [
    "## CBSE Sample Question Paper (2020-21) Computer Science (083)\n",
    "\n",
    "Differentiate between **actual parameter(s)** and a **formal parameter(s)** with a suitable example for each."
   ]
  },
  {
   "cell_type": "markdown",
   "metadata": {},
   "source": [
    "The list of identifiers used in a function call is called actual parameter(s) whereas the list of parameters used in the function definition is called formal parameter(s).\n",
    "\n",
    "Actual parameter may be value / variable or expression.Formal parameter is an identifier.\n",
    "\n",
    "\n",
    "Example:\n",
    "\n",
    "```python\n",
    "def area(side): # line 1\n",
    "    return side*side;\n",
    "\n",
    "print(area(5)) # line 2\n",
    "\n",
    "```\n",
    "In line 1, side is the formal parameter and in line 2, while invoking area() function,\n",
    "the value 5 is the actual parameter.\n",
    "\n",
    "A formal parameter, i.e. a parameter, is in the function definition. An actual parameter, i.e. an argument, is in a function call."
   ]
  },
  {
   "cell_type": "markdown",
   "metadata": {},
   "source": [
    "## No return value from a function\n",
    "\n",
    "A function may not use a return statement or may have a return statement with no value. In either case, the function returns None. This no return or return None functions are equivalent to \"void\" returning functions in C, C++ or Java."
   ]
  },
  {
   "cell_type": "code",
   "execution_count": 12,
   "metadata": {},
   "outputs": [
    {
     "data": {
      "text/plain": [
       "NoneType"
      ]
     },
     "execution_count": 12,
     "metadata": {},
     "output_type": "execute_result"
    }
   ],
   "source": [
    "type(None)"
   ]
  },
  {
   "cell_type": "code",
   "execution_count": 13,
   "metadata": {},
   "outputs": [
    {
     "name": "stdout",
     "output_type": "stream",
     "text": [
      "None\n"
     ]
    }
   ],
   "source": [
    "def func():\n",
    "    # return statement but no value in it\n",
    "    return\n",
    "\n",
    "# None is returned.\n",
    "print(func())"
   ]
  },
  {
   "cell_type": "code",
   "execution_count": 14,
   "metadata": {},
   "outputs": [
    {
     "name": "stdout",
     "output_type": "stream",
     "text": [
      "None\n"
     ]
    }
   ],
   "source": [
    "# no return statement\n",
    "def func():\n",
    "    pass\n",
    "\n",
    "# still None is returned\n",
    "print(func())"
   ]
  },
  {
   "cell_type": "code",
   "execution_count": 15,
   "metadata": {},
   "outputs": [
    {
     "name": "stdout",
     "output_type": "stream",
     "text": [
      "func returned None\n"
     ]
    }
   ],
   "source": [
    "# None evaluates as False when used in contexts where bool is expected\n",
    "\n",
    "if func():\n",
    "    print(\"func returned something\")\n",
    "else:\n",
    "    print(\"func returned None\")"
   ]
  },
  {
   "cell_type": "markdown",
   "metadata": {},
   "source": [
    "## Recursive functions\n",
    "\n",
    "Recursive function is a function that calls itself. Usually the function handles \"base case(s)\" without any recursive call. It calls itself on \"simpler\" version of the same problem. The recursive call should be \"reduced or smaller\" case. The following conditions must be satisfied for a good recursive function:\n",
    "\n",
    "    1. base case(s) without recursion \n",
    "    2. recursive call on smaller/simpler/reduced input\n",
    "    \n",
    "Without these conditions, the recusive function will lead to \"infinite recursion\".\n",
    "\n",
    "Advantages of recursion:\n",
    "\n",
    "    1. code is simple/clean to read and understand\n",
    "    2. code is usually compact\n",
    "    \n",
    "Disadvantages of recursion:\n",
    "\n",
    "    1. A function call is always costlier than a loop (call instruction is costly compared \n",
    "    to conditional jump). An iterative version avoids calls.\n",
    "       \n",
    "    2. each recursive call requires additional processor stack space. (more memory). \n",
    "    Iterative version uses same space"
   ]
  },
  {
   "cell_type": "markdown",
   "metadata": {},
   "source": [
    "## bad recursion example"
   ]
  },
  {
   "cell_type": "code",
   "execution_count": 16,
   "metadata": {},
   "outputs": [
    {
     "ename": "RecursionError",
     "evalue": "maximum recursion depth exceeded",
     "output_type": "error",
     "traceback": [
      "\u001b[0;31m---------------------------------------------------------------------------\u001b[0m",
      "\u001b[0;31mRecursionError\u001b[0m                            Traceback (most recent call last)",
      "\u001b[0;32m<ipython-input-16-3c45221d216c>\u001b[0m in \u001b[0;36m<module>\u001b[0;34m\u001b[0m\n\u001b[1;32m      9\u001b[0m     \u001b[0mfunc\u001b[0m\u001b[0;34m(\u001b[0m\u001b[0;34m)\u001b[0m\u001b[0;34m\u001b[0m\u001b[0;34m\u001b[0m\u001b[0m\n\u001b[1;32m     10\u001b[0m \u001b[0;34m\u001b[0m\u001b[0m\n\u001b[0;32m---> 11\u001b[0;31m \u001b[0mfunc\u001b[0m\u001b[0;34m(\u001b[0m\u001b[0;34m)\u001b[0m\u001b[0;34m\u001b[0m\u001b[0;34m\u001b[0m\u001b[0m\n\u001b[0m",
      "\u001b[0;32m<ipython-input-16-3c45221d216c>\u001b[0m in \u001b[0;36mfunc\u001b[0;34m()\u001b[0m\n\u001b[1;32m      7\u001b[0m     \u001b[0;31m# no base case. Infinite recursion\u001b[0m\u001b[0;34m\u001b[0m\u001b[0;34m\u001b[0m\u001b[0;34m\u001b[0m\u001b[0m\n\u001b[1;32m      8\u001b[0m     \u001b[0;31m# we get RecursionError: maximum recursion depth exceeded\u001b[0m\u001b[0;34m\u001b[0m\u001b[0;34m\u001b[0m\u001b[0;34m\u001b[0m\u001b[0m\n\u001b[0;32m----> 9\u001b[0;31m     \u001b[0mfunc\u001b[0m\u001b[0;34m(\u001b[0m\u001b[0;34m)\u001b[0m\u001b[0;34m\u001b[0m\u001b[0;34m\u001b[0m\u001b[0m\n\u001b[0m\u001b[1;32m     10\u001b[0m \u001b[0;34m\u001b[0m\u001b[0m\n\u001b[1;32m     11\u001b[0m \u001b[0mfunc\u001b[0m\u001b[0;34m(\u001b[0m\u001b[0;34m)\u001b[0m\u001b[0;34m\u001b[0m\u001b[0;34m\u001b[0m\u001b[0m\n",
      "... last 1 frames repeated, from the frame below ...\n",
      "\u001b[0;32m<ipython-input-16-3c45221d216c>\u001b[0m in \u001b[0;36mfunc\u001b[0;34m()\u001b[0m\n\u001b[1;32m      7\u001b[0m     \u001b[0;31m# no base case. Infinite recursion\u001b[0m\u001b[0;34m\u001b[0m\u001b[0;34m\u001b[0m\u001b[0;34m\u001b[0m\u001b[0m\n\u001b[1;32m      8\u001b[0m     \u001b[0;31m# we get RecursionError: maximum recursion depth exceeded\u001b[0m\u001b[0;34m\u001b[0m\u001b[0;34m\u001b[0m\u001b[0;34m\u001b[0m\u001b[0m\n\u001b[0;32m----> 9\u001b[0;31m     \u001b[0mfunc\u001b[0m\u001b[0;34m(\u001b[0m\u001b[0;34m)\u001b[0m\u001b[0;34m\u001b[0m\u001b[0;34m\u001b[0m\u001b[0m\n\u001b[0m\u001b[1;32m     10\u001b[0m \u001b[0;34m\u001b[0m\u001b[0m\n\u001b[1;32m     11\u001b[0m \u001b[0mfunc\u001b[0m\u001b[0;34m(\u001b[0m\u001b[0;34m)\u001b[0m\u001b[0;34m\u001b[0m\u001b[0;34m\u001b[0m\u001b[0m\n",
      "\u001b[0;31mRecursionError\u001b[0m: maximum recursion depth exceeded"
     ]
    }
   ],
   "source": [
    "# The following shows a simple infinite recursion.\n",
    "# Note that real world programs can hit infinite recursion because\n",
    "# the recursive case is on *same sized* input rather than on *reduced* sized input.\n",
    "# The following takes sometime. Wait till [*] symbol against this cell disappears!\n",
    "\n",
    "def func():\n",
    "    # no base case. Infinite recursion\n",
    "    # we get RecursionError: maximum recursion depth exceeded\n",
    "    func()\n",
    "\n",
    "func()"
   ]
  },
  {
   "cell_type": "markdown",
   "metadata": {},
   "source": [
    "## factorial example"
   ]
  },
  {
   "cell_type": "code",
   "execution_count": 17,
   "metadata": {},
   "outputs": [],
   "source": [
    "def factorial(n):\n",
    "    # base/simple cases\n",
    "    if n == 0 or n == 1:\n",
    "        return 1\n",
    "    else:\n",
    "        # recursive call for n - 1 (reduced or simpler input)\n",
    "        return n * factorial(n-1)\n"
   ]
  },
  {
   "cell_type": "code",
   "execution_count": 18,
   "metadata": {},
   "outputs": [
    {
     "data": {
      "text/plain": [
       "24"
      ]
     },
     "execution_count": 18,
     "metadata": {},
     "output_type": "execute_result"
    }
   ],
   "source": [
    "factorial(4)"
   ]
  },
  {
   "cell_type": "code",
   "execution_count": 19,
   "metadata": {},
   "outputs": [
    {
     "data": {
      "text/plain": [
       "3628800"
      ]
     },
     "execution_count": 19,
     "metadata": {},
     "output_type": "execute_result"
    }
   ],
   "source": [
    "factorial(10)"
   ]
  },
  {
   "cell_type": "markdown",
   "metadata": {},
   "source": [
    "## Euclid's GCD algorithm example\n",
    "\n",
    "**Optional: Video from NPTEL Python course by Prof. Mukund Madhavan**\n",
    "\n",
    "[Euclid's algorithm for GCD](https://youtu.be/TURlDFwVeEs)"
   ]
  },
  {
   "cell_type": "code",
   "execution_count": 20,
   "metadata": {},
   "outputs": [
    {
     "name": "stdout",
     "output_type": "stream",
     "text": [
      "12\n",
      "1\n",
      "512\n"
     ]
    }
   ],
   "source": [
    "def euclid_gcd(m, n):\n",
    "    # if second number is bigger, swap m and n\n",
    "    if n > m:\n",
    "        m, n = n, m\n",
    "    \n",
    "    # base case. If one of the number is zero, the other is the GCD\n",
    "    if n == 0:\n",
    "        return m\n",
    "    else:\n",
    "        # recursive case. gcd of two numbers m, n is same\n",
    "        # as gcd of n and m % n (remainder of m divided by n)\n",
    "        return euclid_gcd(n, m % n)\n",
    "    \n",
    "print(euclid_gcd(144, 132))\n",
    "print(euclid_gcd(13, 29))\n",
    "print(euclid_gcd(1024, 512))"
   ]
  },
  {
   "cell_type": "markdown",
   "metadata": {},
   "source": [
    "## iterative version of factorial"
   ]
  },
  {
   "cell_type": "code",
   "execution_count": 21,
   "metadata": {},
   "outputs": [
    {
     "data": {
      "text/plain": [
       "3628800"
      ]
     },
     "execution_count": 21,
     "metadata": {},
     "output_type": "execute_result"
    }
   ],
   "source": [
    "def factoriali(n):\n",
    "    if n == 0 or n == 1:\n",
    "        return 1\n",
    "    else:\n",
    "        res = 1\n",
    "        for i in range(2, n +1):\n",
    "            res *= i\n",
    "        return res\n",
    "    \n",
    "factoriali(10)"
   ]
  },
  {
   "cell_type": "code",
   "execution_count": 22,
   "metadata": {},
   "outputs": [
    {
     "name": "stdout",
     "output_type": "stream",
     "text": [
      "CPU times: user 875 µs, sys: 45 µs, total: 920 µs\n",
      "Wall time: 924 µs\n"
     ]
    },
    {
     "data": {
      "text/plain": [
       "2897510481518934061686658794858410699613607479664987802200194840586901440124236563294918791743553496911973222690975504011055293255082954302596717721358156322451773221068328064669168977149030116244772521139691626590537248386435030607228825253424755131482638504219078356619981536746912917164063182326635992601221101218789269546104599911660850536897854999956279740131984278211363255077836116552688647322779316754905454428137756928795155420137027365328456398055486240252224956409041051852716898569255995898997331025601522699450507648306213463237831634525556164038829737149714292112614411431488054863579671615966156363736348000798017508491145056133762405505543150236380618755299308338643072031826588771250323493603419476973738507218614143896847787373949601777128810682814108359491489200939882458224802714296380265604666607092393708727445790059232150371738841357959314744397985537733608443778534239830574795083213736940599023140729304369555988433047429738835011512945623867680207200267183854769488896221389784925258618788610239188153278643273552690415629418331273545288092256526734009234903561965146577716343324943364812628437361446974766201388799254170959846833948553562548250678435229092506871861013006740239283007116009260422491422797549401583826997637020883435947177511322713192203507628339381577791632199081255623522487390996772668615833119278921289181715498839843263067656458595885286306149223349065911783867466047934838606447186351732171898338468818176464145412662120496157874262870871224334478808879935711039258189316095719205720961793209879248026247456569500760351243086661709759277370955944203288919412906271240893964875597999348350011414541740734232308455873960193023644226069614349884756378922790836444504128917013457850675351046742199865194702343128296888132755727282886937659160668940226109655264964695302454456997677157132605071005084647992151585212292443656213825263295388567158218134620772299977714410813999399785850105925411837102026165191103358134762412523922331756499174467953300444928898131633871120296461059304670111036362287003901174305896482214759206076462491529817126198830785824606102519867613146132187280061840149713455052039851788126090152955627235718222360382334697792528586489934588225347322260227566104599607839898482826209324907749565289739671049153293976750578520729251424815037316352543506990415055780924239431369572651206080343405878156494622436471306716510169301600054945684615617772406337545770158581258678616281114158533893618793925344092950064159423898301472884125876531957421258626163765400630891012754061803675991763987949908794256306406211630078484057498128999919142616248672090459163938859304508472394178981286177108884345382063840923607062088119692192238515943917664153517856419749126653405008654023875304212148310291560834735182086166930163396702326869865783402717997667611642470149848399142904976578899859862247901441259045534291924317828427745898787784987134069512513240844694194739034743793254400000000000000000000000000000000000000000000000000000000000000000000000000000000000000000000000000000000000000000000000000000000000000000000000000000000000000000000000000000000000000000000000000000000000000000000000000000000000000000000000000000000000000000000000000000000000000000000000000000000000000"
      ]
     },
     "execution_count": 22,
     "metadata": {},
     "output_type": "execute_result"
    }
   ],
   "source": [
    "# %time is Python interpreter command to print execution time information.\n",
    "# Let's see how long it takes to calculate the factorial of a big number.\n",
    "\n",
    "%time factorial(1220)"
   ]
  },
  {
   "cell_type": "code",
   "execution_count": 23,
   "metadata": {},
   "outputs": [
    {
     "name": "stdout",
     "output_type": "stream",
     "text": [
      "CPU times: user 455 µs, sys: 5 µs, total: 460 µs\n",
      "Wall time: 463 µs\n"
     ]
    },
    {
     "data": {
      "text/plain": [
       "2897510481518934061686658794858410699613607479664987802200194840586901440124236563294918791743553496911973222690975504011055293255082954302596717721358156322451773221068328064669168977149030116244772521139691626590537248386435030607228825253424755131482638504219078356619981536746912917164063182326635992601221101218789269546104599911660850536897854999956279740131984278211363255077836116552688647322779316754905454428137756928795155420137027365328456398055486240252224956409041051852716898569255995898997331025601522699450507648306213463237831634525556164038829737149714292112614411431488054863579671615966156363736348000798017508491145056133762405505543150236380618755299308338643072031826588771250323493603419476973738507218614143896847787373949601777128810682814108359491489200939882458224802714296380265604666607092393708727445790059232150371738841357959314744397985537733608443778534239830574795083213736940599023140729304369555988433047429738835011512945623867680207200267183854769488896221389784925258618788610239188153278643273552690415629418331273545288092256526734009234903561965146577716343324943364812628437361446974766201388799254170959846833948553562548250678435229092506871861013006740239283007116009260422491422797549401583826997637020883435947177511322713192203507628339381577791632199081255623522487390996772668615833119278921289181715498839843263067656458595885286306149223349065911783867466047934838606447186351732171898338468818176464145412662120496157874262870871224334478808879935711039258189316095719205720961793209879248026247456569500760351243086661709759277370955944203288919412906271240893964875597999348350011414541740734232308455873960193023644226069614349884756378922790836444504128917013457850675351046742199865194702343128296888132755727282886937659160668940226109655264964695302454456997677157132605071005084647992151585212292443656213825263295388567158218134620772299977714410813999399785850105925411837102026165191103358134762412523922331756499174467953300444928898131633871120296461059304670111036362287003901174305896482214759206076462491529817126198830785824606102519867613146132187280061840149713455052039851788126090152955627235718222360382334697792528586489934588225347322260227566104599607839898482826209324907749565289739671049153293976750578520729251424815037316352543506990415055780924239431369572651206080343405878156494622436471306716510169301600054945684615617772406337545770158581258678616281114158533893618793925344092950064159423898301472884125876531957421258626163765400630891012754061803675991763987949908794256306406211630078484057498128999919142616248672090459163938859304508472394178981286177108884345382063840923607062088119692192238515943917664153517856419749126653405008654023875304212148310291560834735182086166930163396702326869865783402717997667611642470149848399142904976578899859862247901441259045534291924317828427745898787784987134069512513240844694194739034743793254400000000000000000000000000000000000000000000000000000000000000000000000000000000000000000000000000000000000000000000000000000000000000000000000000000000000000000000000000000000000000000000000000000000000000000000000000000000000000000000000000000000000000000000000000000000000000000000000000000000000000"
      ]
     },
     "execution_count": 23,
     "metadata": {},
     "output_type": "execute_result"
    }
   ],
   "source": [
    "# Let's see how long it takes to calculate factorial of a big number using the\n",
    "# non-recursive (iterative) version\n",
    "\n",
    "%time factoriali(1220)"
   ]
  },
  {
   "cell_type": "code",
   "execution_count": 24,
   "metadata": {},
   "outputs": [
    {
     "ename": "RecursionError",
     "evalue": "maximum recursion depth exceeded in comparison",
     "output_type": "error",
     "traceback": [
      "\u001b[0;31m---------------------------------------------------------------------------\u001b[0m",
      "\u001b[0;31mRecursionError\u001b[0m                            Traceback (most recent call last)",
      "\u001b[0;32m<ipython-input-24-5fd9e146cf95>\u001b[0m in \u001b[0;36m<module>\u001b[0;34m\u001b[0m\n\u001b[1;32m      5\u001b[0m \u001b[0;31m# If it doesn't throw for you, bump up the input a bit till it does!\u001b[0m\u001b[0;34m\u001b[0m\u001b[0;34m\u001b[0m\u001b[0;34m\u001b[0m\u001b[0m\n\u001b[1;32m      6\u001b[0m \u001b[0;34m\u001b[0m\u001b[0m\n\u001b[0;32m----> 7\u001b[0;31m \u001b[0mfactorial\u001b[0m\u001b[0;34m(\u001b[0m\u001b[0;36m3000\u001b[0m\u001b[0;34m)\u001b[0m\u001b[0;34m\u001b[0m\u001b[0;34m\u001b[0m\u001b[0m\n\u001b[0m",
      "\u001b[0;32m<ipython-input-17-a18e880dfcf1>\u001b[0m in \u001b[0;36mfactorial\u001b[0;34m(n)\u001b[0m\n\u001b[1;32m      5\u001b[0m     \u001b[0;32melse\u001b[0m\u001b[0;34m:\u001b[0m\u001b[0;34m\u001b[0m\u001b[0;34m\u001b[0m\u001b[0m\n\u001b[1;32m      6\u001b[0m         \u001b[0;31m# recursive call for n - 1 (reduced or simpler input)\u001b[0m\u001b[0;34m\u001b[0m\u001b[0;34m\u001b[0m\u001b[0;34m\u001b[0m\u001b[0m\n\u001b[0;32m----> 7\u001b[0;31m         \u001b[0;32mreturn\u001b[0m \u001b[0mn\u001b[0m \u001b[0;34m*\u001b[0m \u001b[0mfactorial\u001b[0m\u001b[0;34m(\u001b[0m\u001b[0mn\u001b[0m\u001b[0;34m-\u001b[0m\u001b[0;36m1\u001b[0m\u001b[0;34m)\u001b[0m\u001b[0;34m\u001b[0m\u001b[0;34m\u001b[0m\u001b[0m\n\u001b[0m",
      "... last 1 frames repeated, from the frame below ...\n",
      "\u001b[0;32m<ipython-input-17-a18e880dfcf1>\u001b[0m in \u001b[0;36mfactorial\u001b[0;34m(n)\u001b[0m\n\u001b[1;32m      5\u001b[0m     \u001b[0;32melse\u001b[0m\u001b[0;34m:\u001b[0m\u001b[0;34m\u001b[0m\u001b[0;34m\u001b[0m\u001b[0m\n\u001b[1;32m      6\u001b[0m         \u001b[0;31m# recursive call for n - 1 (reduced or simpler input)\u001b[0m\u001b[0;34m\u001b[0m\u001b[0;34m\u001b[0m\u001b[0;34m\u001b[0m\u001b[0m\n\u001b[0;32m----> 7\u001b[0;31m         \u001b[0;32mreturn\u001b[0m \u001b[0mn\u001b[0m \u001b[0;34m*\u001b[0m \u001b[0mfactorial\u001b[0m\u001b[0;34m(\u001b[0m\u001b[0mn\u001b[0m\u001b[0;34m-\u001b[0m\u001b[0;36m1\u001b[0m\u001b[0;34m)\u001b[0m\u001b[0;34m\u001b[0m\u001b[0;34m\u001b[0m\u001b[0m\n\u001b[0m",
      "\u001b[0;31mRecursionError\u001b[0m: maximum recursion depth exceeded in comparison"
     ]
    }
   ],
   "source": [
    "## A recursive function may exhaust the stack at times\n",
    "\n",
    "# The following takes a bit of time and eventually throws \n",
    "# RecursionError: maximum recursion depth exceeded in comparison\n",
    "# If it doesn't throw for you, bump up the input a bit till it does!\n",
    "\n",
    "factorial(3000)"
   ]
  },
  {
   "cell_type": "code",
   "execution_count": 25,
   "metadata": {},
   "outputs": [
    {
     "data": {
      "text/plain": [
       "41493596034378540855568670930866121709511191949318099176894676576975585651235319500860007652178003420075184635383617118495750871114045907794553402161068339611621037904199177522062663390179682805164719697495968842457728766097103003726111095340241127118833157738815328438929737613021106312930374401485378725446079610290429491049793888120762511625132917004641668962117590203575175488980653577868915285093782469994674699190832093511068363824287063522268544339213775150488588104036818809099292912497141900508938994404715351473154531587441509960174267875087460367974117072368747277143988920683691618503608198459718093784453523958505377611086511162363145920886108557450874513945305436213711898150847192094426374203275029996333784944014775671414680824207499914714878359669720638954670589960178569480263388767112871068004950827400717124819476386401369193544354120312786601434792549959143530120653103406625503231020738351502195103148673612338739395096551462159349015789949944072311004426924838140141455487872738045856023561583204317945953055830693351246890721246151468485308724031267967089113548982733475375756899365176396424781733462510879015743437398920492267098317033932107176343983352444576040476565400414414699479984354554597799386702839428513413188913165695310848513525094006147774047007331406541794428004436691903685469270857271701648011512057452448607968773784803660653009109815639091294110633715621540903800135058671624262333902434166628716521228590274568833504897926869369792878376894841436573866436955075473964882256222183380014600761196859217603234808467455216330411738004331144225926243690558782914907973885758784585739828695390302383837265882427654306437517757897215045071361801730051628424476294227485755627828763498767195281368913583918824499284741591683130334032199946752082914885764345863832313545205075955912062067273296951386122994658607527317884452449865348164169238844889061495850934373442889814884427321817131272533891534506581143823381205875379808605080889761753882896252933633750454549168600267229591225528854584482686655324313011353754812409561237686078007700707939541848907149467377854407528307872988103912945121929864793703451257436445581459757140822705986325165352906584571123585270211933452981105568398809884094980346185078025273038736784042169427237980464304250045030806637032760016341921442805708802430850567892108646977455139539119838636167190300278146380136932482332771595180596193069504237836082620570887209297929797429404576877338319877444685544294800321741056689423710545028870419611915072739000031642014474213323293871618029555614004602867400422885389854650328028428515122296028795741801621823236098320971441047012533067314896153236788734984553949604397050352347766211395914519270422122231426998692087463520980686224354813376194395131942868113486531562228173214976481705381846155326596187530296478601160872263640443922257601926494610916885151013143945574398303192557154162151442469122370519149097861849436150963109933639594561796593396851958605338631176324147066842257192394742531726479559749993283247279807896470753054014194090200609712674753186365525403212757757853930697530056595208207457499471898144453772248207888443335118545601568853708182892895218300139654376947286418776665762815389737340159410543681435437346134244692067070082782423645557450882556670157242752810317141640631410681384330924027281318960884813040665226169552825637183862464944295688859393846726723694199475571320546018263425731029115353532728808182773021596787088437293412117084511580629967697266601663635276959969021502122104954259567278593185516268447100374434620422003535391203738393095420695021486207390653190910821344334251497896284236198571674773848126097443055036250866354720730971298084697196537722779893160200560725058007512407494448163392214398118492748281978655178478547749198714138485042290383954090570842038137277135667703565041081780520695032136233521692740531015340921761834078817735674646749071616600653230438902639786065509005309872435445689315601329942407112295015453771521051942445512795364971214872222193729289159833001742397977592530501318837883494884232222507318816399438935627817102875432588794558857742780390717166381257903798149148445526885871629931014510733215554773264576035916184298708323237568837917135073006026738292294687081030751946020376438138677107333779312582257356435534577162804030480925785909747233413932904072239860005448269296110393640127539539899397420021925268928622564959279136369546983247314494094297494213208716963662812963846191378114609210701033012119934264941666449130310898493535366401831282683112506578386425906537197010907276429330534751297336716929415047870949241778121534979499449732358445130210029720359993576507730563696950539990891252004810120090569633144368179194247963563389102486250773367249399801723451627048850149438343735826440053481474957421328873648479589553843836378275601433377798816126854462406494134416119108952653326761627660221130879211665924379496534838030236064294981985541014311566601739518539426008673198564586684635442730180022292607589767192198367529528365158715521887698317999005853121518691037776676883654291247419826099434535671529412823837612115555686210454583810355154404953718470726363218532775486501811002621331228429860926112159573066023932077476742800909462674322138805290643067711276964013735906251051050623568241317651533030775358975134565147424167401517470720839101869989993279364910892687924739705814152855543965954222603919059265825637344676406359525838966981511983959886603683753042017990328185945569412550519066302854869533377682984600031808093822130038102214387057461181304251961916405970456035183121708151658647356556540532928411748628957082856792300053525846377061280591452035546389932127875906349627837975871352588618213252263577038396202737385324908353680497990085701522483303439525197344653342994652565236096742834550523739733902374261808871799283722285366293439240895762913154442106573609205481842139365893867715542842477275100166734357743093638948444564764377184073874379471007867151070449554657626281566137550730763768080600031844296233977808233311359787577136983012817571625671683287281511937336685789437109097748581222868126824122317272681184975207863453107495331708260153159440253645365524453587952034745213429248916644504804355352281977721981971869054884176896398782704782066126921472548618247859626434279190274503452994769367997217285165465591799471789067885687278574470084289723778234763080740919512966238346427839653865017324665850192144091694630371265581197700774682562035198318782913591013997817303635173764706714383992810291224460848320518983248348855131025539721583184931653670732273172995431750775475634748127320956655431851879586978172491721700865768098908327830838240437737974455342525688712898855513180967012497859454290609627370590659970784172738420721605576789060565167694565490120388165775861939230924362983389549857279874523398090499858467484850399509109398834210424693113617875978611803096108774362764990414655167545507613665725914993376114340243762910290384135888531312591132544849225896007184851169390193985434649415483782338302531368775990005443722332901462568184095998830522521585328599833990336595418932696680163265899358234663247080324020429791357425755498549372896192091650794671997121439832581553945835125648010889886887056882711222628734035772418424803231173027338442220604015609242079569493204943809402465562530303328824165302038006041288444384884189129393985971765670211501611340121169355535864984802941563238279447576315042685734269863116562800932164578165410411899078396210758605145091526528422433647230880469088426412525126584729134059195171754291152622002229756986927959124620964363057052133099216422258437651889193630329851223282950806126200573565554213183555838289318138795940962303792777230344423432341561603558590502324475274502630869831414125396371754413611897269158650716722308083435295578401087236027347001118786146233185439431057058483770474806035004556885020602730222256397630738939985024978155182679916994164145540329909813190506654358156657691529068908186204138444091456355291242064901717436430473455191375922914953282988151808740076733486997695322871450791584448703980405737673555777873593937891577147956023340708456392314170118392555234618119775915673385955919265270624063734277760215846511035368057963320714896942663358570375305829676608224208465464558556667889222627619990263961792637457851652540918756608543859661221944248720424960000000000000000000000000000000000000000000000000000000000000000000000000000000000000000000000000000000000000000000000000000000000000000000000000000000000000000000000000000000000000000000000000000000000000000000000000000000000000000000000000000000000000000000000000000000000000000000000000000000000000000000000000000000000000000000000000000000000000000000000000000000000000000000000000000000000000000000000000000000000000000000000000000000000000000000000000000000000000000000000000000000000000000000000000000000000000000000000000000000000000000000000000000000000000000000000000000000000000000000000000000000000000000000000000000000000000000000000000000000000000000000000000000000000000000000000000000000000000000000000000000000000000000000000000000"
      ]
     },
     "execution_count": 25,
     "metadata": {},
     "output_type": "execute_result"
    }
   ],
   "source": [
    "# iterative version still works!\n",
    "\n",
    "factoriali(3000)"
   ]
  },
  {
   "cell_type": "markdown",
   "metadata": {},
   "source": [
    "## recursive calls more than once"
   ]
  },
  {
   "cell_type": "code",
   "execution_count": 26,
   "metadata": {},
   "outputs": [
    {
     "name": "stdout",
     "output_type": "stream",
     "text": [
      "89\n"
     ]
    }
   ],
   "source": [
    "# we can call a function from itself more than once as well\n",
    "def fibonacci(n):\n",
    "    # base cases without recursion\n",
    "    if n == 0 or n == 1:\n",
    "        return 1\n",
    "    else:\n",
    "        # recursive calls for n - 1 and n - 2 (reduced / simpler inputs)\n",
    "        return fibonacci(n - 1) + fibonacci(n - 2)\n",
    "\n",
    "print(fibonacci(10))"
   ]
  },
  {
   "cell_type": "markdown",
   "metadata": {},
   "source": [
    "## binarysearch recursive example\n",
    "\n",
    "**Optional: The following video from NPTEL Python course by Prof. Mukund Madhavan**\n",
    "\n",
    "[Arrays, Lists and Binary Search](https://youtu.be/0y5HOotxpys)"
   ]
  },
  {
   "cell_type": "code",
   "execution_count": 27,
   "metadata": {},
   "outputs": [
    {
     "name": "stdout",
     "output_type": "stream",
     "text": [
      "True\n",
      "False\n",
      "True\n",
      "True\n",
      "False\n"
     ]
    }
   ],
   "source": [
    "# search a value in a sorted sequence.\n",
    "# search the value in the sequence within\n",
    "# the semi open interval [left, right)\n",
    "\n",
    "# binarysearch performs the search in O(logN)\n",
    "# but the sequence must have been sorted for the binary\n",
    "# search to work properly\n",
    "\n",
    "def binarysearch(seq, value, left, right):\n",
    "    # empty slice. base case\n",
    "    if right - left == 0:\n",
    "        return False\n",
    "    \n",
    "    mid =  (left + right) // 2 # integer division\n",
    "    \n",
    "    # base case. middle value is the value\n",
    "    if seq[mid] == value:\n",
    "        return True\n",
    "\n",
    "    # recursive call cases\n",
    "    if value < seq[mid]:\n",
    "        # value is smaller than mid. So it cannot be in the upper half. search is lower half\n",
    "        return binarysearch(seq, value, left, mid)\n",
    "    else:\n",
    "        # value is larger than mid. So it cannot be in the lower half. search in upper half\n",
    "        return binarysearch(seq, value, mid + 1, right)\n",
    "\n",
    "# generate a list of squares of [0, 100). By nature, this is a sorted sequence\n",
    "numbers = [ i * i for i in range(0, 100)]\n",
    "\n",
    "print(binarysearch(numbers, 36, 0, len(numbers)))\n",
    "print(binarysearch(numbers, 626, 0, len(numbers)))\n",
    "print(binarysearch(numbers, 144, 0, len(numbers)))\n",
    "print(binarysearch(numbers, 7921, 0, len(numbers)))\n",
    "print(binarysearch(numbers, 9790, 0, len(numbers)))"
   ]
  }
 ],
 "metadata": {
  "kernelspec": {
   "display_name": "Python 3",
   "language": "python",
   "name": "python3"
  },
  "language_info": {
   "codemirror_mode": {
    "name": "ipython",
    "version": 3
   },
   "file_extension": ".py",
   "mimetype": "text/x-python",
   "name": "python",
   "nbconvert_exporter": "python",
   "pygments_lexer": "ipython3",
   "version": "3.7.6"
  }
 },
 "nbformat": 4,
 "nbformat_minor": 2
}
