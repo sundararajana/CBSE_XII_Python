{
 "cells": [
  {
   "cell_type": "markdown",
   "metadata": {},
   "source": [
    "## Python basic expressions, statements\n",
    "\n",
    "Python assignment operators include:\n",
    "\n",
    "| assignment type      | operator | example | meaning |\n",
    "|----------------------|----------|---------|---------|\n",
    "| basic assignment        |  =  |  a = b  |                    |\n",
    "| add assignment          | +=  |  a +=b  | same as a = a + b  |\n",
    "| subtract assignment     | -=  |  a -=b  | same as a = a - b  |\n",
    "| multiply assignment     | \\*= |  a \\*=b | same as a = a * b  |\n",
    "| divide assignment       | /=  |  a /=b  | same as a = a / b  |\n",
    "| quotient assignment     | //= |  a //=b | same as a = a // b |\n",
    "| modulus assignment      | %=  |  a %=b  | same as a = a % b  |\n",
    "| exponent assignment     | \\*\\*= | a \\*\\*=b | same as a = a \\*\\* b |\n",
    "| bit or assignment       | \\|= | a \\|= b | same as a = a \\| b |\n",
    "| bit and assignment      | &= | a &= b | same as a = a & b |\n",
    "| bit xor assignment      | ^= | a ^= b | same as a = a ^ b | \n",
    "| left shift assignment   | <<= | a <<= b | same as a = a << b |\n",
    "| right shift assignment  | >>= | a >>= b | same as a = a >> b |"
   ]
  },
  {
   "cell_type": "code",
   "execution_count": 1,
   "metadata": {},
   "outputs": [],
   "source": [
    "a = 10"
   ]
  },
  {
   "cell_type": "code",
   "execution_count": 2,
   "metadata": {},
   "outputs": [
    {
     "name": "stdout",
     "output_type": "stream",
     "text": [
      "21\n"
     ]
    }
   ],
   "source": [
    "a += 11; print(a)"
   ]
  },
  {
   "cell_type": "code",
   "execution_count": 3,
   "metadata": {},
   "outputs": [
    {
     "name": "stdout",
     "output_type": "stream",
     "text": [
      "12\n"
     ]
    }
   ],
   "source": [
    "a -= 9; print(a)"
   ]
  },
  {
   "cell_type": "code",
   "execution_count": 4,
   "metadata": {},
   "outputs": [
    {
     "name": "stdout",
     "output_type": "stream",
     "text": [
      "36\n"
     ]
    }
   ],
   "source": [
    "a *= 3; print(a)"
   ]
  },
  {
   "cell_type": "code",
   "execution_count": 5,
   "metadata": {},
   "outputs": [
    {
     "name": "stdout",
     "output_type": "stream",
     "text": [
      "9\n"
     ]
    }
   ],
   "source": [
    "a //= 4; print(a)"
   ]
  },
  {
   "cell_type": "code",
   "execution_count": 6,
   "metadata": {},
   "outputs": [
    {
     "name": "stdout",
     "output_type": "stream",
     "text": [
      "0\n"
     ]
    }
   ],
   "source": [
    "a %= 3; print(a)"
   ]
  },
  {
   "cell_type": "code",
   "execution_count": 7,
   "metadata": {},
   "outputs": [
    {
     "name": "stdout",
     "output_type": "stream",
     "text": [
      "8\n"
     ]
    }
   ],
   "source": [
    "a = 2; a **= 3; print(a)"
   ]
  },
  {
   "cell_type": "code",
   "execution_count": 8,
   "metadata": {},
   "outputs": [
    {
     "name": "stdout",
     "output_type": "stream",
     "text": [
      "32\n"
     ]
    }
   ],
   "source": [
    "a <<= 2; print(a)"
   ]
  },
  {
   "cell_type": "code",
   "execution_count": 9,
   "metadata": {},
   "outputs": [
    {
     "name": "stdout",
     "output_type": "stream",
     "text": [
      "34\n"
     ]
    }
   ],
   "source": [
    "a |= 2; print(a)"
   ]
  },
  {
   "cell_type": "code",
   "execution_count": 10,
   "metadata": {},
   "outputs": [
    {
     "name": "stdout",
     "output_type": "stream",
     "text": [
      "0\n"
     ]
    }
   ],
   "source": [
    "a &= 0; print(a)"
   ]
  },
  {
   "cell_type": "code",
   "execution_count": 11,
   "metadata": {},
   "outputs": [
    {
     "name": "stdout",
     "output_type": "stream",
     "text": [
      "7\n"
     ]
    }
   ],
   "source": [
    "a = 4; a ^= 3; print(a)"
   ]
  },
  {
   "cell_type": "markdown",
   "metadata": {},
   "source": [
    "### Multiple assignments\n",
    "\n",
    "Python supports multi-assignment\n",
    "\n",
    "```python\n",
    "\n",
    "a, b = 34, 56\n",
    "\n",
    "```\n",
    "\n",
    "is same as \n",
    "\n",
    "```python\n",
    "\n",
    "a = 34\n",
    "b = 56\n",
    "\n",
    "```"
   ]
  },
  {
   "cell_type": "code",
   "execution_count": 12,
   "metadata": {},
   "outputs": [
    {
     "data": {
      "text/plain": [
       "'hellohellohellohellohello'"
      ]
     },
     "execution_count": 12,
     "metadata": {},
     "output_type": "execute_result"
    }
   ],
   "source": [
    "a , b = \"hello\", 5\n",
    "a * b"
   ]
  },
  {
   "cell_type": "markdown",
   "metadata": {},
   "source": [
    "## Python read input, print output\n",
    "\n",
    "* input function reads input string from standard input / console/ terminal\n",
    "* print function prints output to the standard output / console/terminal"
   ]
  },
  {
   "cell_type": "code",
   "execution_count": 13,
   "metadata": {},
   "outputs": [
    {
     "name": "stdout",
     "output_type": "stream",
     "text": [
      "Give me a number 23\n",
      "square of it is 529\n"
     ]
    }
   ],
   "source": [
    "# read input string and convert to a number\n",
    "num = int(input(\"Give me a number \"))\n",
    "\n",
    "# print the square of it\n",
    "print(\"square of it is\", num*num)"
   ]
  },
  {
   "cell_type": "markdown",
   "metadata": {},
   "source": [
    "## Python if, if/else, if/elif statements\n",
    "\n",
    "```python\n",
    "    \n",
    "if condition:\n",
    "    statements\n",
    "    \n",
    "if condition:\n",
    "    statements\n",
    "else:\n",
    "    statements\n",
    "    \n",
    "    \n",
    "if condition:\n",
    "    statements\n",
    "elif condition:\n",
    "    statements\n",
    "elif condition:\n",
    "    statements\n",
    "else:\n",
    "    statements\n",
    "\n",
    "```    "
   ]
  },
  {
   "cell_type": "code",
   "execution_count": 16,
   "metadata": {},
   "outputs": [
    {
     "name": "stdout",
     "output_type": "stream",
     "text": [
      "give me a number: 23\n",
      "it is odd\n"
     ]
    }
   ],
   "source": [
    "# read input string and convert to a number\n",
    "num = int(input(\"give me a number: \"))\n",
    "\n",
    "# divide by 2 and check remainder\n",
    "if num % 2 == 0:\n",
    "    print(\"it is even\")\n",
    "else:\n",
    "    print(\"it is odd\")"
   ]
  },
  {
   "cell_type": "code",
   "execution_count": 19,
   "metadata": {},
   "outputs": [
    {
     "name": "stdout",
     "output_type": "stream",
     "text": [
      "give me some color green\n",
      "green is the color of life/growth\n"
     ]
    }
   ],
   "source": [
    "# read input string and convert to uppercase\n",
    "color = input(\"give me some color \").upper()\n",
    "\n",
    "if color == \"RED\":\n",
    "    print(\"red is the color of fire/blood/energy\")\n",
    "elif color == \"GREEN\":\n",
    "    print(\"green is the color of life/growth\")\n",
    "elif color == \"BLUE\":\n",
    "    print(\"blue is the color of love/peace\")\n",
    "else:\n",
    "    print(\"is that a color?\")"
   ]
  },
  {
   "cell_type": "markdown",
   "metadata": {},
   "source": [
    "### Python while statement\n",
    "\n",
    "Execute one or more statements till a condition is satisfied\n",
    "\n",
    "```python\n",
    "\n",
    "while condition:\n",
    "    statements\n",
    "\n",
    "\n",
    "```"
   ]
  },
  {
   "cell_type": "code",
   "execution_count": 20,
   "metadata": {},
   "outputs": [
    {
     "name": "stdout",
     "output_type": "stream",
     "text": [
      "give me a number: 10\n",
      "100\n",
      "81\n",
      "64\n",
      "49\n",
      "36\n",
      "25\n",
      "16\n",
      "9\n",
      "4\n",
      "1\n"
     ]
    }
   ],
   "source": [
    "# read input string and convert it to number\n",
    "num = int(input(\"give me a number: \"))\n",
    "\n",
    "# run till the number is positive\n",
    "while num > 0:\n",
    "    # print square\n",
    "    print(num*num)\n",
    "    # decrement number so that loop will terminate eventually\n",
    "    num -= 1"
   ]
  },
  {
   "cell_type": "markdown",
   "metadata": {},
   "source": [
    "### Python del statement\n",
    "\n",
    "You can delete Python variables, functions using \"del\" statement"
   ]
  },
  {
   "cell_type": "code",
   "execution_count": 21,
   "metadata": {},
   "outputs": [
    {
     "name": "stdout",
     "output_type": "stream",
     "text": [
      "10\n"
     ]
    },
    {
     "ename": "NameError",
     "evalue": "name 'a' is not defined",
     "output_type": "error",
     "traceback": [
      "\u001b[1;31m---------------------------------------------------------------------------\u001b[0m",
      "\u001b[1;31mNameError\u001b[0m                                 Traceback (most recent call last)",
      "\u001b[1;32m<ipython-input-21-1aad90c7d7c3>\u001b[0m in \u001b[0;36m<module>\u001b[1;34m\u001b[0m\n\u001b[0;32m      2\u001b[0m \u001b[0mprint\u001b[0m\u001b[1;33m(\u001b[0m\u001b[0ma\u001b[0m\u001b[1;33m)\u001b[0m\u001b[1;33m\u001b[0m\u001b[1;33m\u001b[0m\u001b[0m\n\u001b[0;32m      3\u001b[0m \u001b[1;32mdel\u001b[0m \u001b[0ma\u001b[0m\u001b[1;33m\u001b[0m\u001b[1;33m\u001b[0m\u001b[0m\n\u001b[1;32m----> 4\u001b[1;33m \u001b[0mprint\u001b[0m\u001b[1;33m(\u001b[0m\u001b[0ma\u001b[0m\u001b[1;33m)\u001b[0m\u001b[1;33m\u001b[0m\u001b[1;33m\u001b[0m\u001b[0m\n\u001b[0m",
      "\u001b[1;31mNameError\u001b[0m: name 'a' is not defined"
     ]
    }
   ],
   "source": [
    "a = 10\n",
    "print(a)\n",
    "del a\n",
    "print(a)"
   ]
  },
  {
   "cell_type": "code",
   "execution_count": 23,
   "metadata": {},
   "outputs": [
    {
     "name": "stdout",
     "output_type": "stream",
     "text": [
      "[44, 66, 55]\n",
      "[44, 55]\n",
      "{'red': 23, 'green': 56, 'blue': 42}\n",
      "{'green': 56, 'blue': 42}\n"
     ]
    }
   ],
   "source": [
    "# del works to delete a particular list element, dictionary element etc. More on del for lists, dictionaries later\n",
    "# Just a sample here\n",
    "\n",
    "a = [44, 66, 55]\n",
    "print(a)\n",
    "del a[1]\n",
    "print(a)\n",
    "\n",
    "b = { 'red': 23, 'green': 56, 'blue': 42 }\n",
    "print(b)\n",
    "del b['red']\n",
    "print(b)"
   ]
  },
  {
   "cell_type": "code",
   "execution_count": 24,
   "metadata": {},
   "outputs": [
    {
     "ename": "TypeError",
     "evalue": "'tuple' object doesn't support item deletion",
     "output_type": "error",
     "traceback": [
      "\u001b[1;31m---------------------------------------------------------------------------\u001b[0m",
      "\u001b[1;31mTypeError\u001b[0m                                 Traceback (most recent call last)",
      "\u001b[1;32m<ipython-input-24-744b11bb479b>\u001b[0m in \u001b[0;36m<module>\u001b[1;34m\u001b[0m\n\u001b[0;32m      1\u001b[0m \u001b[0mc\u001b[0m \u001b[1;33m=\u001b[0m \u001b[1;33m(\u001b[0m\u001b[1;36m2\u001b[0m \u001b[1;33m,\u001b[0m \u001b[1;36m4\u001b[0m\u001b[1;33m)\u001b[0m\u001b[1;33m\u001b[0m\u001b[1;33m\u001b[0m\u001b[0m\n\u001b[1;32m----> 2\u001b[1;33m \u001b[1;32mdel\u001b[0m \u001b[0mc\u001b[0m\u001b[1;33m[\u001b[0m\u001b[1;36m0\u001b[0m\u001b[1;33m]\u001b[0m\u001b[1;33m\u001b[0m\u001b[1;33m\u001b[0m\u001b[0m\n\u001b[0m",
      "\u001b[1;31mTypeError\u001b[0m: 'tuple' object doesn't support item deletion"
     ]
    }
   ],
   "source": [
    "c = (2 , 4)\n",
    "del c[0]"
   ]
  },
  {
   "cell_type": "code",
   "execution_count": 25,
   "metadata": {},
   "outputs": [
    {
     "ename": "TypeError",
     "evalue": "'str' object doesn't support item deletion",
     "output_type": "error",
     "traceback": [
      "\u001b[1;31m---------------------------------------------------------------------------\u001b[0m",
      "\u001b[1;31mTypeError\u001b[0m                                 Traceback (most recent call last)",
      "\u001b[1;32m<ipython-input-25-f101e4ce0e9f>\u001b[0m in \u001b[0;36m<module>\u001b[1;34m\u001b[0m\n\u001b[0;32m      1\u001b[0m \u001b[0ms\u001b[0m \u001b[1;33m=\u001b[0m \u001b[1;34m\"hello\"\u001b[0m\u001b[1;33m\u001b[0m\u001b[1;33m\u001b[0m\u001b[0m\n\u001b[0;32m      2\u001b[0m \u001b[1;33m\u001b[0m\u001b[0m\n\u001b[1;32m----> 3\u001b[1;33m \u001b[1;32mdel\u001b[0m \u001b[0ms\u001b[0m\u001b[1;33m[\u001b[0m\u001b[1;36m1\u001b[0m\u001b[1;33m]\u001b[0m\u001b[1;33m\u001b[0m\u001b[1;33m\u001b[0m\u001b[0m\n\u001b[0m",
      "\u001b[1;31mTypeError\u001b[0m: 'str' object doesn't support item deletion"
     ]
    }
   ],
   "source": [
    "s = \"hello\"\n",
    "\n",
    "del s[1]"
   ]
  },
  {
   "cell_type": "markdown",
   "metadata": {},
   "source": [
    "## Python for statement \n",
    "\n",
    "Python for statement allows one or more statements to be executed in a loop. Simplest for-loop is to run a bunch of statements for specified number of times\n",
    "\n",
    "```python\n",
    "\n",
    "    # range is begin inclusive and end exclusive\n",
    "    # semi open interval [start, stop)\n",
    "    # the following prints squares the numbers of 0 to 99\n",
    "    for i in range(0, 100):\n",
    "        print(i*i)\n",
    "        \n",
    "```"
   ]
  },
  {
   "cell_type": "code",
   "execution_count": 26,
   "metadata": {},
   "outputs": [
    {
     "name": "stdout",
     "output_type": "stream",
     "text": [
      "0\n",
      "1\n",
      "8\n",
      "27\n",
      "64\n",
      "125\n",
      "216\n",
      "343\n",
      "512\n",
      "729\n"
     ]
    }
   ],
   "source": [
    "# print cubes of numbers from 0 to 9\n",
    "for i in range(0, 10):\n",
    "    print(i**3)"
   ]
  },
  {
   "cell_type": "markdown",
   "metadata": {},
   "source": [
    "## break statement to come out a loop statement (\"early exit\")\n",
    "\n",
    "break statement can be used to break out of a loop (called \"early exit\")\n",
    "\n",
    "```python\n",
    "    # infinite loop\n",
    "    while True:\n",
    "        # but if some_condition is satisfied, break out of the loop\n",
    "        if some_condition:\n",
    "            break\n",
    "```"
   ]
  },
  {
   "cell_type": "code",
   "execution_count": 27,
   "metadata": {},
   "outputs": [
    {
     "name": "stdout",
     "output_type": "stream",
     "text": [
      "give me a number 13\n",
      "2197\n",
      "1728\n",
      "1331\n",
      "1000\n",
      "729\n",
      "512\n",
      "343\n",
      "216\n",
      "125\n",
      "64\n",
      "27\n",
      "8\n",
      "1\n"
     ]
    }
   ],
   "source": [
    "num = int(input(\"give me a number \"))\n",
    "\n",
    "# infinite while loop\n",
    "while True:\n",
    "    # if num is zero, break out this while loop\n",
    "    if num == 0:\n",
    "        break\n",
    "    \n",
    "    # print cube\n",
    "    print(num ** 3)\n",
    "    \n",
    "    # decrement num so that it'll eventually become -1\n",
    "    num -= 1"
   ]
  },
  {
   "cell_type": "code",
   "execution_count": 29,
   "metadata": {},
   "outputs": [
    {
     "name": "stdout",
     "output_type": "stream",
     "text": [
      "0 0\n",
      "1 1\n",
      "2 16\n",
      "3 81\n",
      "4 256\n",
      "5 625\n",
      "6 1296\n"
     ]
    }
   ],
   "source": [
    "for i in range(0, 3000):\n",
    "    print(i, i**4)\n",
    "    if i > 5:\n",
    "        break"
   ]
  },
  {
   "cell_type": "markdown",
   "metadata": {},
   "source": [
    "## Loop statements can have else: block\n",
    "\n",
    "A for or while loop can have a else: block (optional). This is executed if loop terminates normally (and not via break)\n"
   ]
  },
  {
   "cell_type": "code",
   "execution_count": 32,
   "metadata": {},
   "outputs": [
    {
     "name": "stdout",
     "output_type": "stream",
     "text": [
      "give me a name shin chan\n",
      "did not find any 'e' in the name\n"
     ]
    }
   ],
   "source": [
    "s = input(\"give me a name \")\n",
    "\n",
    "for c in s:\n",
    "    if c == 'e':\n",
    "        break\n",
    "else:\n",
    "    # this is executed if loop terminated normally (and not by break)\n",
    "    print(\"did not find any 'e' in the name\")"
   ]
  },
  {
   "cell_type": "markdown",
   "metadata": {},
   "source": [
    "### continue statement can occur in a loop statement \n",
    "\n",
    "continue may only occur syntactically nested in a for or while loop. It allows to skip the rest of the statements inside the loop and go back to loop condition check"
   ]
  },
  {
   "cell_type": "code",
   "execution_count": 33,
   "metadata": {},
   "outputs": [
    {
     "name": "stdout",
     "output_type": "stream",
     "text": [
      "0\n",
      "4\n",
      "16\n",
      "36\n",
      "64\n"
     ]
    }
   ],
   "source": [
    "for i in range(0, 10):\n",
    "    # skip loop odd numbers\n",
    "    if i % 2 != 0:\n",
    "        continue     \n",
    "    print(i * i)"
   ]
  },
  {
   "cell_type": "code",
   "execution_count": 34,
   "metadata": {},
   "outputs": [
    {
     "name": "stdout",
     "output_type": "stream",
     "text": [
      "give me a name sdsa223\n",
      "that can't be part of a name:  2\n",
      "that can't be part of a name:  2\n",
      "that can't be part of a name:  3\n"
     ]
    }
   ],
   "source": [
    "name = input(\"give me a name \")\n",
    "i = 0\n",
    "while i < len(name):\n",
    "    if name[i].isalpha():\n",
    "        i += 1\n",
    "        continue;\n",
    "    print(\"that can't be part of a name: \", name[i])\n",
    "    i += 1"
   ]
  },
  {
   "cell_type": "markdown",
   "metadata": {},
   "source": [
    "## Python pass statement is \"do nothing\" statement\n",
    "\n",
    "'pass' statement is used when you want an \"empty (do nothing) action\" in a block\n",
    "\n",
    "```python\n",
    "    if condition:\n",
    "        pass\n",
    "    else:\n",
    "        statements\n",
    "```"
   ]
  },
  {
   "cell_type": "code",
   "execution_count": 36,
   "metadata": {},
   "outputs": [],
   "source": [
    "if 1 == 1:\n",
    "    pass\n",
    "else:\n",
    "    print(\"what???\")"
   ]
  },
  {
   "cell_type": "markdown",
   "metadata": {},
   "source": [
    "## Python import statement\n",
    "\n",
    "import statement is used to import python code from modules. Module is a python file with variables/functions. "
   ]
  },
  {
   "cell_type": "code",
   "execution_count": 42,
   "metadata": {},
   "outputs": [
    {
     "name": "stdout",
     "output_type": "stream",
     "text": [
      "1.2246467991473532e-16\n"
     ]
    }
   ],
   "source": [
    "import math\n",
    "\n",
    "print(math.sin(math.pi))"
   ]
  },
  {
   "cell_type": "code",
   "execution_count": 43,
   "metadata": {},
   "outputs": [
    {
     "name": "stdout",
     "output_type": "stream",
     "text": [
      "0.7853981633974483\n"
     ]
    }
   ],
   "source": [
    "# give a shortcut name for a module\n",
    "import math as m\n",
    "\n",
    "print(m.atan(1))\n"
   ]
  },
  {
   "cell_type": "code",
   "execution_count": 44,
   "metadata": {},
   "outputs": [
    {
     "name": "stdout",
     "output_type": "stream",
     "text": [
      "0.0015926529164868282\n"
     ]
    }
   ],
   "source": [
    "# import only specific function from math \n",
    "from math import sin\n",
    "\n",
    "print(sin(3.14))"
   ]
  },
  {
   "cell_type": "code",
   "execution_count": 45,
   "metadata": {},
   "outputs": [
    {
     "name": "stdout",
     "output_type": "stream",
     "text": [
      "-1.0\n",
      "1.0\n"
     ]
    }
   ],
   "source": [
    "# import all stuff from a module so that we can use those with normal names\n",
    "\n",
    "from math import *\n",
    "\n",
    "print(cos(pi))\n",
    "print(sin(pi/2))"
   ]
  }
 ],
 "metadata": {
  "kernelspec": {
   "display_name": "Python 3",
   "language": "python",
   "name": "python3"
  },
  "language_info": {
   "codemirror_mode": {
    "name": "ipython",
    "version": 3
   },
   "file_extension": ".py",
   "mimetype": "text/x-python",
   "name": "python",
   "nbconvert_exporter": "python",
   "pygments_lexer": "ipython3",
   "version": "3.7.6"
  }
 },
 "nbformat": 4,
 "nbformat_minor": 2
}
