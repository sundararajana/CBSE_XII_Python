{
 "cells": [
  {
   "cell_type": "markdown",
   "metadata": {},
   "source": [
    "## Python basic expressions, statements\n",
    "\n",
    "Python assignment operators include:\n",
    "\n",
    "| assignment type      | operator | example | meaning |\n",
    "|----------------------|----------|---------|---------|\n",
    "| basic assignment        |  =  |  a = b  |                    |\n",
    "| add assignment          | +=  |  a +=b  | same as a = a + b  |\n",
    "| subtract assignment     | -=  |  a -=b  | same as a = a - b  |\n",
    "| multiply assignment     | \\*= |  a \\*=b | same as a = a * b  |\n",
    "| divide assignment       | /=  |  a /=b  | same as a = a / b  |\n",
    "| quotient assignment     | //= |  a //=b | same as a = a // b |\n",
    "| modulus assignment      | %=  |  a %=b  | same as a = a % b  |\n",
    "| exponent assignment     | \\*\\*= | a \\*\\*=b | same as a = a \\*\\* b |\n",
    "| bit or assignment       | \\|= | a \\|= b | same as a = a \\| b |\n",
    "| bit and assignment      | &= | a &= b | same as a = a & b |\n",
    "| bit xor assignment      | ^= | a ^= b | same as a = a ^ b | \n",
    "| left shift assignment   | <<= | a <<= b | same as a = a << b |\n",
    "| right shift assignment  | >>= | a >>= b | same as a = a >> b |"
   ]
  },
  {
   "cell_type": "code",
   "execution_count": 1,
   "metadata": {},
   "outputs": [],
   "source": [
    "a = 10"
   ]
  },
  {
   "cell_type": "code",
   "execution_count": 2,
   "metadata": {},
   "outputs": [
    {
     "name": "stdout",
     "output_type": "stream",
     "text": [
      "21\n"
     ]
    }
   ],
   "source": [
    "a += 11; print(a)"
   ]
  },
  {
   "cell_type": "code",
   "execution_count": 3,
   "metadata": {},
   "outputs": [
    {
     "name": "stdout",
     "output_type": "stream",
     "text": [
      "12\n"
     ]
    }
   ],
   "source": [
    "a -= 9; print(a)"
   ]
  },
  {
   "cell_type": "code",
   "execution_count": 4,
   "metadata": {},
   "outputs": [
    {
     "name": "stdout",
     "output_type": "stream",
     "text": [
      "36\n"
     ]
    }
   ],
   "source": [
    "a *= 3; print(a)"
   ]
  },
  {
   "cell_type": "code",
   "execution_count": 5,
   "metadata": {},
   "outputs": [
    {
     "name": "stdout",
     "output_type": "stream",
     "text": [
      "9\n"
     ]
    }
   ],
   "source": [
    "a //= 4; print(a)"
   ]
  },
  {
   "cell_type": "code",
   "execution_count": 6,
   "metadata": {},
   "outputs": [
    {
     "name": "stdout",
     "output_type": "stream",
     "text": [
      "0\n"
     ]
    }
   ],
   "source": [
    "a %= 3; print(a)"
   ]
  },
  {
   "cell_type": "code",
   "execution_count": 7,
   "metadata": {},
   "outputs": [
    {
     "name": "stdout",
     "output_type": "stream",
     "text": [
      "8\n"
     ]
    }
   ],
   "source": [
    "a = 2; a **= 3; print(a)"
   ]
  },
  {
   "cell_type": "code",
   "execution_count": 8,
   "metadata": {},
   "outputs": [
    {
     "name": "stdout",
     "output_type": "stream",
     "text": [
      "32\n"
     ]
    }
   ],
   "source": [
    "a <<= 2; print(a)"
   ]
  },
  {
   "cell_type": "code",
   "execution_count": 9,
   "metadata": {},
   "outputs": [
    {
     "name": "stdout",
     "output_type": "stream",
     "text": [
      "34\n"
     ]
    }
   ],
   "source": [
    "a |= 2; print(a)"
   ]
  },
  {
   "cell_type": "code",
   "execution_count": 10,
   "metadata": {},
   "outputs": [
    {
     "name": "stdout",
     "output_type": "stream",
     "text": [
      "0\n"
     ]
    }
   ],
   "source": [
    "a &= 0; print(a)"
   ]
  },
  {
   "cell_type": "code",
   "execution_count": 11,
   "metadata": {},
   "outputs": [
    {
     "name": "stdout",
     "output_type": "stream",
     "text": [
      "7\n"
     ]
    }
   ],
   "source": [
    "a = 4; a ^= 3; print(a)"
   ]
  },
  {
   "cell_type": "markdown",
   "metadata": {},
   "source": [
    "### Multiple assignments\n",
    "\n",
    "Python supports multi-assignment\n",
    "\n",
    "```python\n",
    "\n",
    "a, b = 34, 56\n",
    "\n",
    "```\n",
    "\n",
    "is same as \n",
    "\n",
    "```python\n",
    "\n",
    "a = 34\n",
    "b = 56\n",
    "\n",
    "```"
   ]
  },
  {
   "cell_type": "code",
   "execution_count": 12,
   "metadata": {},
   "outputs": [
    {
     "data": {
      "text/plain": [
       "'hellohellohellohellohello'"
      ]
     },
     "execution_count": 12,
     "metadata": {},
     "output_type": "execute_result"
    }
   ],
   "source": [
    "a , b = \"hello\", 5\n",
    "a * b"
   ]
  },
  {
   "cell_type": "markdown",
   "metadata": {},
   "source": [
    "## Python read input, print output\n",
    "\n",
    "* input function reads input string from standard input / console/ terminal\n",
    "* print function prints output to the standard output / console/terminal"
   ]
  },
  {
   "cell_type": "code",
   "execution_count": 13,
   "metadata": {},
   "outputs": [
    {
     "name": "stdout",
     "output_type": "stream",
     "text": [
      "Give me a number 23\n",
      "square of it is 529\n"
     ]
    }
   ],
   "source": [
    "# read input string and convert to a number\n",
    "num = int(input(\"Give me a number \"))\n",
    "\n",
    "# print the square of it\n",
    "print(\"square of it is\", num*num)"
   ]
  },
  {
   "cell_type": "markdown",
   "metadata": {},
   "source": [
    "## Python if, if/else, if/elif statements\n",
    "\n",
    "```python\n",
    "    \n",
    "if condition:\n",
    "    statements\n",
    "    \n",
    "if condition:\n",
    "    statements\n",
    "else:\n",
    "    statements\n",
    "    \n",
    "    \n",
    "if condition:\n",
    "    statements\n",
    "elif condition:\n",
    "    statements\n",
    "elif condition:\n",
    "    statements\n",
    "else:\n",
    "    statements\n",
    "\n",
    "```    "
   ]
  },
  {
   "cell_type": "code",
   "execution_count": 14,
   "metadata": {},
   "outputs": [
    {
     "name": "stdout",
     "output_type": "stream",
     "text": [
      "give me a number: 23\n",
      "it is odd\n"
     ]
    }
   ],
   "source": [
    "# read input string and convert to a number\n",
    "num = int(input(\"give me a number: \"))\n",
    "\n",
    "# divide by 2 and check remainder\n",
    "if num % 2 == 0:\n",
    "    print(\"it is even\")\n",
    "else:\n",
    "    print(\"it is odd\")"
   ]
  },
  {
   "cell_type": "code",
   "execution_count": 15,
   "metadata": {},
   "outputs": [
    {
     "name": "stdout",
     "output_type": "stream",
     "text": [
      "give me some color RED\n",
      "red is the color of fire/blood/energy\n"
     ]
    }
   ],
   "source": [
    "# read input string and convert to uppercase\n",
    "color = input(\"give me some color \").upper()\n",
    "\n",
    "if color == \"RED\":\n",
    "    print(\"red is the color of fire/blood/energy\")\n",
    "elif color == \"GREEN\":\n",
    "    print(\"green is the color of life/growth\")\n",
    "elif color == \"BLUE\":\n",
    "    print(\"blue is the color of love/peace\")\n",
    "else:\n",
    "    print(\"is that a color?\")"
   ]
  },
  {
   "cell_type": "markdown",
   "metadata": {},
   "source": [
    "## CBSE Compartment exam (2020) Computer Science (91C)\n",
    "\n",
    "Rewrite the following code in Python after removing all syntax\n",
    "error(s). Underline each correction done in the code. \n",
    "\n",
    "```txt\n",
    "input('Enter a word',W)\n",
    "if W = 'Hello'\n",
    "    print('Ok')\n",
    "    else:\n",
    "    print('Not Ok')\n",
    "```\n",
    "\n",
    "```python\n",
    "W = input('Enter a word') # input value should be assigned to a variable. \n",
    "if W == 'Hello':    # colon missing after if condition. Assignment operator used instead of ==\n",
    "    print('Ok')\n",
    "else:               # else indentation is wrong\n",
    "    print('Not Ok')\n",
    "```"
   ]
  },
  {
   "cell_type": "code",
   "execution_count": 16,
   "metadata": {},
   "outputs": [
    {
     "name": "stdout",
     "output_type": "stream",
     "text": [
      "Enter a wordHello\n",
      "Ok\n"
     ]
    }
   ],
   "source": [
    "W = input('Enter a word') # input value should be assigned to a variable.\n",
    "\n",
    "if W == 'Hello':    # colon missing after if condition. Assignment operator used instead of ==\n",
    "    print('Ok')\n",
    "else:               # else indentation is wrong\n",
    "    print('Not Ok')"
   ]
  },
  {
   "cell_type": "markdown",
   "metadata": {},
   "source": [
    "### Python while statement\n",
    "\n",
    "Execute one or more statements till a condition is satisfied\n",
    "\n",
    "```python\n",
    "\n",
    "while condition:\n",
    "    statements\n",
    "\n",
    "\n",
    "```"
   ]
  },
  {
   "cell_type": "code",
   "execution_count": 17,
   "metadata": {},
   "outputs": [
    {
     "name": "stdout",
     "output_type": "stream",
     "text": [
      "give me a number: 3\n",
      "9\n",
      "4\n",
      "1\n"
     ]
    }
   ],
   "source": [
    "# read input string and convert it to number\n",
    "num = int(input(\"give me a number: \"))\n",
    "\n",
    "# run till the number is positive\n",
    "while num > 0:\n",
    "    # print square\n",
    "    print(num*num)\n",
    "    # decrement number so that loop will terminate eventually\n",
    "    num -= 1"
   ]
  },
  {
   "cell_type": "markdown",
   "metadata": {},
   "source": [
    "## Python uses indentation for blocks\n",
    "\n",
    "Python uses indentation rather than special symbols like {, } to denote block of statements"
   ]
  },
  {
   "cell_type": "code",
   "execution_count": 18,
   "metadata": {},
   "outputs": [
    {
     "name": "stdout",
     "output_type": "stream",
     "text": [
      "give me a positive number: 34\n",
      "Yes, it is a positive number\n"
     ]
    }
   ],
   "source": [
    "\n",
    "while True:\n",
    "    # statements that belong to while statements are indented with 4 spaces\n",
    "    # get input from user and convert it as integer\n",
    "    num = int(input(\"give me a positive number: \"))\n",
    "\n",
    "    # if the number given is < 0, report an error\n",
    "    # statements inside if and else block are further indented with 4 more spaces\n",
    "    if num < 0:\n",
    "        print(\"No, it is a negative number\")\n",
    "    else:\n",
    "        print(\"Yes, it is a positive number\")\n",
    "        break"
   ]
  },
  {
   "cell_type": "markdown",
   "metadata": {},
   "source": [
    "### Python del statement\n",
    "\n",
    "You can delete Python variables, functions using \"del\" statement"
   ]
  },
  {
   "cell_type": "code",
   "execution_count": 19,
   "metadata": {},
   "outputs": [
    {
     "name": "stdout",
     "output_type": "stream",
     "text": [
      "10\n"
     ]
    },
    {
     "ename": "NameError",
     "evalue": "name 'a' is not defined",
     "output_type": "error",
     "traceback": [
      "\u001b[0;31m---------------------------------------------------------------------------\u001b[0m",
      "\u001b[0;31mNameError\u001b[0m                                 Traceback (most recent call last)",
      "\u001b[0;32m<ipython-input-19-1aad90c7d7c3>\u001b[0m in \u001b[0;36m<module>\u001b[0;34m\u001b[0m\n\u001b[1;32m      2\u001b[0m \u001b[0mprint\u001b[0m\u001b[0;34m(\u001b[0m\u001b[0ma\u001b[0m\u001b[0;34m)\u001b[0m\u001b[0;34m\u001b[0m\u001b[0;34m\u001b[0m\u001b[0m\n\u001b[1;32m      3\u001b[0m \u001b[0;32mdel\u001b[0m \u001b[0ma\u001b[0m\u001b[0;34m\u001b[0m\u001b[0;34m\u001b[0m\u001b[0m\n\u001b[0;32m----> 4\u001b[0;31m \u001b[0mprint\u001b[0m\u001b[0;34m(\u001b[0m\u001b[0ma\u001b[0m\u001b[0;34m)\u001b[0m\u001b[0;34m\u001b[0m\u001b[0;34m\u001b[0m\u001b[0m\n\u001b[0m",
      "\u001b[0;31mNameError\u001b[0m: name 'a' is not defined"
     ]
    }
   ],
   "source": [
    "a = 10\n",
    "print(a)\n",
    "del a\n",
    "print(a)"
   ]
  },
  {
   "cell_type": "code",
   "execution_count": 20,
   "metadata": {},
   "outputs": [
    {
     "name": "stdout",
     "output_type": "stream",
     "text": [
      "[44, 66, 55]\n",
      "[44, 55]\n",
      "{'red': 23, 'green': 56, 'blue': 42}\n",
      "{'green': 56, 'blue': 42}\n"
     ]
    }
   ],
   "source": [
    "# del works to delete a particular list element, dictionary element etc. More on del for lists, dictionaries later\n",
    "# Just a sample here\n",
    "\n",
    "a = [44, 66, 55]\n",
    "print(a)\n",
    "del a[1]\n",
    "print(a)\n",
    "\n",
    "b = { 'red': 23, 'green': 56, 'blue': 42 }\n",
    "print(b)\n",
    "del b['red']\n",
    "print(b)"
   ]
  },
  {
   "cell_type": "code",
   "execution_count": 21,
   "metadata": {},
   "outputs": [
    {
     "ename": "TypeError",
     "evalue": "'tuple' object doesn't support item deletion",
     "output_type": "error",
     "traceback": [
      "\u001b[0;31m---------------------------------------------------------------------------\u001b[0m",
      "\u001b[0;31mTypeError\u001b[0m                                 Traceback (most recent call last)",
      "\u001b[0;32m<ipython-input-21-744b11bb479b>\u001b[0m in \u001b[0;36m<module>\u001b[0;34m\u001b[0m\n\u001b[1;32m      1\u001b[0m \u001b[0mc\u001b[0m \u001b[0;34m=\u001b[0m \u001b[0;34m(\u001b[0m\u001b[0;36m2\u001b[0m \u001b[0;34m,\u001b[0m \u001b[0;36m4\u001b[0m\u001b[0;34m)\u001b[0m\u001b[0;34m\u001b[0m\u001b[0;34m\u001b[0m\u001b[0m\n\u001b[0;32m----> 2\u001b[0;31m \u001b[0;32mdel\u001b[0m \u001b[0mc\u001b[0m\u001b[0;34m[\u001b[0m\u001b[0;36m0\u001b[0m\u001b[0;34m]\u001b[0m\u001b[0;34m\u001b[0m\u001b[0;34m\u001b[0m\u001b[0m\n\u001b[0m",
      "\u001b[0;31mTypeError\u001b[0m: 'tuple' object doesn't support item deletion"
     ]
    }
   ],
   "source": [
    "c = (2 , 4)\n",
    "del c[0]"
   ]
  },
  {
   "cell_type": "code",
   "execution_count": 22,
   "metadata": {},
   "outputs": [
    {
     "ename": "TypeError",
     "evalue": "'str' object doesn't support item deletion",
     "output_type": "error",
     "traceback": [
      "\u001b[0;31m---------------------------------------------------------------------------\u001b[0m",
      "\u001b[0;31mTypeError\u001b[0m                                 Traceback (most recent call last)",
      "\u001b[0;32m<ipython-input-22-f101e4ce0e9f>\u001b[0m in \u001b[0;36m<module>\u001b[0;34m\u001b[0m\n\u001b[1;32m      1\u001b[0m \u001b[0ms\u001b[0m \u001b[0;34m=\u001b[0m \u001b[0;34m\"hello\"\u001b[0m\u001b[0;34m\u001b[0m\u001b[0;34m\u001b[0m\u001b[0m\n\u001b[1;32m      2\u001b[0m \u001b[0;34m\u001b[0m\u001b[0m\n\u001b[0;32m----> 3\u001b[0;31m \u001b[0;32mdel\u001b[0m \u001b[0ms\u001b[0m\u001b[0;34m[\u001b[0m\u001b[0;36m1\u001b[0m\u001b[0;34m]\u001b[0m\u001b[0;34m\u001b[0m\u001b[0;34m\u001b[0m\u001b[0m\n\u001b[0m",
      "\u001b[0;31mTypeError\u001b[0m: 'str' object doesn't support item deletion"
     ]
    }
   ],
   "source": [
    "s = \"hello\"\n",
    "\n",
    "del s[1]"
   ]
  },
  {
   "cell_type": "markdown",
   "metadata": {},
   "source": [
    "## Python for statement \n",
    "\n",
    "Python for statement allows one or more statements to be executed in a loop. Simplest for-loop is to run a bunch of statements for specified number of times\n",
    "\n",
    "```python\n",
    "\n",
    "    # range is begin inclusive and end exclusive\n",
    "    # semi open interval [start, stop)\n",
    "    # the following prints squares the numbers of 0 to 99\n",
    "    for i in range(0, 100):\n",
    "        print(i*i)\n",
    "        \n",
    "```"
   ]
  },
  {
   "cell_type": "code",
   "execution_count": 23,
   "metadata": {},
   "outputs": [
    {
     "name": "stdout",
     "output_type": "stream",
     "text": [
      "0\n",
      "1\n",
      "8\n",
      "27\n",
      "64\n",
      "125\n",
      "216\n",
      "343\n",
      "512\n",
      "729\n"
     ]
    }
   ],
   "source": [
    "# print cubes of numbers from 0 to 9\n",
    "for i in range(0, 10):\n",
    "    print(i**3)"
   ]
  },
  {
   "cell_type": "markdown",
   "metadata": {},
   "source": [
    "## CBSE Sample Question Paper (2019-20) Computer Science (083)\n",
    "\n",
    "\n",
    "What do you understand by the term **Iteration**?\n",
    "\n",
    "**Answer** **Repeatation of statement/s finite number of times is known as Iteration.**\n",
    "\n",
    "Python supports **for** and **while** statements for iteration"
   ]
  },
  {
   "cell_type": "markdown",
   "metadata": {},
   "source": [
    "## CBSE Sample Question Paper (2020-21) Computer Science (083)\n",
    "\n",
    "Rewrite the following code in Python after removing all syntax error(s). \n",
    "Underline each correction done in the code.\n",
    "\n",
    "```python\n",
    "Value = 30\n",
    "for VAL in range(0,Value)\n",
    "    If val % 4 == 0:\n",
    "        print (VAL * 4)\n",
    "    Elseif val % 5 == 0:\n",
    "        print (VAL + 3)\n",
    "    else\n",
    "        print(VAL + 10)\n",
    "```\n",
    "\n",
    "**CORRECTED CODE:**\n",
    "\n",
    "```python\n",
    "\n",
    "Value = 30\n",
    "for VAL in range(0,Value) : # Error 1 Missing colon at the end\n",
    "    if val % 4 == 0:        # Error 2 \"If\" used instead of \"if\"\n",
    "        print (VAL * 4)\n",
    "    elif val % 5 == 0:      # Error 3  \"Elseif\" used instead of \"elif\"\n",
    "        print (VAL + 3)\n",
    "    else:                   # Error 4 Missing colon at the end\n",
    "        print(VAL + 10)\n",
    "```"
   ]
  },
  {
   "cell_type": "markdown",
   "metadata": {},
   "source": [
    "## CBSE Sample Question Paper (2019-20) Computer Science (083)\n",
    "\n",
    "Rewrite the following code in python after removing all syntax error(s).\n",
    "Underline each correction done in the code.\n",
    "\n",
    "\n",
    "```python\n",
    "30 = To\n",
    "\n",
    "for K in range(0,To)\n",
    "    IF k%4 == 0:\n",
    "      print (K*4)\n",
    "    Else:\n",
    "      print (K+3)\n",
    "```\n",
    "\n",
    "\n",
    "**CORRECTED CODE**\n",
    "\n",
    "```python\n",
    "To = 30                        # assignment left hand side should be variable\n",
    "\n",
    "for K in range(0,To) :         # colon missing\n",
    "    if k%4==0:                 # keyword should be if and not IF\n",
    "      print (K*4)\n",
    "    else:                      # keyword should be else and not Else\n",
    "      print (K+3)\n",
    "```"
   ]
  },
  {
   "cell_type": "markdown",
   "metadata": {},
   "source": [
    "## CBSE Compartment exam (2020) Computer Science (91C)\n",
    "\n",
    "Write the output of the following Python code :\n",
    "    \n",
    "```python\n",
    "for i in range(2,7,2):\n",
    "    print(i * '$')\n",
    "```"
   ]
  },
  {
   "cell_type": "code",
   "execution_count": 2,
   "metadata": {},
   "outputs": [
    {
     "name": "stdout",
     "output_type": "stream",
     "text": [
      "$$\n",
      "$$$$\n",
      "$$$$$$\n"
     ]
    }
   ],
   "source": [
    "for i in range(2,7,2):\n",
    "    print(i * '$')"
   ]
  },
  {
   "cell_type": "markdown",
   "metadata": {},
   "source": [
    "## CBSE Sample Question Paper (2019-20) Computer Science (083)\n",
    "\n",
    "Find and write the output of the following python code:\n",
    "    \n",
    "```python\n",
    "x = \"abcdef\"\n",
    "i = \"a\"\n",
    "while i in x:\n",
    "    print(i, end = \" \")\n",
    "```\n",
    "\n",
    "**Answer** This will result in **infinite loop**\n",
    "\n",
    "Reason:  **for i in x:** iterates the collection (iterable) x\n",
    "But anywhere else **i in x** evaluates membership check.\n",
    "\n",
    "i in x here evaluates to True as \"a\" is in \"abcdef\"\n",
    "\n",
    "Therefore the while loop is equivalent to\n",
    "\n",
    "```python\n",
    "while True:\n",
    "    print(i, end = \" \")\n",
    "```"
   ]
  },
  {
   "cell_type": "markdown",
   "metadata": {},
   "source": [
    "## break statement to come out a loop statement (\"early exit\")\n",
    "\n",
    "break statement can be used to break out of a loop (called \"early exit\")\n",
    "\n",
    "```python\n",
    "    # infinite loop\n",
    "    while True:\n",
    "        # but if some_condition is satisfied, break out of the loop\n",
    "        if some_condition:\n",
    "            break\n",
    "```"
   ]
  },
  {
   "cell_type": "code",
   "execution_count": 24,
   "metadata": {},
   "outputs": [
    {
     "name": "stdout",
     "output_type": "stream",
     "text": [
      "give me a number 4\n",
      "64\n",
      "27\n",
      "8\n",
      "1\n"
     ]
    }
   ],
   "source": [
    "num = int(input(\"give me a number \"))\n",
    "\n",
    "# infinite while loop\n",
    "while True:\n",
    "    # if num is zero, break out this while loop\n",
    "    if num == 0:\n",
    "        break\n",
    "    \n",
    "    # print cube\n",
    "    print(num ** 3)\n",
    "    \n",
    "    # decrement num so that it'll eventually become -1\n",
    "    num -= 1"
   ]
  },
  {
   "cell_type": "code",
   "execution_count": 25,
   "metadata": {},
   "outputs": [
    {
     "name": "stdout",
     "output_type": "stream",
     "text": [
      "0 0\n",
      "1 1\n",
      "2 16\n",
      "3 81\n",
      "4 256\n",
      "5 625\n",
      "6 1296\n"
     ]
    }
   ],
   "source": [
    "for i in range(0, 3000):\n",
    "    print(i, i**4)\n",
    "    if i > 5:\n",
    "        break"
   ]
  },
  {
   "cell_type": "markdown",
   "metadata": {},
   "source": [
    "## Loop statements can have else: block\n",
    "\n",
    "A for or while loop can have a else: block (optional). This is executed if loop terminates normally (and not via break)\n"
   ]
  },
  {
   "cell_type": "code",
   "execution_count": 26,
   "metadata": {},
   "outputs": [
    {
     "name": "stdout",
     "output_type": "stream",
     "text": [
      "give me a name john\n",
      "did not find any 'e' in the name\n"
     ]
    }
   ],
   "source": [
    "s = input(\"give me a name \")\n",
    "\n",
    "for c in s:\n",
    "    if c == 'e':\n",
    "        break\n",
    "else:\n",
    "    # this is executed if loop terminated normally (and not by break)\n",
    "    print(\"did not find any 'e' in the name\")"
   ]
  },
  {
   "cell_type": "markdown",
   "metadata": {},
   "source": [
    "### continue statement can occur in a loop statement \n",
    "\n",
    "continue may only occur syntactically nested in a for or while loop. It allows to skip the rest of the statements inside the loop and go back to loop condition check"
   ]
  },
  {
   "cell_type": "code",
   "execution_count": 27,
   "metadata": {},
   "outputs": [
    {
     "name": "stdout",
     "output_type": "stream",
     "text": [
      "0\n",
      "4\n",
      "16\n",
      "36\n",
      "64\n"
     ]
    }
   ],
   "source": [
    "for i in range(0, 10):\n",
    "    # skip loop odd numbers\n",
    "    if i % 2 != 0:\n",
    "        continue     \n",
    "    print(i * i)"
   ]
  },
  {
   "cell_type": "code",
   "execution_count": 28,
   "metadata": {},
   "outputs": [
    {
     "name": "stdout",
     "output_type": "stream",
     "text": [
      "give me a name smith\n"
     ]
    }
   ],
   "source": [
    "name = input(\"give me a name \")\n",
    "i = 0\n",
    "while i < len(name):\n",
    "    if name[i].isalpha():\n",
    "        i += 1\n",
    "        continue;\n",
    "    print(\"that can't be part of a name: \", name[i])\n",
    "    i += 1"
   ]
  },
  {
   "cell_type": "markdown",
   "metadata": {},
   "source": [
    "## Python pass statement is \"do nothing\" statement\n",
    "\n",
    "'pass' statement is used when you want an \"empty (do nothing) action\" in a block\n",
    "\n",
    "```python\n",
    "    if condition:\n",
    "        pass\n",
    "    else:\n",
    "        statements\n",
    "```"
   ]
  },
  {
   "cell_type": "code",
   "execution_count": 29,
   "metadata": {},
   "outputs": [],
   "source": [
    "if 1 == 1:\n",
    "    pass\n",
    "else:\n",
    "    print(\"what???\")"
   ]
  },
  {
   "cell_type": "markdown",
   "metadata": {},
   "source": [
    "## Python throwing exceptions\n",
    "\n",
    "The raise statement can be used to throw an exception. Exception is an exceptional error condition that you want to signal to the user or the calling code (of your code)"
   ]
  },
  {
   "cell_type": "code",
   "execution_count": 30,
   "metadata": {},
   "outputs": [
    {
     "name": "stdout",
     "output_type": "stream",
     "text": [
      "give me a positive number 34\n",
      "5.830951894845301\n"
     ]
    }
   ],
   "source": [
    "import math\n",
    "\n",
    "num = int(input(\"give me a positive number \"))\n",
    "\n",
    "if num < 0:\n",
    "    raise Exception(\"not a positive number\")\n",
    "else:\n",
    "    print(math.sqrt(num))"
   ]
  },
  {
   "cell_type": "markdown",
   "metadata": {},
   "source": [
    "## Python exception handling\n",
    "\n",
    "Python exception can be handled using try.. except statement\n",
    "\n",
    "```python\n",
    "\n",
    "    try:\n",
    "        statements_that_could_throw_exception\n",
    "    except:\n",
    "        # got an exception! handle it\n",
    "```\n",
    "\n",
    "It is also possible to handle only specific kind of exception(s) instead of catching all exceptions!\n",
    "\n",
    "```python\n",
    "\n",
    "    try:\n",
    "        2 / 0\n",
    "    except ZeroDivisionError:\n",
    "        print(\"can't divide by zero!\")\n",
    "```"
   ]
  },
  {
   "cell_type": "code",
   "execution_count": 31,
   "metadata": {},
   "outputs": [
    {
     "name": "stdout",
     "output_type": "stream",
     "text": [
      "give me a number sss\n",
      "That is not a number!\n"
     ]
    }
   ],
   "source": [
    "try:\n",
    "    num = int(input(\"give me a number \"))\n",
    "    print(num * num)\n",
    "except ValueError:\n",
    "    print(\"That is not a number!\")"
   ]
  },
  {
   "cell_type": "markdown",
   "metadata": {},
   "source": [
    "## Python import statement\n",
    "\n",
    "import statement is used to import python code from modules. Module is a python file with variables/functions/classes. "
   ]
  },
  {
   "cell_type": "code",
   "execution_count": 32,
   "metadata": {},
   "outputs": [
    {
     "name": "stdout",
     "output_type": "stream",
     "text": [
      "1.2246467991473532e-16\n"
     ]
    }
   ],
   "source": [
    "import math\n",
    "\n",
    "print(math.sin(math.pi))"
   ]
  },
  {
   "cell_type": "code",
   "execution_count": 33,
   "metadata": {},
   "outputs": [
    {
     "name": "stdout",
     "output_type": "stream",
     "text": [
      "0.7853981633974483\n"
     ]
    }
   ],
   "source": [
    "# give a shortcut name for a module\n",
    "import math as m\n",
    "\n",
    "print(m.atan(1))\n"
   ]
  },
  {
   "cell_type": "code",
   "execution_count": 34,
   "metadata": {},
   "outputs": [
    {
     "name": "stdout",
     "output_type": "stream",
     "text": [
      "0.0015926529164868282\n"
     ]
    }
   ],
   "source": [
    "# import only specific function from math \n",
    "from math import sin\n",
    "\n",
    "print(sin(3.14))"
   ]
  },
  {
   "cell_type": "code",
   "execution_count": 35,
   "metadata": {},
   "outputs": [
    {
     "name": "stdout",
     "output_type": "stream",
     "text": [
      "-1.0\n",
      "1.0\n"
     ]
    }
   ],
   "source": [
    "# import all stuff from a module so that we can use those with normal names\n",
    "\n",
    "from math import *\n",
    "\n",
    "print(cos(pi))\n",
    "print(sin(pi/2))"
   ]
  }
 ],
 "metadata": {
  "kernelspec": {
   "display_name": "Python 3",
   "language": "python",
   "name": "python3"
  },
  "language_info": {
   "codemirror_mode": {
    "name": "ipython",
    "version": 3
   },
   "file_extension": ".py",
   "mimetype": "text/x-python",
   "name": "python",
   "nbconvert_exporter": "python",
   "pygments_lexer": "ipython3",
   "version": "3.7.6"
  }
 },
 "nbformat": 4,
 "nbformat_minor": 2
}
