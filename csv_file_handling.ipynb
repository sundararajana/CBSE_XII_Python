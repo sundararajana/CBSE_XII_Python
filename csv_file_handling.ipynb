{
 "cells": [
  {
   "cell_type": "markdown",
   "metadata": {},
   "source": [
    "## Structured text file handling - CSV file handling"
   ]
  },
  {
   "cell_type": "markdown",
   "metadata": {},
   "source": [
    "## CSV files\n",
    "\n",
    "* **CSV (Comma Separated Values)** files are delimited text files that store tabular data. Data is stored in rows.\n",
    "\n",
    "* In each row, columns are separated by a **delimiter (which is typically comma)**.\n",
    "\n",
    "* If delimiter for columns is tab character, then it is called **Tab Separated Values (TSV)** file."
   ]
  },
  {
   "cell_type": "markdown",
   "metadata": {},
   "source": [
    "## CBSE Sample Question Paper (2020-21) Computer Science (083)\n",
    "\n",
    "Write the full form of CSV."
   ]
  },
  {
   "cell_type": "markdown",
   "metadata": {},
   "source": [
    "CSV stands for **Command Separated Values**"
   ]
  },
  {
   "cell_type": "code",
   "execution_count": 1,
   "metadata": {},
   "outputs": [],
   "source": [
    "# import csv module to read, write CSV files\n",
    "\n",
    "import csv"
   ]
  },
  {
   "cell_type": "code",
   "execution_count": 2,
   "metadata": {},
   "outputs": [],
   "source": [
    "f = open(\"student.csv\", \"w\")\n",
    "\n",
    "# create a CSV writer\n",
    "\n",
    "writer = csv.writer(f)\n",
    "\n",
    "# write a single record using writerow\n",
    "\n",
    "writer.writerow([\"John\", 27])\n",
    "writer.writerow([\"Jana\", 19])\n",
    "\n",
    "# write multiple records at a time\n",
    "\n",
    "writer.writerows([[\"Smith\", 40], [\"Kannan\", 45]])\n",
    "\n",
    "f.close()"
   ]
  },
  {
   "cell_type": "code",
   "execution_count": 3,
   "metadata": {},
   "outputs": [
    {
     "name": "stdout",
     "output_type": "stream",
     "text": [
      "John,27\r",
      "\r\n",
      "Jana,19\r",
      "\r\n",
      "Smith,40\r",
      "\r\n",
      "Kannan,45\r",
      "\r\n"
     ]
    }
   ],
   "source": [
    "# using operating system command to show the file\n",
    "\n",
    "!cat student.csv"
   ]
  },
  {
   "cell_type": "markdown",
   "metadata": {},
   "source": [
    "![colon separated file](images/comma_delimiter.png)"
   ]
  },
  {
   "cell_type": "code",
   "execution_count": 4,
   "metadata": {},
   "outputs": [
    {
     "name": "stdout",
     "output_type": "stream",
     "text": [
      "['John', '27']\n",
      "['Jana', '19']\n",
      "['Smith', '40']\n",
      "['Kannan', '45']\n"
     ]
    }
   ],
   "source": [
    "f = open(\"student.csv\", \"r\")\n",
    "\n",
    "reader = csv.reader(f)\n",
    "\n",
    "# read each record as list and process it\n",
    "\n",
    "for record in reader:\n",
    "    print(record)\n",
    "    \n",
    "f.close()"
   ]
  },
  {
   "cell_type": "markdown",
   "metadata": {},
   "source": [
    "## change the delimiter"
   ]
  },
  {
   "cell_type": "code",
   "execution_count": 5,
   "metadata": {},
   "outputs": [],
   "source": [
    "f = open(\"student.csv\", \"w\")\n",
    "\n",
    "# create a CSV writer\n",
    "\n",
    "writer = csv.writer(f, delimiter=\":\")\n",
    "\n",
    "# write a single record using writerow\n",
    "\n",
    "writer.writerow([\"John\", 27])\n",
    "writer.writerow([\"Jana\", 19])\n",
    "\n",
    "# write multiple records at a time\n",
    "\n",
    "writer.writerows([[\"Smith\", 40], [\"Kannan\", 45]])\n",
    "\n",
    "f.close()"
   ]
  },
  {
   "cell_type": "code",
   "execution_count": 6,
   "metadata": {},
   "outputs": [
    {
     "name": "stdout",
     "output_type": "stream",
     "text": [
      "John:27\r",
      "\r\n",
      "Jana:19\r",
      "\r\n",
      "Smith:40\r",
      "\r\n",
      "Kannan:45\r",
      "\r\n"
     ]
    }
   ],
   "source": [
    "# using operating system command to show the file\n",
    "\n",
    "!cat student.csv"
   ]
  },
  {
   "cell_type": "markdown",
   "metadata": {},
   "source": [
    "![colon separated file](images/colon_delimiter.png)"
   ]
  },
  {
   "cell_type": "code",
   "execution_count": 7,
   "metadata": {},
   "outputs": [
    {
     "name": "stdout",
     "output_type": "stream",
     "text": [
      "['John', '27']\n",
      "['Jana', '19']\n",
      "['Smith', '40']\n",
      "['Kannan', '45']\n"
     ]
    }
   ],
   "source": [
    "f = open(\"student.csv\", \"r\")\n",
    "\n",
    "# make sure you pass the same delimiter used while writing!\n",
    "reader = csv.reader(f, delimiter=\":\")\n",
    "\n",
    "# read each record as list and process it\n",
    "\n",
    "for record in reader:\n",
    "    print(record)\n",
    "    \n",
    "f.close()"
   ]
  },
  {
   "cell_type": "markdown",
   "metadata": {},
   "source": [
    "## CBSE Sample Question Paper (2020-21) Computer Science (083)\n",
    "\n",
    "\n",
    "Ranjan Kumar of class 12 is writing a program to create a CSV file “user.csv” which will contain user name\n",
    "and password for some entries. He has written the following code. As a programmer, help him to successfully \n",
    "execute the given task.\n",
    "\n",
    "\n",
    "```python\n",
    "import _____________                              # Line 1\n",
    "\n",
    "\n",
    "def addCsvFile(UserName,PassWord): # to write / add data into the CSV file\n",
    "    f = open(' user.csv','________')              # Line 2\n",
    "    newFileWriter = csv.writer(f)\n",
    "    newFileWriter.writerow([UserName,PassWord])\n",
    "    f.close()\n",
    "    \n",
    "#csv file reading code\n",
    "def readCsvFile(): # to read data from CSV file\n",
    "    newFile = open(' user.csv','r') \n",
    "    newFileReader = csv._________(newFile)        # Line 3\n",
    "    for row in newFileReader:\n",
    "        print(row[0],row[1])\n",
    "    newFile.______________                        # Line 4\n",
    "\n",
    "addCsvFile(“Arjun”,”123@456”)\n",
    "addCsvFile(“Arunima”,”aru@nima”)\n",
    "addCsvFile(“Frieda”,”myname@FRD”)\n",
    "readCsvFile() #Line 5\n",
    "    \n",
    "```\n",
    "\n",
    "(a) Name the module he should import in Line 1.\n",
    "\n",
    "\n",
    "(b) In which mode, Ranjan should open the file to add data into the file\n",
    "\n",
    "\n",
    "(c) Fill in the blank in Line 3 to read the data from a csv file.\n",
    "\n",
    "(d) Fill in the blank in Line 4 to close the file.\n",
    "\n",
    "(e) Write the output he will obtain while executing Line 5."
   ]
  },
  {
   "cell_type": "markdown",
   "metadata": {},
   "source": [
    "Answers\n",
    "\n",
    "(a) Line 1 : csv\n",
    "    \n",
    "(b) Line 2 : a\n",
    "\n",
    "(c) Line 3 : reader\n",
    "\n",
    "(d) Line 4 : close()\n"
   ]
  },
  {
   "cell_type": "code",
   "execution_count": 3,
   "metadata": {},
   "outputs": [
    {
     "name": "stdout",
     "output_type": "stream",
     "text": [
      "Arjun 123@456\n",
      "Arunima aru@nima\n",
      "Frieda myname@FRD\n",
      "Arjun 123@456\n",
      "Arunima aru@nima\n",
      "Frieda myname@FRD\n"
     ]
    }
   ],
   "source": [
    "# Running fixed code to check the answer for part (e) the output from the program\n",
    "\n",
    "import csv\n",
    "\n",
    "def addCsvFile(UserName,PassWord): # to write / add data into the CSV file\n",
    "    f = open(' user.csv','a')           \n",
    "    newFileWriter = csv.writer(f)\n",
    "    newFileWriter.writerow([UserName,PassWord])\n",
    "    f.close()\n",
    "\n",
    "#csv file reading code\n",
    "def readCsvFile(): # to read data from CSV file\n",
    "    newFile = open(' user.csv','r') \n",
    "    newFileReader = csv.reader(newFile)\n",
    "    for row in newFileReader:\n",
    "        print(row[0],row[1])\n",
    "    newFile.close()\n",
    "    \n",
    "addCsvFile(\"Arjun\", \"123@456\")\n",
    "addCsvFile(\"Arunima\", \"aru@nima\")\n",
    "addCsvFile(\"Frieda\", \"myname@FRD\")\n",
    "readCsvFile()"
   ]
  }
 ],
 "metadata": {
  "kernelspec": {
   "display_name": "Python 3",
   "language": "python",
   "name": "python3"
  },
  "language_info": {
   "codemirror_mode": {
    "name": "ipython",
    "version": 3
   },
   "file_extension": ".py",
   "mimetype": "text/x-python",
   "name": "python",
   "nbconvert_exporter": "python",
   "pygments_lexer": "ipython3",
   "version": "3.7.6"
  }
 },
 "nbformat": 4,
 "nbformat_minor": 4
}
