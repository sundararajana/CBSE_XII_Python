{
 "cells": [
  {
   "cell_type": "markdown",
   "metadata": {},
   "source": [
    "## Structured text file handling - CSV file handling"
   ]
  },
  {
   "cell_type": "markdown",
   "metadata": {},
   "source": [
    "## CSV files\n",
    "\n",
    "* **CSV (Comma Separated Values)** files are delimited text files that store tabular data. Data is stored in rows.\n",
    "\n",
    "* In each row, columns are separated by a **delimiter (which is typically comma)**.\n",
    "\n",
    "* If delimiter for columns is tab character, then it is called **Tab Separated Values (TSV)** file."
   ]
  },
  {
   "cell_type": "markdown",
   "metadata": {},
   "source": [
    "## CBSE Sample Question Paper (2020-21) Computer Science (083)\n",
    "\n",
    "Write the full form of CSV."
   ]
  },
  {
   "cell_type": "markdown",
   "metadata": {},
   "source": [
    "CSV stands for **Command Separated Values**"
   ]
  },
  {
   "cell_type": "code",
   "execution_count": 1,
   "metadata": {},
   "outputs": [],
   "source": [
    "# import csv module to read, write CSV files\n",
    "\n",
    "import csv"
   ]
  },
  {
   "cell_type": "code",
   "execution_count": 2,
   "metadata": {},
   "outputs": [],
   "source": [
    "f = open(\"student.csv\", \"w\")\n",
    "\n",
    "# create a CSV writer\n",
    "\n",
    "writer = csv.writer(f)\n",
    "\n",
    "# write a single record using writerow\n",
    "\n",
    "writer.writerow([\"John\", 27])\n",
    "writer.writerow([\"Jana\", 19])\n",
    "\n",
    "# write multiple records at a time\n",
    "\n",
    "writer.writerows([[\"Smith\", 40], [\"Kannan\", 45]])\n",
    "\n",
    "f.close()"
   ]
  },
  {
   "cell_type": "code",
   "execution_count": 3,
   "metadata": {},
   "outputs": [
    {
     "name": "stdout",
     "output_type": "stream",
     "text": [
      "John,27\r",
      "\r\n",
      "Jana,19\r",
      "\r\n",
      "Smith,40\r",
      "\r\n",
      "Kannan,45\r",
      "\r\n"
     ]
    }
   ],
   "source": [
    "# using operating system command to show the file\n",
    "\n",
    "!cat student.csv"
   ]
  },
  {
   "cell_type": "markdown",
   "metadata": {},
   "source": [
    "![colon separated file](images/comma_delimiter.png)"
   ]
  },
  {
   "cell_type": "code",
   "execution_count": 4,
   "metadata": {},
   "outputs": [
    {
     "name": "stdout",
     "output_type": "stream",
     "text": [
      "['John', '27']\n",
      "['Jana', '19']\n",
      "['Smith', '40']\n",
      "['Kannan', '45']\n"
     ]
    }
   ],
   "source": [
    "f = open(\"student.csv\", \"r\")\n",
    "\n",
    "reader = csv.reader(f)\n",
    "\n",
    "# read each record as list and process it\n",
    "\n",
    "for record in reader:\n",
    "    print(record)\n",
    "    \n",
    "f.close()"
   ]
  },
  {
   "cell_type": "markdown",
   "metadata": {},
   "source": [
    "## change the delimiter"
   ]
  },
  {
   "cell_type": "code",
   "execution_count": 5,
   "metadata": {},
   "outputs": [],
   "source": [
    "f = open(\"student.csv\", \"w\")\n",
    "\n",
    "# create a CSV writer\n",
    "\n",
    "writer = csv.writer(f, delimiter=\":\")\n",
    "\n",
    "# write a single record using writerow\n",
    "\n",
    "writer.writerow([\"John\", 27])\n",
    "writer.writerow([\"Jana\", 19])\n",
    "\n",
    "# write multiple records at a time\n",
    "\n",
    "writer.writerows([[\"Smith\", 40], [\"Kannan\", 45]])\n",
    "\n",
    "f.close()"
   ]
  },
  {
   "cell_type": "code",
   "execution_count": 6,
   "metadata": {},
   "outputs": [
    {
     "name": "stdout",
     "output_type": "stream",
     "text": [
      "John:27\r",
      "\r\n",
      "Jana:19\r",
      "\r\n",
      "Smith:40\r",
      "\r\n",
      "Kannan:45\r",
      "\r\n"
     ]
    }
   ],
   "source": [
    "# using operating system command to show the file\n",
    "\n",
    "!cat student.csv"
   ]
  },
  {
   "cell_type": "markdown",
   "metadata": {},
   "source": [
    "![colon separated file](images/colon_delimiter.png)"
   ]
  },
  {
   "cell_type": "code",
   "execution_count": 7,
   "metadata": {},
   "outputs": [
    {
     "name": "stdout",
     "output_type": "stream",
     "text": [
      "['John', '27']\n",
      "['Jana', '19']\n",
      "['Smith', '40']\n",
      "['Kannan', '45']\n"
     ]
    }
   ],
   "source": [
    "f = open(\"student.csv\", \"r\")\n",
    "\n",
    "# make sure you pass the same delimiter used while writing!\n",
    "reader = csv.reader(f, delimiter=\":\")\n",
    "\n",
    "# read each record as list and process it\n",
    "\n",
    "for record in reader:\n",
    "    print(record)\n",
    "    \n",
    "f.close()"
   ]
  }
 ],
 "metadata": {
  "kernelspec": {
   "display_name": "Python 3",
   "language": "python",
   "name": "python3"
  },
  "language_info": {
   "codemirror_mode": {
    "name": "ipython",
    "version": 3
   },
   "file_extension": ".py",
   "mimetype": "text/x-python",
   "name": "python",
   "nbconvert_exporter": "python",
   "pygments_lexer": "ipython3",
   "version": "3.7.6"
  }
 },
 "nbformat": 4,
 "nbformat_minor": 4
}
