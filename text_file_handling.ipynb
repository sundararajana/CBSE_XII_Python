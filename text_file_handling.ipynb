{
 "cells": [
  {
   "cell_type": "markdown",
   "metadata": {},
   "source": [
    "## Python File Handling - Text Files\n",
    "\n",
    "\n",
    "Many computer programs work with files. Files help in stroing information permanently. But disk file reading/writing is slower compared to memory. Disk data is read/write in big buffers by the Operating system and when file is closed those temporary buffers are \"flushed\" into the disk. That's why it is important to \"close\" files opened for reading and/or writing. When you open a file, you get a \"file handle\" - this does setting up of buffers etc. File read/write happens via the handle. When file is closed, data is flushed from buffer to actual disk storage. File handle is \"disconnected\" from the file at that point.\n",
    "\n",
    "\n",
    "### Text Files\n",
    "\n",
    "A text file can be understood as a sequence of characters\n",
    "consisting of alphabets, numbers and other special\n",
    "symbols. Files with extensions like .txt, .py, .csv, etc.\n",
    "are some examples of text files. When we open a text file\n",
    "using a text editor (e.g., Notepad), we see several lines\n",
    "of text. However, the file contents are not stored in such\n",
    "a way internally. Rather, they are stored in sequence\n",
    "of bytes consisting of 0s and 1s. In ASCII, UNICODE or\n",
    "any other encoding scheme, the value of each character\n",
    "of the text file is stored as bytes. So, while opening a\n",
    "text file, the text editor translates each ASCII value\n",
    "and shows us the equivalent character that is readable\n",
    "by the human being. For example, the ASCII value 65 will be displayed by a text\n",
    "editor as the letter ‘A’ since the number 65 in ASCII character set represents ‘A’.\n",
    "Each line of a text file is terminated by a special character, called the End of Line (EOL).\n",
    "\n",
    "### Binary Files\n",
    "\n",
    "Binary files are also stored in terms of bytes (0s and 1s),\n",
    "but unlike text files, these bytes do not represent the\n",
    "ASCII values of characters. Rather, they represent the\n",
    "actual content such as image, audio, video, compressed\n",
    "versions of other files, executable files, etc. These files\n",
    "are not human readable. Thus, trying to open a binary\n",
    "file using a text editor will show some garbage values.\n",
    "We need specific software to read or write the contents\n",
    "of a binary file."
   ]
  },
  {
   "cell_type": "markdown",
   "metadata": {},
   "source": [
    "## open, write, close functions"
   ]
  },
  {
   "cell_type": "code",
   "execution_count": 2,
   "metadata": {},
   "outputs": [],
   "source": [
    "\n",
    "# open a file for writing\n",
    "\n",
    "# \"file.text\" is name of the file. \"w\" is mode (write mode in this case). \"w\" mode will overwrite file\n",
    "# you can use \"a\" to append more lines to existing content\n",
    "\n",
    "f = open(\"file.txt\", \"w\")\n",
    "\n",
    "\n",
    "# write a single line. Note the '\\n' character. Without\n",
    "# that \"write\" won't automatically put newline character!\n",
    "\n",
    "f.write(\"this is simple text\\n\")\n",
    "f.write(\"this is second line of text\\n\")\n",
    "\n",
    "# write more than one line at a time. Again \"\\n\" needed explicitly\n",
    "f.writelines([ \"this is third line\\n\", \"this is fourth line\\n\"])\n",
    "\n",
    "# close the file\n",
    "f.close()"
   ]
  },
  {
   "cell_type": "markdown",
   "metadata": {},
   "source": [
    "![file open modes](images/file_open_modes.png)"
   ]
  },
  {
   "cell_type": "markdown",
   "metadata": {},
   "source": [
    "## Using file as iterable object for reading line by line"
   ]
  },
  {
   "cell_type": "code",
   "execution_count": 3,
   "metadata": {},
   "outputs": [
    {
     "name": "stdout",
     "output_type": "stream",
     "text": [
      "this is simple text\n",
      "\n",
      "this is second line of text\n",
      "\n",
      "this is third line\n",
      "\n",
      "this is fourth line\n",
      "\n"
     ]
    }
   ],
   "source": [
    "# open the same file for reading. \"r\" standard \n",
    "f = open(\"file.txt\", \"r\")\n",
    "\n",
    "# file can be iterated to get each line to process it\n",
    "# Here we read each line from file and print it\n",
    "for i in f:\n",
    "    print(i)\n",
    "\n",
    "f.close()"
   ]
  },
  {
   "cell_type": "markdown",
   "metadata": {},
   "source": [
    "## readlines function to read all lines as a list"
   ]
  },
  {
   "cell_type": "code",
   "execution_count": 4,
   "metadata": {},
   "outputs": [
    {
     "name": "stdout",
     "output_type": "stream",
     "text": [
      "<class 'list'>\n",
      "this is simple text\n",
      "\n",
      "this is second line of text\n",
      "\n",
      "this is third line\n",
      "\n",
      "this is fourth line\n",
      "\n"
     ]
    }
   ],
   "source": [
    "f = open(\"file.txt\", \"r\")\n",
    "\n",
    "# we can read all lines one shot into a list\n",
    "lines = f.readlines()\n",
    "print(type(lines))\n",
    "for i in lines:\n",
    "    print(i)\n",
    "f.close()"
   ]
  },
  {
   "cell_type": "markdown",
   "metadata": {},
   "source": [
    "## read function to read entire file content as a string"
   ]
  },
  {
   "cell_type": "code",
   "execution_count": 5,
   "metadata": {},
   "outputs": [
    {
     "name": "stdout",
     "output_type": "stream",
     "text": [
      "this is simple text\n",
      "this is second line of text\n",
      "this is third line\n",
      "this is fourth line\n",
      "\n"
     ]
    }
   ],
   "source": [
    "f = open(\"file.txt\", \"r\")\n",
    "\n",
    "# we can read entire file content in one-shot as a string\n",
    "s = f.read()\n",
    "\n",
    "print(s)\n",
    "f.close()"
   ]
  },
  {
   "cell_type": "markdown",
   "metadata": {},
   "source": [
    "## open file in 'append' mode"
   ]
  },
  {
   "cell_type": "code",
   "execution_count": 6,
   "metadata": {},
   "outputs": [],
   "source": [
    "# open the same file for append. Append mode -> add more text at the end of file\n",
    "# rather than starting from the beginning of the file\n",
    "\n",
    "f = open(\"file.txt\", \"a\")\n",
    "\n",
    "# write a list of lines into the file\n",
    "f.writelines([\"This is fifth line\\n\", \"This is sixth line\\n\"])\n",
    "\n",
    "# close the file\n",
    "f.close()\n"
   ]
  },
  {
   "cell_type": "code",
   "execution_count": 7,
   "metadata": {},
   "outputs": [
    {
     "name": "stdout",
     "output_type": "stream",
     "text": [
      "this is simple text\n",
      "this is second line of text\n",
      "this is third line\n",
      "this is fourth line\n",
      "This is fifth line\n",
      "This is sixth line\n",
      "\n"
     ]
    }
   ],
   "source": [
    "f = open(\"file.txt\", \"r\")\n",
    "\n",
    "# we can read entire file content in one-shot as a string\n",
    "s = f.read()\n",
    "\n",
    "print(s)\n",
    "f.close()"
   ]
  },
  {
   "cell_type": "markdown",
   "metadata": {},
   "source": [
    "## read 'n' characters at a time"
   ]
  },
  {
   "cell_type": "code",
   "execution_count": 8,
   "metadata": {},
   "outputs": [
    {
     "name": "stdout",
     "output_type": "stream",
     "text": [
      "this is simple text\n",
      "th\n"
     ]
    }
   ],
   "source": [
    "f = open(\"file.txt\", \"r\")\n",
    "\n",
    "# read only 'n' characters\n",
    "s = f.read(22)\n",
    "\n",
    "print(s)\n",
    "f.close()"
   ]
  },
  {
   "cell_type": "markdown",
   "metadata": {},
   "source": [
    "## readline function to read single line at a time"
   ]
  },
  {
   "cell_type": "code",
   "execution_count": 9,
   "metadata": {},
   "outputs": [
    {
     "name": "stdout",
     "output_type": "stream",
     "text": [
      "this is simple text\n",
      "\n",
      "this is second line of text\n",
      "\n",
      "this is third line\n",
      "\n",
      "this is fourth line\n",
      "\n",
      "This is fifth line\n",
      "\n",
      "This is sixth line\n",
      "\n"
     ]
    }
   ],
   "source": [
    "# read single line at a time\n",
    "\n",
    "f = open(\"file.txt\", \"r\")\n",
    "\n",
    "while True:\n",
    "    line = f.readline()\n",
    "    if line == \"\":\n",
    "        break\n",
    "    print(line)\n",
    "    \n",
    "f.close()"
   ]
  },
  {
   "cell_type": "markdown",
   "metadata": {},
   "source": [
    "## handling file using 'with' statement\n",
    "\n",
    "with statement can automatically closes the files opened. There is no need to remember to close "
   ]
  },
  {
   "cell_type": "code",
   "execution_count": 10,
   "metadata": {},
   "outputs": [
    {
     "name": "stdout",
     "output_type": "stream",
     "text": [
      "this is simple text\n",
      "this is second line of text\n",
      "this is third line\n",
      "this is fourth line\n",
      "This is fifth line\n",
      "This is sixth line\n",
      "\n"
     ]
    }
   ],
   "source": [
    "with open(\"file.txt\", \"r\") as f:\n",
    "    # we can read entire file content in one-shot as a string\n",
    "    s = f.read()\n",
    "    print(s)\n",
    "    # file is closed automatically after with statement ends"
   ]
  },
  {
   "cell_type": "markdown",
   "metadata": {},
   "source": [
    "## standard input, output, error as files\n",
    "\n",
    "Standard input (keyboard), standard output, error (terminal screen) can be treated as files. These special files are available from **sys** module"
   ]
  },
  {
   "cell_type": "code",
   "execution_count": 11,
   "metadata": {},
   "outputs": [],
   "source": [
    "import sys"
   ]
  },
  {
   "cell_type": "code",
   "execution_count": 12,
   "metadata": {},
   "outputs": [
    {
     "name": "stderr",
     "output_type": "stream",
     "text": [
      "Error!!"
     ]
    }
   ],
   "source": [
    "sys.stderr.write(\"Error!!\")"
   ]
  },
  {
   "cell_type": "code",
   "execution_count": 14,
   "metadata": {},
   "outputs": [
    {
     "name": "stdout",
     "output_type": "stream",
     "text": [
      "Howdy"
     ]
    }
   ],
   "source": [
    "sys.stdout.write(\"Howdy\")"
   ]
  },
  {
   "cell_type": "code",
   "execution_count": 20,
   "metadata": {},
   "outputs": [
    {
     "name": "stderr",
     "output_type": "stream",
     "text": [
      "Error 1\n",
      "Error 2\n"
     ]
    }
   ],
   "source": [
    "sys.stderr.writelines([\"Error 1\\n\", \"Error 2\\n\"])"
   ]
  },
  {
   "cell_type": "code",
   "execution_count": 21,
   "metadata": {},
   "outputs": [
    {
     "name": "stdout",
     "output_type": "stream",
     "text": [
      "hello\n",
      "howdy\n"
     ]
    }
   ],
   "source": [
    "sys.stdout.writelines([\"hello\\n\", \"howdy\\n\"])"
   ]
  },
  {
   "cell_type": "code",
   "execution_count": 32,
   "metadata": {},
   "outputs": [
    {
     "data": {
      "text/plain": [
       "''"
      ]
     },
     "execution_count": 32,
     "metadata": {},
     "output_type": "execute_result"
    }
   ],
   "source": [
    "# doesn't work in Jupter notebook. Try with ipython\n",
    "s = sys.stdin.read()\n",
    "\n",
    "s"
   ]
  },
  {
   "cell_type": "markdown",
   "metadata": {},
   "source": [
    "## file open with absolute path\n",
    "\n",
    "f = open(\"c:\\\\mydir\\\\myfile.txt\", \"r\")\n",
    "\n",
    "\n",
    "    or equivalently using a raw string file pathname\n",
    "    \n",
    "f = open(r\"c:\\mydir\\myfile.txt\", \"r\")\n"
   ]
  },
  {
   "cell_type": "markdown",
   "metadata": {},
   "source": [
    "## file open with relative path\n",
    "\n",
    "f = open(\"..\\\\parent_dir_file.txt\", \"r\")\n",
    "\n",
    "    or equivalently using a raw string file pathname\n",
    "    \n",
    "f = open(r\"..\\parent_dir_file.txt\", \"r\")"
   ]
  }
 ],
 "metadata": {
  "kernelspec": {
   "display_name": "Python 3",
   "language": "python",
   "name": "python3"
  },
  "language_info": {
   "codemirror_mode": {
    "name": "ipython",
    "version": 3
   },
   "file_extension": ".py",
   "mimetype": "text/x-python",
   "name": "python",
   "nbconvert_exporter": "python",
   "pygments_lexer": "ipython3",
   "version": "3.7.6"
  }
 },
 "nbformat": 4,
 "nbformat_minor": 2
}
