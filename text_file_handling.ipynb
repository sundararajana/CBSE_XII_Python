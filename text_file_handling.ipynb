{
 "cells": [
  {
   "cell_type": "markdown",
   "metadata": {},
   "source": [
    "## Python File Handling - Text Files\n",
    "\n",
    "\n",
    "Many computer programs work with files. Files help in stroing information permanently. But disk file reading/writing is slower compared to memory. Disk data is read/write in big buffers by the Operating system and when file is closed those temporary buffers are \"flushed\" into the disk. That's why it is important to \"close\" files opened for reading and/or writing. When you open a file, you get a \"file handle\" - this does setting up of buffers etc. File read/write happens via the handle. When file is closed, data is flushed from buffer to actual disk storage. File handle is \"disconnected\" from the file at that point.\n",
    "\n",
    "\n",
    "### Text Files\n",
    "\n",
    "A text file can be understood as a sequence of characters\n",
    "consisting of alphabets, numbers and other special\n",
    "symbols. Files with extensions like .txt, .py, .csv, etc.\n",
    "are some examples of text files. When we open a text file\n",
    "using a text editor (e.g., Notepad), we see several lines\n",
    "of text. However, the file contents are not stored in such\n",
    "a way internally. Rather, they are stored in sequence\n",
    "of bytes consisting of 0s and 1s. In ASCII, UNICODE or\n",
    "any other encoding scheme, the value of each character\n",
    "of the text file is stored as bytes. So, while opening a\n",
    "text file, the text editor translates each ASCII value\n",
    "and shows us the equivalent character that is readable\n",
    "by the human being. For example, the ASCII value 65 will be displayed by a text\n",
    "editor as the letter ‘A’ since the number 65 in ASCII character set represents ‘A’.\n",
    "Each line of a text file is terminated by a special character, called the End of Line (EOL).\n",
    "\n",
    "### Binary Files\n",
    "\n",
    "Binary files are also stored in terms of bytes (0s and 1s),\n",
    "but unlike text files, these bytes do not represent the\n",
    "ASCII values of characters. Rather, they represent the\n",
    "actual content such as image, audio, video, compressed\n",
    "versions of other files, executable files, etc. These files\n",
    "are not human readable. Thus, trying to open a binary\n",
    "file using a text editor will show some garbage values.\n",
    "We need specific software to read or write the contents\n",
    "of a binary file."
   ]
  },
  {
   "cell_type": "markdown",
   "metadata": {},
   "source": [
    "## open, close functions"
   ]
  },
  {
   "cell_type": "code",
   "execution_count": 1,
   "metadata": {},
   "outputs": [],
   "source": [
    "\n",
    "# open a file for writing\n",
    "\n",
    "# \"file.text\" is name of the file. \"w\" is mode (write mode in this case). \"w\" mode will overwrite file\n",
    "# you can use \"a\" to append more lines to existing content\n",
    "\n",
    "f = open(\"file.txt\", \"w\")\n",
    "f.close()"
   ]
  },
  {
   "cell_type": "markdown",
   "metadata": {},
   "source": [
    "![file open modes](images/file_open_modes.png)"
   ]
  },
  {
   "cell_type": "markdown",
   "metadata": {},
   "source": [
    "## The write() method\n",
    "\n",
    "write() method takes a string as an argument and writes\n",
    "it to the text file. It returns the number of characters\n",
    "being written on single execution of the write() method.\n",
    "Also, we need to add a newline character (\\n) at the end\n",
    "of every sentence to mark the end of line."
   ]
  },
  {
   "cell_type": "code",
   "execution_count": 2,
   "metadata": {},
   "outputs": [],
   "source": [
    "# open a file for writing\n",
    "\n",
    "f = open(\"file.txt\", \"w\")\n",
    "\n",
    "# write a single line. Note the '\\n' character. Without\n",
    "# that \"write\" won't automatically put newline character!\n",
    "\n",
    "f.write(\"this is simple text\\n\")\n",
    "f.write(\"this is second line of text\\n\")\n",
    "\n",
    "# close the file\n",
    "f.close()"
   ]
  },
  {
   "cell_type": "markdown",
   "metadata": {},
   "source": [
    "## The writelines() method\n",
    "\n",
    "This method is used to write multiple strings to a file.\n",
    "We need to pass an iterable object like lists, tuple, etc.\n",
    "containing strings to the writelines() method."
   ]
  },
  {
   "cell_type": "code",
   "execution_count": 3,
   "metadata": {},
   "outputs": [],
   "source": [
    "# open a file for writing\n",
    "\n",
    "f = open(\"file.txt\", \"w\")\n",
    "\n",
    "\n",
    "# write a single line. Note the '\\n' character. Without\n",
    "# that \"write\" won't automatically put newline character!\n",
    "\n",
    "f.write(\"this is simple text\\n\")\n",
    "f.write(\"this is second line of text\\n\")\n",
    "\n",
    "# write more than one line at a time. Again \"\\n\" needed explicitly\n",
    "f.writelines([ \"this is third line\\n\", \"this is fourth line\\n\"])\n",
    "\n",
    "\n",
    "# close the file\n",
    "f.close()"
   ]
  },
  {
   "cell_type": "markdown",
   "metadata": {},
   "source": [
    "## Using file as iterable object for reading line by line"
   ]
  },
  {
   "cell_type": "code",
   "execution_count": 4,
   "metadata": {},
   "outputs": [
    {
     "name": "stdout",
     "output_type": "stream",
     "text": [
      "this is simple text\n",
      "\n",
      "this is second line of text\n",
      "\n",
      "this is third line\n",
      "\n",
      "this is fourth line\n",
      "\n"
     ]
    }
   ],
   "source": [
    "# open the same file for reading. \"r\" standard \n",
    "f = open(\"file.txt\", \"r\")\n",
    "\n",
    "# file can be iterated to get each line to process it\n",
    "# Here we read each line from file and print it\n",
    "for i in f:\n",
    "    print(i)\n",
    "\n",
    "f.close()"
   ]
  },
  {
   "cell_type": "markdown",
   "metadata": {},
   "source": [
    "## The readline([n]) method\n",
    "\n",
    "This method reads one complete line from a file where\n",
    "each line terminates with a newline (\\n) character. It\n",
    "can also be used to read a specified number (n) of bytes\n",
    "of data from a file but maximum up to the newline\n",
    "character (\\n).\n",
    "\n",
    "If no argument or a negative number is specified, it\n",
    "reads a complete line and returns string."
   ]
  },
  {
   "cell_type": "code",
   "execution_count": 5,
   "metadata": {},
   "outputs": [
    {
     "name": "stdout",
     "output_type": "stream",
     "text": [
      "this is si\n",
      "mple text\n",
      "\n",
      "this is second line of text\n",
      "\n"
     ]
    }
   ],
   "source": [
    "myobject = open(\"file.txt\",'r')\n",
    "print(myobject.readline(10))\n",
    "print(myobject.readline())\n",
    "print(myobject.readline())"
   ]
  },
  {
   "cell_type": "markdown",
   "metadata": {},
   "source": [
    "## The readlines() method\n",
    "\n",
    "The method reads all the lines and returns the lines\n",
    "along with newline as a list of strings."
   ]
  },
  {
   "cell_type": "code",
   "execution_count": 6,
   "metadata": {},
   "outputs": [
    {
     "name": "stdout",
     "output_type": "stream",
     "text": [
      "<class 'list'>\n",
      "this is simple text\n",
      "\n",
      "this is second line of text\n",
      "\n",
      "this is third line\n",
      "\n",
      "this is fourth line\n",
      "\n"
     ]
    }
   ],
   "source": [
    "f = open(\"file.txt\", \"r\")\n",
    "\n",
    "# we can read all lines one shot into a list\n",
    "lines = f.readlines()\n",
    "print(type(lines))\n",
    "for i in lines:\n",
    "    print(i)\n",
    "f.close()"
   ]
  },
  {
   "cell_type": "markdown",
   "metadata": {},
   "source": [
    "## read function to read entire file content as a string\n",
    "\n",
    "\n",
    "### The read() method\n",
    "\n",
    "This method is used to read a specified number of bytes\n",
    "of data from a data file. The syntax of read() method is:\n",
    "\n",
    "```python\n",
    "    file_object.read(n)\n",
    "```"
   ]
  },
  {
   "cell_type": "code",
   "execution_count": 7,
   "metadata": {},
   "outputs": [
    {
     "name": "stdout",
     "output_type": "stream",
     "text": [
      "this is simple text\n",
      "this is second line of text\n",
      "this is third line\n",
      "this is fourth line\n",
      "\n"
     ]
    }
   ],
   "source": [
    "f = open(\"file.txt\", \"r\")\n",
    "\n",
    "# we can read entire file content in one-shot as a string\n",
    "s = f.read()\n",
    "\n",
    "print(s)\n",
    "f.close()"
   ]
  },
  {
   "cell_type": "code",
   "execution_count": 8,
   "metadata": {},
   "outputs": [
    {
     "name": "stdout",
     "output_type": "stream",
     "text": [
      "first 10 chars: this is si\n",
      "next 12 chars: mple text\n",
      "th\n"
     ]
    }
   ],
   "source": [
    "f = open(\"file.txt\", \"r\")\n",
    "\n",
    "# we can read next n characters as string\n",
    "s = f.read(10)\n",
    "\n",
    "print(\"first 10 chars:\", s)\n",
    "\n",
    "s = f.read(12) # read further 12 chars\n",
    "\n",
    "print(\"next 12 chars:\", s)\n",
    "\n",
    "f.close()"
   ]
  },
  {
   "cell_type": "markdown",
   "metadata": {},
   "source": [
    "## open file in 'append' mode"
   ]
  },
  {
   "cell_type": "code",
   "execution_count": 9,
   "metadata": {},
   "outputs": [],
   "source": [
    "# open the same file for append. Append mode -> add more text at the end of file\n",
    "# rather than starting from the beginning of the file\n",
    "\n",
    "f = open(\"file.txt\", \"a\")\n",
    "\n",
    "# write a list of lines into the file\n",
    "f.writelines([\"This is fifth line\\n\", \"This is sixth line\\n\"])\n",
    "\n",
    "# close the file\n",
    "f.close()\n"
   ]
  },
  {
   "cell_type": "code",
   "execution_count": 10,
   "metadata": {},
   "outputs": [
    {
     "name": "stdout",
     "output_type": "stream",
     "text": [
      "this is simple text\n",
      "this is second line of text\n",
      "this is third line\n",
      "this is fourth line\n",
      "This is fifth line\n",
      "This is sixth line\n",
      "\n"
     ]
    }
   ],
   "source": [
    "f = open(\"file.txt\", \"r\")\n",
    "\n",
    "# we can read entire file content in one-shot as a string\n",
    "s = f.read()\n",
    "\n",
    "print(s)\n",
    "f.close()"
   ]
  },
  {
   "cell_type": "markdown",
   "metadata": {},
   "source": [
    "## readline function to read single line at a time"
   ]
  },
  {
   "cell_type": "code",
   "execution_count": 11,
   "metadata": {},
   "outputs": [
    {
     "name": "stdout",
     "output_type": "stream",
     "text": [
      "this is simple text\n",
      "\n",
      "this is second line of text\n",
      "\n",
      "this is third line\n",
      "\n",
      "this is fourth line\n",
      "\n",
      "This is fifth line\n",
      "\n",
      "This is sixth line\n",
      "\n"
     ]
    }
   ],
   "source": [
    "# read single line at a time\n",
    "\n",
    "f = open(\"file.txt\", \"r\")\n",
    "\n",
    "while True:\n",
    "    line = f.readline()\n",
    "    if line == \"\":\n",
    "        break\n",
    "    print(line)\n",
    "    \n",
    "f.close()"
   ]
  },
  {
   "cell_type": "markdown",
   "metadata": {},
   "source": [
    "## handling file using 'with' statement\n",
    "\n",
    "with statement can automatically closes the files opened. There is no need to remember to close "
   ]
  },
  {
   "cell_type": "code",
   "execution_count": 12,
   "metadata": {},
   "outputs": [
    {
     "name": "stdout",
     "output_type": "stream",
     "text": [
      "this is simple text\n",
      "this is second line of text\n",
      "this is third line\n",
      "this is fourth line\n",
      "This is fifth line\n",
      "This is sixth line\n",
      "\n"
     ]
    }
   ],
   "source": [
    "with open(\"file.txt\", \"r\") as f:\n",
    "    # we can read entire file content in one-shot as a string\n",
    "    s = f.read()\n",
    "    print(s)\n",
    "    # file is closed automatically after with statement ends"
   ]
  },
  {
   "cell_type": "markdown",
   "metadata": {},
   "source": [
    "## Setting Offsets in a File\n",
    "\n",
    "The functions that we have learnt till now are used to\n",
    "access the data sequentially from a file. But if we want\n",
    "to access data in a random fashion, then Python gives\n",
    "us **seek()** and **tell()** functions to do so\n",
    "\n",
    "\n",
    "### The tell() method\n",
    "\n",
    "This function returns an integer that specifies the\n",
    "current position of the file object in the file. The position\n",
    "so specified is the byte position from the beginning of\n",
    "the file till the current position of the file object. The\n",
    "syntax of using tell() is:\n",
    "\n",
    "```python\n",
    "    file_object.tell()\n",
    "```\n",
    "\n",
    "### The seek() method\n",
    "This method is used to position the file object at a\n",
    "particular position in a file. The syntax of seek() is:\n",
    "\n",
    "```python\n",
    "    file_object.seek(offset [, reference_point])\n",
    "```\n",
    "\n",
    "In the above syntax, offset is the number of bytes by\n",
    "which the file object is to be moved. reference_point\n",
    "indicates the starting position of the file object. That is,\n",
    "with reference to which position, the offset has to be\n",
    "counted. It can have any of the following values:\n",
    "\n",
    "* 0 - beginning of the file\n",
    "* 1 - current position of the file\n",
    "* 2 - end of file\n",
    "\n",
    "By default, the value of reference_point is 0, i.e.\n",
    "the offset is counted from the beginning of the file. For\n",
    "example, the statement fileObject.seek(5,0) will\n",
    "position the file object at 5th byte position from the\n",
    "beginning of the file."
   ]
  },
  {
   "cell_type": "code",
   "execution_count": 13,
   "metadata": {},
   "outputs": [
    {
     "name": "stdout",
     "output_type": "stream",
     "text": [
      "Learning to move the file object\n",
      "File content: file.txt\n",
      "\n",
      "this is simple text\n",
      "this is second line of text\n",
      "this is third line\n",
      "this is fourth line\n",
      "This is fifth line\n",
      "This is sixth line\n",
      "\n",
      "Initially, the position of the file object is: 125\n",
      "Now the file object is at the beginning of the file: 0\n",
      "We are moving to 5'th byte position from the beginning of file\n",
      "The position of the file object is at 5\n",
      "File content from position 5\n",
      "\n",
      "is simple text\n",
      "this is second line of text\n",
      "this is third line\n",
      "this is fourth line\n",
      "This is fifth line\n",
      "This is sixth line\n",
      "\n"
     ]
    }
   ],
   "source": [
    "## Program 2-2 Application of seek() and tell()\n",
    "\n",
    "print(\"Learning to move the file object\")\n",
    "fileobject = open(\"file.txt\",\"r+\")\n",
    "print(\"File content: file.txt\\n\")\n",
    "s = fileobject.read()\n",
    "print(s)\n",
    "\n",
    "print(\"Initially, the position of the file object is:\", fileobject.tell())\n",
    "fileobject.seek(0)\n",
    "\n",
    "print(\"Now the file object is at the beginning of the file:\", fileobject.tell())\n",
    "fileobject.seek(5)\n",
    "\n",
    "print(\"We are moving to 5'th byte position from the beginning of file\")\n",
    "print(\"The position of the file object is at\", fileobject.tell())\n",
    "\n",
    "print(\"File content from position 5\\n\")\n",
    "s = fileobject.read()\n",
    "print(s)"
   ]
  },
  {
   "cell_type": "markdown",
   "metadata": {},
   "source": [
    "## Program 2-5 To perform reading and writing operation in a text file"
   ]
  },
  {
   "cell_type": "code",
   "execution_count": 22,
   "metadata": {},
   "outputs": [
    {
     "name": "stdout",
     "output_type": "stream",
     "text": [
      "WRITING DATA IN THE FILE\n",
      "\n",
      "Enter a sentence Hello World\n",
      "Do you wish to enter more data? (y/n): y\n",
      "Enter a sentence All the world's stage\n",
      "Do you wish to enter more data? (y/n): n\n",
      "The byte position of file object is  34\n",
      "\n",
      "READING DATA FROM THE FILE\n",
      "Hello World\n",
      "All the world's stage\n",
      "\n"
     ]
    }
   ],
   "source": [
    "# open file for w+ (write plus means write and read)\n",
    "\n",
    "fileobject = open(\"report.txt\", \"w+\")\n",
    "\n",
    "print (\"WRITING DATA IN THE FILE\")\n",
    "print() # to display a blank line\n",
    "while True:\n",
    "    line = input(\"Enter a sentence \")\n",
    "    fileobject.write(line)\n",
    "    fileobject.write('\\n')\n",
    "    choice = input(\"Do you wish to enter more data? (y/n): \")\n",
    "    if choice in ('n','N'):\n",
    "        break\n",
    "        \n",
    "print(\"The byte position of file object is \", fileobject.tell())\n",
    "# now change file position\n",
    "fileobject.seek(0) #places file object at beginning of file\n",
    "\n",
    "print()\n",
    "print(\"READING DATA FROM THE FILE\")\n",
    "s = fileobject.read()\n",
    "print(s)\n",
    "    \n",
    "fileobject.close()"
   ]
  },
  {
   "cell_type": "markdown",
   "metadata": {},
   "source": [
    "## standard input, output, error as files\n",
    "\n",
    "Standard input (keyboard), standard output, error (terminal screen) can be treated as files. These special files are available from **sys** module"
   ]
  },
  {
   "cell_type": "code",
   "execution_count": 23,
   "metadata": {},
   "outputs": [],
   "source": [
    "import sys"
   ]
  },
  {
   "cell_type": "code",
   "execution_count": 24,
   "metadata": {},
   "outputs": [
    {
     "name": "stderr",
     "output_type": "stream",
     "text": [
      "Error!!"
     ]
    }
   ],
   "source": [
    "sys.stderr.write(\"Error!!\")"
   ]
  },
  {
   "cell_type": "code",
   "execution_count": 25,
   "metadata": {},
   "outputs": [
    {
     "name": "stdout",
     "output_type": "stream",
     "text": [
      "Howdy"
     ]
    }
   ],
   "source": [
    "sys.stdout.write(\"Howdy\")"
   ]
  },
  {
   "cell_type": "code",
   "execution_count": 26,
   "metadata": {},
   "outputs": [
    {
     "name": "stderr",
     "output_type": "stream",
     "text": [
      "Error 1\n",
      "Error 2\n"
     ]
    }
   ],
   "source": [
    "sys.stderr.writelines([\"Error 1\\n\", \"Error 2\\n\"])"
   ]
  },
  {
   "cell_type": "code",
   "execution_count": 27,
   "metadata": {},
   "outputs": [
    {
     "name": "stdout",
     "output_type": "stream",
     "text": [
      "hello\n",
      "howdy\n"
     ]
    }
   ],
   "source": [
    "sys.stdout.writelines([\"hello\\n\", \"howdy\\n\"])"
   ]
  },
  {
   "cell_type": "code",
   "execution_count": 28,
   "metadata": {},
   "outputs": [
    {
     "data": {
      "text/plain": [
       "''"
      ]
     },
     "execution_count": 28,
     "metadata": {},
     "output_type": "execute_result"
    }
   ],
   "source": [
    "# doesn't work in Jupter notebook. Try with ipython\n",
    "s = sys.stdin.read()\n",
    "\n",
    "s"
   ]
  },
  {
   "cell_type": "markdown",
   "metadata": {},
   "source": [
    "## file open with absolute path\n",
    "\n",
    "f = open(\"c:\\\\mydir\\\\myfile.txt\", \"r\")\n",
    "\n",
    "\n",
    "    or equivalently using a raw string file pathname\n",
    "    \n",
    "f = open(r\"c:\\mydir\\myfile.txt\", \"r\")\n"
   ]
  },
  {
   "cell_type": "markdown",
   "metadata": {},
   "source": [
    "## file open with relative path\n",
    "\n",
    "f = open(\"..\\\\parent_dir_file.txt\", \"r\")\n",
    "\n",
    "    or equivalently using a raw string file pathname\n",
    "    \n",
    "f = open(r\"..\\parent_dir_file.txt\", \"r\")"
   ]
  },
  {
   "cell_type": "markdown",
   "metadata": {},
   "source": [
    "## CBSE Sample Question Paper (2020-21) Computer Science (083)\n",
    "\n",
    "Write a function in Python that counts the number of “Me” or “My” words present in a text file “STORY.TXT”.\n",
    "\n",
    "If the “STORY.TXT” contents are as follows:\n",
    "\n",
    "```txt\n",
    "My first book\n",
    "was Me and\n",
    "My Family. It \n",
    "gave me\n",
    "chance to be\n",
    "Known to the world.\n",
    "```\n",
    "\n",
    "The output of the function should be:\n",
    "\n",
    "Count of Me/My in file: 4"
   ]
  },
  {
   "cell_type": "code",
   "execution_count": 8,
   "metadata": {},
   "outputs": [],
   "source": [
    "# This is to prepare the input file\n",
    "\n",
    "with open(\"story.txt\", \"w\") as f:\n",
    "    f.write(\"\"\"\n",
    "My first book\n",
    "was Me and\n",
    "My Family. It \n",
    "gave me\n",
    "chance to be\n",
    "Known to the world.    \n",
    "    \"\"\")"
   ]
  },
  {
   "cell_type": "code",
   "execution_count": 10,
   "metadata": {},
   "outputs": [
    {
     "name": "stdout",
     "output_type": "stream",
     "text": [
      "Count of Me/My in file: 3\n"
     ]
    }
   ],
   "source": [
    "def displayMeMy():\n",
    "    num = 0\n",
    "    # \"rt\" mode is read-text file mode. It is same as \"r\"\n",
    "    with open(\"story.txt\",\"rt\") as f:\n",
    "        N = f.read()\n",
    "        # print(N)\n",
    "        M = N.split()\n",
    "        for x in M:\n",
    "            if x==\"Me\" or x== \"My\":\n",
    "                # print(x)\n",
    "                num = num + 1\n",
    "    print(\"Count of Me/My in file:\",num)\n",
    "    \n",
    "displayMeMy()"
   ]
  },
  {
   "cell_type": "markdown",
   "metadata": {},
   "source": [
    "## CBSE Sample Question Paper (2020-21) Computer Science (083)\n",
    "\n",
    "\n",
    "Write a function AMCount() in Python, which should read each character of a text file STORY.TXT,\n",
    "should count and display the occurance of alphabets A and M (including small cases a and m too).\n",
    "\n",
    "Example:\n",
    "    \n",
    "If the file content is as follows:\n",
    "\n",
    "```txt\n",
    "Updated information\n",
    "As simplified by official websites.\n",
    "```\n",
    "\n",
    "The EUCount() function should display the output as:\n",
    "\n",
    "```txt\n",
    "A or a: 4\n",
    "M or m: 2\n",
    "```"
   ]
  },
  {
   "cell_type": "code",
   "execution_count": 14,
   "metadata": {},
   "outputs": [],
   "source": [
    "# This is to prepare the input file\n",
    "\n",
    "with open(\"story.txt\", \"w\") as f:\n",
    "    f.write(\"\"\"\n",
    "Updated information\n",
    "As simplified by official websites.  \n",
    "    \"\"\")"
   ]
  },
  {
   "cell_type": "code",
   "execution_count": 15,
   "metadata": {},
   "outputs": [
    {
     "name": "stdout",
     "output_type": "stream",
     "text": [
      "A or a:  4\n",
      "M or m:  2\n"
     ]
    }
   ],
   "source": [
    "def count_A_M():\n",
    "    with open(\"story.txt\",\"r\") as f:\n",
    "        A,M = 0,0\n",
    "        r = f.read()\n",
    "        for x in r:\n",
    "            if x[0]==\"A\" or x[0]==\"a\" :\n",
    "                A = A + 1\n",
    "            elif x[0]==\"M\" or x[0]==\"m\":\n",
    "                M = M + 1\n",
    "                \n",
    "    print(\"A or a: \", A)\n",
    "    print(\"M or m: \", M)\n",
    "    \n",
    "count_A_M()"
   ]
  }
 ],
 "metadata": {
  "kernelspec": {
   "display_name": "Python 3",
   "language": "python",
   "name": "python3"
  },
  "language_info": {
   "codemirror_mode": {
    "name": "ipython",
    "version": 3
   },
   "file_extension": ".py",
   "mimetype": "text/x-python",
   "name": "python",
   "nbconvert_exporter": "python",
   "pygments_lexer": "ipython3",
   "version": "3.7.6"
  }
 },
 "nbformat": 4,
 "nbformat_minor": 2
}
