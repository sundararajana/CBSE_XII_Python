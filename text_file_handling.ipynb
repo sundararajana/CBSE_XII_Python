{
 "cells": [
  {
   "cell_type": "markdown",
   "metadata": {},
   "source": [
    "## Python File Handling - Text Files\n",
    "\n",
    "Many computer programs work with files. Files help in stroing information permanently. But disk file reading/writing is slower compared to memory. Disk data is read/write in big buffers by the Operating system and when file is closed those temporary buffers are \"flushed\" into the disk. That's why it is important to \"close\" files opened for reading and/or writing. When you open a file, you get a \"file handle\" - this does setting up of buffers etc. File read/write happens via the handle. When file is closed, data is flushed from buffer to actual disk storage. File handle is \"disconnected\" from the file at that point."
   ]
  },
  {
   "cell_type": "code",
   "execution_count": 9,
   "metadata": {},
   "outputs": [],
   "source": [
    "\n",
    "# open a file for writing\n",
    "\n",
    "# \"file.text\" is name of the file. \"w\" is mode (write mode in this case). \"w\" mode will overwrite file\n",
    "# you can use \"a\" to append more lines to existing content\n",
    "\n",
    "f = open(\"file.txt\", \"w\")\n",
    "\n",
    "\n",
    "# write a single line. Note the '\\n' character. Without\n",
    "# that \"write\" won't automatically put newline character!\n",
    "\n",
    "f.write(\"this is simple text\\n\")\n",
    "f.write(\"this is second line of text\\n\")\n",
    "\n",
    "# write more than one line at a time. Again \"\\n\" needed explicitly\n",
    "f.writelines([ \"this is third line\\n\", \"this is fourth line\\n\"])\n",
    "\n",
    "# close the file\n",
    "f.close()"
   ]
  },
  {
   "cell_type": "code",
   "execution_count": 10,
   "metadata": {},
   "outputs": [
    {
     "name": "stdout",
     "output_type": "stream",
     "text": [
      "this is simple text\n",
      "\n",
      "this is second line of text\n",
      "\n",
      "this is third line\n",
      "\n",
      "this is fourth line\n",
      "\n"
     ]
    }
   ],
   "source": [
    "# open the same file for reading. \"r\" standard \n",
    "f = open(\"file.txt\", \"r\")\n",
    "\n",
    "# file can be iterated to get each line to process it\n",
    "# Here we read each line from file and print it\n",
    "for i in f:\n",
    "    print(i)\n",
    "\n",
    "f.close()"
   ]
  },
  {
   "cell_type": "code",
   "execution_count": 11,
   "metadata": {},
   "outputs": [
    {
     "name": "stdout",
     "output_type": "stream",
     "text": [
      "<class 'list'>\n",
      "this is simple text\n",
      "\n",
      "this is second line of text\n",
      "\n",
      "this is third line\n",
      "\n",
      "this is fourth line\n",
      "\n"
     ]
    }
   ],
   "source": [
    "f = open(\"file.txt\", \"r\")\n",
    "\n",
    "# we can read all lines one shot into a list\n",
    "lines = f.readlines()\n",
    "print(type(lines))\n",
    "for i in lines:\n",
    "    print(i)\n",
    "f.close()"
   ]
  },
  {
   "cell_type": "code",
   "execution_count": 12,
   "metadata": {},
   "outputs": [
    {
     "name": "stdout",
     "output_type": "stream",
     "text": [
      "this is simple text\n",
      "this is second line of text\n",
      "this is third line\n",
      "this is fourth line\n",
      "\n"
     ]
    }
   ],
   "source": [
    "f = open(\"file.txt\", \"r\")\n",
    "\n",
    "# we can read entire file content in one-shot as a string\n",
    "s = f.read()\n",
    "\n",
    "print(s)\n",
    "f.close()"
   ]
  },
  {
   "cell_type": "code",
   "execution_count": 13,
   "metadata": {},
   "outputs": [],
   "source": [
    "# open the same file for append. Append mode -> add more text at the end of file\n",
    "# rather than starting from the beginning of the file\n",
    "\n",
    "f = open(\"file.txt\", \"a\")\n",
    "\n",
    "# write a list of lines into the file\n",
    "f.writelines([\"This is fifth line\\n\", \"This is sixth line\\n\"])\n",
    "\n",
    "# close the file\n",
    "f.close()\n"
   ]
  },
  {
   "cell_type": "code",
   "execution_count": 14,
   "metadata": {},
   "outputs": [
    {
     "name": "stdout",
     "output_type": "stream",
     "text": [
      "this is simple text\n",
      "this is second line of text\n",
      "this is third line\n",
      "this is fourth line\n",
      "This is fifth line\n",
      "This is sixth line\n",
      "\n"
     ]
    }
   ],
   "source": [
    "f = open(\"file.txt\", \"r\")\n",
    "\n",
    "# we can read entire file content in one-shot as a string\n",
    "s = f.read()\n",
    "\n",
    "print(s)\n",
    "f.close()"
   ]
  },
  {
   "cell_type": "code",
   "execution_count": 20,
   "metadata": {},
   "outputs": [
    {
     "name": "stdout",
     "output_type": "stream",
     "text": [
      "this is simple text\n",
      "th\n"
     ]
    }
   ],
   "source": [
    "f = open(\"file.txt\", \"r\")\n",
    "\n",
    "# read only 'n' characters\n",
    "s = f.read(22)\n",
    "\n",
    "print(s)\n",
    "f.close()"
   ]
  },
  {
   "cell_type": "code",
   "execution_count": 17,
   "metadata": {},
   "outputs": [
    {
     "name": "stdout",
     "output_type": "stream",
     "text": [
      "this is simple text\n",
      "\n",
      "this is second line of text\n",
      "\n",
      "this is third line\n",
      "\n",
      "this is fourth line\n",
      "\n",
      "This is fifth line\n",
      "\n",
      "This is sixth line\n",
      "\n"
     ]
    }
   ],
   "source": [
    "# read single line at a time\n",
    "\n",
    "f = open(\"file.txt\", \"r\")\n",
    "\n",
    "while True:\n",
    "    line = f.readline()\n",
    "    if line == \"\":\n",
    "        break\n",
    "    print(line)\n",
    "    \n",
    "f.close()"
   ]
  },
  {
   "cell_type": "markdown",
   "metadata": {},
   "source": [
    "## handling file using with statement\n",
    "\n",
    "with statement can automatically closes the files opened. There is no need to remember to close "
   ]
  },
  {
   "cell_type": "code",
   "execution_count": 18,
   "metadata": {},
   "outputs": [
    {
     "name": "stdout",
     "output_type": "stream",
     "text": [
      "this is simple text\n",
      "this is second line of text\n",
      "this is third line\n",
      "this is fourth line\n",
      "This is fifth line\n",
      "This is sixth line\n",
      "\n"
     ]
    }
   ],
   "source": [
    "with open(\"file.txt\", \"r\") as f:\n",
    "    # we can read entire file content in one-shot as a string\n",
    "    s = f.read()\n",
    "    print(s)\n",
    "    # file is closed automatically after with statement ends"
   ]
  }
 ],
 "metadata": {
  "kernelspec": {
   "display_name": "Python 3",
   "language": "python",
   "name": "python3"
  },
  "language_info": {
   "codemirror_mode": {
    "name": "ipython",
    "version": 3
   },
   "file_extension": ".py",
   "mimetype": "text/x-python",
   "name": "python",
   "nbconvert_exporter": "python",
   "pygments_lexer": "ipython3",
   "version": "3.7.6"
  }
 },
 "nbformat": 4,
 "nbformat_minor": 2
}
