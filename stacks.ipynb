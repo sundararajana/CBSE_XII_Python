{
 "cells": [
  {
   "cell_type": "markdown",
   "metadata": {},
   "source": [
    "## Stack\n",
    "\n",
    "We have seen piles of books in the library or stack of\n",
    "plates at home (Figure 3.1). To put another book or\n",
    "another plate in such a pile, we always place (add to\n",
    "the pile) the object at the top only. Likewise, to remove\n",
    "a book or a plate from such a pile, we always remove\n",
    "(delete from the pile) the object from the top only. This\n",
    "is because in a large pile, it is inconvenient to add or\n",
    "remove an object from in between or bottom.\n",
    "\n",
    "Such an arrangement of elements in a linear order is called a\n",
    "**stack**. We add new elements or remove existing elements\n",
    "from the same end, commonly referred to as the top of\n",
    "the stack. It thus follows the **Last-In-First-out (LIFO)**\n",
    "principle. That is, the element which was inserted last\n",
    "(the most recent element) will be the first one to be taken\n",
    "out from the stack.\n",
    "\n",
    "![Stack](images/stack.jpg)"
   ]
  },
  {
   "cell_type": "markdown",
   "metadata": {},
   "source": [
    "## APPLICATIONS OF STACK\n",
    "\n",
    "### Some of the applications of stack in real-life are:\n",
    "    \n",
    "* Pile of clothes in an almirah\n",
    "\n",
    "* Multiple chairs in a vertical pile\n",
    "\n",
    "* Bangles worn on wrist\n",
    "\n",
    "* Pile of boxes of eatables in pantry or on a kitchen shelf\n",
    "\n",
    "### Examples of application of stack in programming\n",
    "\n",
    "* When we need to **reverse a string**, the string is traversed from the last character till the first character. i.e. characters are traversed in the reverse order of their appearance in the string. This is very easily done by putting the characters of a string in a stack.\n",
    "\n",
    "\n",
    "* We use text/image editor for editing the text/image where we have options to **redo/undo the editing done**. When we click on the redo /undo icon, the most recent editing is redone/undone. In this scenario, the system uses a stack to keep track of changes made.\n",
    "\n",
    "\n",
    "* While browsing the web, we move from one web page to another by accessing links between them. In order to **go back to the last visited web page**, we may use the back button on the browser. Let us say we accessed a web page P1 from where we moved to web page P2 followed by browsing of web page P3. Currently, we are on web page P3 and want to revisit web page P1. We may go to a previously visited web page by using the BACK button of the browser. On clicking the **BACK button** once, we are taken from web page P3 to web page P2, another click on BACK shows web page P1. In this case, the history of browsed pages is maintained as stack.\n",
    "\n",
    "\n",
    "* While writing any arithmetic expression in a program, we may use parentheses to order the evaluation of operators. While executing the program, the compiler checks for matched parentheses i.e. each opening parenthesis should have a corresponding closing parenthesis and the pairs of parentheses are properly nested. In case of parentheses are mismatched, the compiler needs to throw an error. **To handle matching of parentheses, stack is used.**"
   ]
  },
  {
   "cell_type": "markdown",
   "metadata": {},
   "source": [
    "## Implementing stack using list\n",
    "\n",
    "### List as a Stack\n",
    "\n",
    "A stack is a data structure in which elements added from one end and removed & accessed from the same end. Stack is \"last in first out\" (LIFO) queue of items. \n",
    "\n",
    "A stack has the following four operations:\n",
    "\n",
    "* push\n",
    "\n",
    "    add an element at the end of the stack\n",
    "\n",
    "* pop\n",
    "\n",
    "    remove the last element and return it (last pushed element is removed & returned)\n",
    "\n",
    "* isEmpty tells whether the stack empty?\n",
    "\n",
    "    peek get the last element, if any, but do not remove it from stack\n",
    "    \n",
    "* peek or top\n",
    "\n",
    "    get the last element, if any, but do not remove it from stack\n",
    "\n",
    "    \n",
    "We can use Python list as a stack. List supports pop method already. isEmpty check is just len(mylist) being non-zero or zero. push is just \"append\"! peek/top is just accessing last element using mylist[ len(mylist) - 1 ]\n",
    "\n",
    "or simply mylist[-1]"
   ]
  },
  {
   "cell_type": "code",
   "execution_count": 1,
   "metadata": {},
   "outputs": [
    {
     "name": "stdout",
     "output_type": "stream",
     "text": [
      "================================\n",
      "Current elements in the stack are: \n",
      "Anthony\n",
      "Akbar\n",
      "Amar\n",
      "================================\n",
      "Anthony\n",
      "Akbar\n",
      "False\n",
      "Amar\n",
      "underflow\n",
      "None\n",
      "================================\n",
      "Current elements in the stack are: \n",
      "Ram\n",
      "================================\n"
     ]
    }
   ],
   "source": [
    "# function to check if the stack is empty or not\n",
    "def isEmpty(stack):\n",
    "    if len(stack) == 0:\n",
    "        return True\n",
    "    else:\n",
    "        return False\n",
    "    \n",
    "# function to push an element into the stack\n",
    "def push(stack, element):\n",
    "    stack.append(element)\n",
    "    \n",
    "# function to get size of the stack\n",
    "def size(stack):\n",
    "    return len(stack)\n",
    "\n",
    "# A function named top to read the most recent element\n",
    "# This does not remove that element from the stack!\n",
    "# Sometimes this function is also called \"peek\"\n",
    "def top(stack):\n",
    "    if isEmpty(stack):\n",
    "        print('Stack is empty')\n",
    "        return None\n",
    "    else:\n",
    "        x = len(stack)\n",
    "        element = stack[x-1]\n",
    "        return element\n",
    "    \n",
    "# pop an element from the stack (more recently pushed element is popped)\n",
    "def pop(stack):\n",
    "    if isEmpty(stack):\n",
    "        print('underflow')\n",
    "        return None\n",
    "    else:\n",
    "        return stack.pop()\n",
    "\n",
    "# show the elements of the stack    \n",
    "def display(stack):\n",
    "    x = len(stack)\n",
    "    print(\"================================\")\n",
    "    print(\"Current elements in the stack are: \")\n",
    "    for i in range(x-1,-1,-1):\n",
    "        print(stack[i])\n",
    "    print(\"================================\")\n",
    "      \n",
    "s = [ \"Amar\", \"Akbar\", \"Anthony\" ] \n",
    "display(s)\n",
    "print(pop(s))\n",
    "print(pop(s))\n",
    "print(isEmpty(s))\n",
    "print(pop(s))\n",
    "print(pop(s))\n",
    "push(s, \"Ram\")\n",
    "display(s)"
   ]
  },
  {
   "cell_type": "markdown",
   "metadata": {},
   "source": [
    "## CBSE Sample Question Paper (2020-21) Computer Science (083)\n",
    "\n",
    "Write a function in Python PUSH(Arr), where Arr is a list of numbers. \n",
    "From this list push all numbers divisible by 5 into a stack implemented by using a list. \n",
    "Display the stack if it has at least one element, otherwise display appropriate error message."
   ]
  },
  {
   "cell_type": "code",
   "execution_count": 2,
   "metadata": {},
   "outputs": [
    {
     "name": "stdout",
     "output_type": "stream",
     "text": [
      "[55]\n",
      "Empty Stack\n"
     ]
    }
   ],
   "source": [
    "def PUSH(Arr):\n",
    "    s = []\n",
    "    for x in range(0,len(Arr)):\n",
    "        if Arr[x] % 5 == 0:\n",
    "            s.append(Arr[x])\n",
    "            \n",
    "    if len(s) == 0:\n",
    "        print(\"Empty Stack\")\n",
    "    else:\n",
    "        print(s)\n",
    "        \n",
    "PUSH([343, 55, 234, 33])\n",
    "PUSH([34, 11, -332])"
   ]
  },
  {
   "cell_type": "markdown",
   "metadata": {},
   "source": [
    "## CBSE Sample Question Paper (2020-21) Computer Science (083)\n",
    "\n",
    "Write a function in Python POP(Arr), where Arr is a stack implemented by a list of numbers. \n",
    "The function returns the value deleted from the stack."
   ]
  },
  {
   "cell_type": "code",
   "execution_count": 3,
   "metadata": {},
   "outputs": [
    {
     "name": "stdout",
     "output_type": "stream",
     "text": [
      "23\n",
      "Underflow\n",
      "None\n"
     ]
    }
   ],
   "source": [
    "def popStack(st) :\n",
    "    # If stack is empty\n",
    "    if len(st) == 0:\n",
    "        print(\"Underflow\")\n",
    "    else:\n",
    "        L = len(st)\n",
    "        val = st[L-1]\n",
    "        st.pop(L-1)\n",
    "        return val\n",
    "    \n",
    "print(popStack([33, 44, 23]))\n",
    "\n",
    "print(popStack([]))"
   ]
  },
  {
   "cell_type": "markdown",
   "metadata": {},
   "source": [
    "## CBSE Compartment exam (2020) Computer Science (91C)\n",
    "\n",
    "Write functions in Python for PushS(List) and for PopS(List) for\n",
    "performing Push and Pop operations with a stack of List containing\n",
    "integers."
   ]
  },
  {
   "cell_type": "code",
   "execution_count": 2,
   "metadata": {},
   "outputs": [
    {
     "name": "stdout",
     "output_type": "stream",
     "text": [
      "Enter integer32\n",
      "Enter integer43\n",
      "Deleted integer : 43\n",
      "Deleted integer : 32\n",
      "Stack empty\n"
     ]
    }
   ],
   "source": [
    "def PushS(List):\n",
    "    N = int(input(\"Enter integer\"))\n",
    "    List.append(N)\n",
    "\n",
    "def PopS(List):\n",
    "    if (List==[]):\n",
    "        print(\"Stack empty\")\n",
    "    else:\n",
    "        print (\"Deleted integer :\",List.pop())\n",
    "        \n",
    "stack = []\n",
    "PushS(stack)\n",
    "PushS(stack)\n",
    "PopS(stack)\n",
    "PopS(stack)\n",
    "PopS(stack)"
   ]
  }
 ],
 "metadata": {
  "kernelspec": {
   "display_name": "Python 3",
   "language": "python",
   "name": "python3"
  },
  "language_info": {
   "codemirror_mode": {
    "name": "ipython",
    "version": 3
   },
   "file_extension": ".py",
   "mimetype": "text/x-python",
   "name": "python",
   "nbconvert_exporter": "python",
   "pygments_lexer": "ipython3",
   "version": "3.7.6"
  }
 },
 "nbformat": 4,
 "nbformat_minor": 4
}
