{
 "cells": [
  {
   "cell_type": "markdown",
   "metadata": {},
   "source": [
    "# Python Lists"
   ]
  },
  {
   "cell_type": "markdown",
   "metadata": {},
   "source": [
    "## Python collections\n",
    "\n",
    "Collections are data structures to hold a collection of values or objects - collection of numbers, collection of strings, etc.\n",
    "\n",
    "There are many different collection data structures available - optimized for various purposes. \n",
    "\n",
    "Dimensions by which collections could vary:\n",
    "\n",
    "* Mutable/immutable\n",
    "* unique/duplicate elements\n",
    "* element access (by key/index)\n",
    "* elements access order\n",
    "\n",
    "\n",
    "Important Python collections are:\n",
    "    \n",
    "* list\n",
    "* set\n",
    "* tuple\n",
    "* dictionary\n",
    "\n",
    "In this notebook, we learn about Python lists"
   ]
  },
  {
   "cell_type": "markdown",
   "metadata": {},
   "source": [
    "## Python List\n",
    "\n",
    "Python list is growable array of objects. List elements are stored continuously. List elements can be added /modified or deleted (mutuable data structure) after list creation.\n",
    "\n",
    "Two simples ways to create a list are:\n",
    "    \n",
    "    * Using list literal syntax\n",
    "    * using list constructor explicitly"
   ]
  },
  {
   "cell_type": "markdown",
   "metadata": {},
   "source": [
    "## List creation"
   ]
  },
  {
   "cell_type": "code",
   "execution_count": 1,
   "metadata": {},
   "outputs": [
    {
     "name": "stdout",
     "output_type": "stream",
     "text": [
      "[45, 62, 78, -42]\n",
      "['oracle', 'google', 'facebook', 'microsoft', 'twitter']\n"
     ]
    }
   ],
   "source": [
    "# creating lists by list literals\n",
    "# simple list of 4 numbers\n",
    "\n",
    "x = [45, 62, 78, -42]\n",
    "\n",
    "# simple list of 5 strings\n",
    "\n",
    "y = [\"oracle\", \"google\", \"facebook\", \"microsoft\", \"twitter\"]\n",
    "\n",
    "print(x)\n",
    "print(y)"
   ]
  },
  {
   "cell_type": "markdown",
   "metadata": {},
   "source": [
    "## CBSE Sample Question Paper (2020-21) Computer Science (083)\n",
    "\n",
    "\n",
    "Identify the valid declaration of L:\n",
    "    \n",
    "```python\n",
    "    L = [ \"Mon\", \"23\", \"hello\", \"60.5\" ]\n",
    "```\n",
    "\n",
    "a. dictionary \n",
    "\n",
    "b. string \n",
    "\n",
    "c.tuple \n",
    "\n",
    "d. list\n",
    "\n",
    "\n",
    "Answer: **(d) list**"
   ]
  },
  {
   "cell_type": "code",
   "execution_count": 2,
   "metadata": {},
   "outputs": [
    {
     "name": "stdout",
     "output_type": "stream",
     "text": [
      "[34, 'hello']\n"
     ]
    }
   ],
   "source": [
    "# create an empty list by invoking list constructor function\n",
    "\n",
    "z = list()\n",
    "\n",
    "# now append elements to the list by using append method\n",
    "\n",
    "z.append(34)\n",
    "\n",
    "# elements need not be same type. Append a string now\n",
    "z.append(\"hello\")\n",
    "\n",
    "print(z)"
   ]
  },
  {
   "cell_type": "code",
   "execution_count": 3,
   "metadata": {},
   "outputs": [
    {
     "name": "stdout",
     "output_type": "stream",
     "text": [
      "[0, 2, 4, 6, 8]\n"
     ]
    }
   ],
   "source": [
    "# create a list from another collection or iteratable object like range\n",
    "\n",
    "# list of integers in [0, 10) in steps of 2\n",
    "\n",
    "x = list(range(0, 10, 2))\n",
    "print(x)"
   ]
  },
  {
   "cell_type": "markdown",
   "metadata": {},
   "source": [
    "## List concatenation"
   ]
  },
  {
   "cell_type": "code",
   "execution_count": 4,
   "metadata": {},
   "outputs": [],
   "source": [
    "x = [ 4, 6 , 7]\n",
    "y = [ 34, 55, 2]"
   ]
  },
  {
   "cell_type": "code",
   "execution_count": 5,
   "metadata": {},
   "outputs": [
    {
     "data": {
      "text/plain": [
       "[4, 6, 7, 34, 55, 2]"
      ]
     },
     "execution_count": 5,
     "metadata": {},
     "output_type": "execute_result"
    }
   ],
   "source": [
    "# + operator can be used to concatenate two lists to create \n",
    "# new list containing elements of both the lists\n",
    "\n",
    "x + y"
   ]
  },
  {
   "cell_type": "markdown",
   "metadata": {},
   "source": [
    "## List repetition"
   ]
  },
  {
   "cell_type": "code",
   "execution_count": 6,
   "metadata": {},
   "outputs": [
    {
     "name": "stdout",
     "output_type": "stream",
     "text": [
      "[4, 5, 7, 4, 5, 7, 4, 5, 7, 4, 5, 7]\n",
      "[4, 5, 7, 4, 5, 7, 4, 5, 7]\n"
     ]
    }
   ],
   "source": [
    "x = [4, 5, 7]\n",
    "print(x*4)\n",
    "print(3*x)"
   ]
  },
  {
   "cell_type": "markdown",
   "metadata": {},
   "source": [
    "## List membership check"
   ]
  },
  {
   "cell_type": "code",
   "execution_count": 7,
   "metadata": {},
   "outputs": [
    {
     "data": {
      "text/plain": [
       "True"
      ]
     },
     "execution_count": 7,
     "metadata": {},
     "output_type": "execute_result"
    }
   ],
   "source": [
    "# membership check\n",
    "\n",
    "4 in x"
   ]
  },
  {
   "cell_type": "code",
   "execution_count": 8,
   "metadata": {},
   "outputs": [
    {
     "data": {
      "text/plain": [
       "False"
      ]
     },
     "execution_count": 8,
     "metadata": {},
     "output_type": "execute_result"
    }
   ],
   "source": [
    "56 in x"
   ]
  },
  {
   "cell_type": "markdown",
   "metadata": {},
   "source": [
    "## Membership check: Checking if an element exists in a list with \"in\" and \"not in\" operators\n",
    "\n",
    "in (not in) operators can be used to check if an elements exits (does not exist) in a list"
   ]
  },
  {
   "cell_type": "code",
   "execution_count": 19,
   "metadata": {},
   "outputs": [
    {
     "name": "stdout",
     "output_type": "stream",
     "text": [
      "True\n",
      "False\n",
      "False\n",
      "True\n"
     ]
    }
   ],
   "source": [
    "langs = [\"java\", \"groovy\", \"python\", \"c\", \"c++\", \"java\" ]\n",
    "\n",
    "print(\"java\" in langs)\n",
    "print(\"smalltalk\" in langs)\n",
    "print(\"lisp\" in langs)\n",
    "print(\"go\" not in langs)"
   ]
  },
  {
   "cell_type": "markdown",
   "metadata": {},
   "source": [
    "## List repetition: count number of times an element appears"
   ]
  },
  {
   "cell_type": "code",
   "execution_count": 9,
   "metadata": {},
   "outputs": [
    {
     "data": {
      "text/plain": [
       "3"
      ]
     },
     "execution_count": 9,
     "metadata": {},
     "output_type": "execute_result"
    }
   ],
   "source": [
    "## List elements can be repeated. count() tells how many times an element is repeated\n",
    "\n",
    "x = [4, 5, 4, 6, 9, 4]\n",
    "\n",
    "x.count(4)"
   ]
  },
  {
   "cell_type": "markdown",
   "metadata": {},
   "source": [
    "## Number of elements in a list"
   ]
  },
  {
   "cell_type": "code",
   "execution_count": 10,
   "metadata": {},
   "outputs": [
    {
     "data": {
      "text/plain": [
       "6"
      ]
     },
     "execution_count": 10,
     "metadata": {},
     "output_type": "execute_result"
    }
   ],
   "source": [
    "len(x)"
   ]
  },
  {
   "cell_type": "markdown",
   "metadata": {},
   "source": [
    "## Appending an element to a list"
   ]
  },
  {
   "cell_type": "code",
   "execution_count": 11,
   "metadata": {},
   "outputs": [
    {
     "data": {
      "text/plain": [
       "['hello', 'Jana', 'student']"
      ]
     },
     "execution_count": 11,
     "metadata": {},
     "output_type": "execute_result"
    }
   ],
   "source": [
    "x = [ \"hello\", \"Jana\" ]\n",
    "x.append(\"student\")\n",
    "x"
   ]
  },
  {
   "cell_type": "markdown",
   "metadata": {},
   "source": [
    "## Extending a list with bunch of elements"
   ]
  },
  {
   "cell_type": "code",
   "execution_count": 12,
   "metadata": {},
   "outputs": [
    {
     "name": "stdout",
     "output_type": "stream",
     "text": [
      "[3, 5]\n",
      "[3, 5, 32, 45, 6]\n"
     ]
    }
   ],
   "source": [
    "x = [3, 5]\n",
    "print(x)\n",
    "x.extend([32, 45, 6])\n",
    "print(x)"
   ]
  },
  {
   "cell_type": "markdown",
   "metadata": {},
   "source": [
    "## insert an element into a list"
   ]
  },
  {
   "cell_type": "code",
   "execution_count": 13,
   "metadata": {},
   "outputs": [
    {
     "name": "stdout",
     "output_type": "stream",
     "text": [
      "['hello', 'jana', 'world']\n"
     ]
    }
   ],
   "source": [
    "x = [ \"hello\", \"world\"]\n",
    "x.insert(1, \"jana\")\n",
    "print(x)"
   ]
  },
  {
   "cell_type": "code",
   "execution_count": 14,
   "metadata": {},
   "outputs": [
    {
     "name": "stdout",
     "output_type": "stream",
     "text": [
      "['haha', 'hello', 'jana', 'world']\n"
     ]
    }
   ],
   "source": [
    "x.insert(0, \"haha\")\n",
    "print(x)"
   ]
  },
  {
   "cell_type": "markdown",
   "metadata": {},
   "source": [
    "## Python list elements access/update\n",
    "\n",
    "Python list elements are accessed or updated using index operator []. "
   ]
  },
  {
   "cell_type": "code",
   "execution_count": 15,
   "metadata": {},
   "outputs": [
    {
     "name": "stdout",
     "output_type": "stream",
     "text": [
      "4\n",
      "first element: 3\n"
     ]
    }
   ],
   "source": [
    "# len can be used to get the length of the list\n",
    "\n",
    "x = [3, 5, 75, 21]\n",
    "print(len(x))\n",
    "print(\"first element:\", x[0])"
   ]
  },
  {
   "cell_type": "code",
   "execution_count": 16,
   "metadata": {},
   "outputs": [
    {
     "name": "stdout",
     "output_type": "stream",
     "text": [
      "75\n"
     ]
    }
   ],
   "source": [
    "print(x[2])"
   ]
  },
  {
   "cell_type": "code",
   "execution_count": 17,
   "metadata": {},
   "outputs": [
    {
     "name": "stdout",
     "output_type": "stream",
     "text": [
      "21\n"
     ]
    }
   ],
   "source": [
    "print(x[-1])\n"
   ]
  },
  {
   "cell_type": "code",
   "execution_count": 18,
   "metadata": {},
   "outputs": [
    {
     "name": "stdout",
     "output_type": "stream",
     "text": [
      "['Java', 5, 75, 'Python']\n"
     ]
    }
   ],
   "source": [
    "# update first element\n",
    "x[0] = \"Java\"\n",
    "\n",
    "# update last element\n",
    "x[-1] = \"Python\"\n",
    "\n",
    "print(x)"
   ]
  },
  {
   "cell_type": "markdown",
   "metadata": {},
   "source": [
    "## List traversal\n",
    "\n",
    "    Using for loop to access list elements in the order"
   ]
  },
  {
   "cell_type": "code",
   "execution_count": 20,
   "metadata": {},
   "outputs": [
    {
     "name": "stdout",
     "output_type": "stream",
     "text": [
      "0\n",
      "1\n",
      "2\n",
      "3\n",
      "4\n",
      "5\n",
      "6\n",
      "7\n",
      "8\n",
      "9\n"
     ]
    }
   ],
   "source": [
    "x = list(range(0, 10))\n",
    "\n",
    "for i in x:\n",
    "    print(i)"
   ]
  },
  {
   "cell_type": "code",
   "execution_count": 21,
   "metadata": {},
   "outputs": [
    {
     "name": "stdout",
     "output_type": "stream",
     "text": [
      "java\n",
      "python\n",
      "javascript\n"
     ]
    }
   ],
   "source": [
    "x = [\"java\", \"python\", \"javascript\"]\n",
    "for i in x:\n",
    "    print(i)"
   ]
  },
  {
   "cell_type": "markdown",
   "metadata": {},
   "source": [
    "## List slicing - creating a sublist from a list\n",
    "\n",
    "We can create a sublist from a list. That is, a new list containing a subset of elements of the original list\n",
    "using list slicing"
   ]
  },
  {
   "cell_type": "code",
   "execution_count": 22,
   "metadata": {},
   "outputs": [
    {
     "name": "stdout",
     "output_type": "stream",
     "text": [
      "evens = [0, 2, 4, 6, 8, 10, 12, 14, 16, 18, 20, 22, 24, 26, 28, 30, 32, 34, 36, 38, 40, 42, 44, 46, 48, 50, 52, 54, 56, 58, 60, 62, 64, 66, 68, 70, 72, 74, 76, 78, 80, 82, 84, 86, 88, 90, 92, 94, 96, 98]\n",
      "odds = [1, 3, 5, 7, 9, 11, 13, 15, 17, 19, 21, 23, 25, 27, 29, 31, 33, 35, 37, 39, 41, 43, 45, 47, 49, 51, 53, 55, 57, 59, 61, 63, 65, 67, 69, 71, 73, 75, 77, 79, 81, 83, 85, 87, 89, 91, 93, 95, 97, 99]\n"
     ]
    }
   ],
   "source": [
    "# List slicing syntax. Uses same [] operator but with slice \n",
    "# a slice has start, stop and step\n",
    "\n",
    "# make a list of numbers 0 to 99 closed interval [0, 99]\n",
    "x = list(range(0, 100))\n",
    "\n",
    "# create even numbers list\n",
    "\n",
    "evens = x[0:100:2]\n",
    "\n",
    "print(\"evens =\", evens)\n",
    "\n",
    "# create odd numbers list\n",
    "\n",
    "odds = x[1:100:2]\n",
    "\n",
    "print(\"odds =\", odds)"
   ]
  },
  {
   "cell_type": "code",
   "execution_count": 23,
   "metadata": {},
   "outputs": [
    {
     "name": "stdout",
     "output_type": "stream",
     "text": [
      "divisible by 6 = [0, 6, 12, 18, 24, 30, 36, 42, 48, 54, 60, 66, 72, 78, 84, 90, 96]\n"
     ]
    }
   ],
   "source": [
    "x = list(range(0, 100))\n",
    "\n",
    "# default start 0 and default stop len(x)\n",
    "print(\"divisible by 6 =\", x[::6])"
   ]
  },
  {
   "cell_type": "code",
   "execution_count": 24,
   "metadata": {},
   "outputs": [
    {
     "name": "stdout",
     "output_type": "stream",
     "text": [
      "[99, 98, 97, 96, 95, 94, 93, 92, 91, 90, 89, 88, 87, 86, 85, 84, 83, 82, 81, 80, 79, 78, 77, 76, 75, 74, 73, 72, 71, 70, 69, 68, 67, 66, 65, 64, 63, 62, 61, 60, 59, 58, 57, 56, 55, 54, 53, 52, 51, 50, 49, 48, 47, 46, 45, 44, 43, 42, 41, 40, 39, 38, 37, 36, 35, 34, 33, 32, 31, 30, 29, 28, 27, 26, 25, 24, 23, 22, 21, 20, 19, 18, 17, 16, 15, 14, 13, 12, 11, 10, 9, 8, 7, 6, 5, 4, 3, 2, 1, 0]\n"
     ]
    }
   ],
   "source": [
    "# step can be negative. When step is negative, start defaults to len(x), stop defaults to 0\n",
    "\n",
    "# the following prints a reverse list!\n",
    "print(x[::-1])"
   ]
  },
  {
   "cell_type": "markdown",
   "metadata": {},
   "source": [
    "## CBSE Sample Question Paper (2020-21) Computer Science (083)\n",
    "\n",
    "Given the lists L = [1,3,6,82,5,7,11,92]\n",
    "write the output of print(L[2:5])"
   ]
  },
  {
   "cell_type": "code",
   "execution_count": 5,
   "metadata": {},
   "outputs": [
    {
     "name": "stdout",
     "output_type": "stream",
     "text": [
      "[6, 82, 5]\n"
     ]
    }
   ],
   "source": [
    "L = [1,3,6,82,5,7,11,92]\n",
    "\n",
    "print(L[2:5])"
   ]
  },
  {
   "cell_type": "markdown",
   "metadata": {},
   "source": [
    "## Deleting a list element using \"del\" statement\n",
    "\n",
    "    del statement can be used to delete an element from list or delete slice of elements"
   ]
  },
  {
   "cell_type": "code",
   "execution_count": 25,
   "metadata": {},
   "outputs": [
    {
     "name": "stdout",
     "output_type": "stream",
     "text": [
      "[0, 1, 2, 3, 4, 5, 6, 7, 8, 9]\n",
      "[1, 2, 3, 4, 5, 6, 7, 8, 9]\n"
     ]
    }
   ],
   "source": [
    "x = list(range(0, 10))\n",
    "print(x)\n",
    "del x[0]\n",
    "print(x)"
   ]
  },
  {
   "cell_type": "code",
   "execution_count": 26,
   "metadata": {},
   "outputs": [
    {
     "name": "stdout",
     "output_type": "stream",
     "text": [
      "[1, 2, 3, 4, 5, 6, 7, 8]\n"
     ]
    }
   ],
   "source": [
    "del x[-1]\n",
    "print(x)"
   ]
  },
  {
   "cell_type": "code",
   "execution_count": 27,
   "metadata": {},
   "outputs": [
    {
     "name": "stdout",
     "output_type": "stream",
     "text": [
      "[1, 2, 8]\n"
     ]
    }
   ],
   "source": [
    "# can delete a slice of elements as well!\n",
    "\n",
    "del x[2:7]\n",
    "print(x)"
   ]
  },
  {
   "cell_type": "markdown",
   "metadata": {},
   "source": [
    "## Operations on numerical lists"
   ]
  },
  {
   "cell_type": "code",
   "execution_count": 28,
   "metadata": {},
   "outputs": [
    {
     "data": {
      "text/plain": [
       "17"
      ]
     },
     "execution_count": 28,
     "metadata": {},
     "output_type": "execute_result"
    }
   ],
   "source": [
    "x = [ 4, 5, 7, 3, -2]\n",
    "\n",
    "sum(x)"
   ]
  },
  {
   "cell_type": "code",
   "execution_count": 29,
   "metadata": {},
   "outputs": [
    {
     "data": {
      "text/plain": [
       "7"
      ]
     },
     "execution_count": 29,
     "metadata": {},
     "output_type": "execute_result"
    }
   ],
   "source": [
    "max(x)"
   ]
  },
  {
   "cell_type": "code",
   "execution_count": 30,
   "metadata": {},
   "outputs": [
    {
     "data": {
      "text/plain": [
       "-2"
      ]
     },
     "execution_count": 30,
     "metadata": {},
     "output_type": "execute_result"
    }
   ],
   "source": [
    "min(x)"
   ]
  },
  {
   "cell_type": "code",
   "execution_count": 31,
   "metadata": {},
   "outputs": [
    {
     "data": {
      "text/plain": [
       "[-2, 3, 4, 5, 7]"
      ]
     },
     "execution_count": 31,
     "metadata": {},
     "output_type": "execute_result"
    }
   ],
   "source": [
    "# sorted function returnes *a new* list that is sorted. Original list unaffected\n",
    "sorted(x)"
   ]
  },
  {
   "cell_type": "code",
   "execution_count": 32,
   "metadata": {},
   "outputs": [
    {
     "data": {
      "text/plain": [
       "[4, 5, 7, 3, -2]"
      ]
     },
     "execution_count": 32,
     "metadata": {},
     "output_type": "execute_result"
    }
   ],
   "source": [
    "x"
   ]
  },
  {
   "cell_type": "code",
   "execution_count": 33,
   "metadata": {},
   "outputs": [],
   "source": [
    "# sort method sorts original list\n",
    "\n",
    "x.sort()"
   ]
  },
  {
   "cell_type": "code",
   "execution_count": 34,
   "metadata": {},
   "outputs": [
    {
     "data": {
      "text/plain": [
       "[-2, 3, 4, 5, 7]"
      ]
     },
     "execution_count": 34,
     "metadata": {},
     "output_type": "execute_result"
    }
   ],
   "source": [
    "x"
   ]
  },
  {
   "cell_type": "code",
   "execution_count": 35,
   "metadata": {},
   "outputs": [
    {
     "data": {
      "text/plain": [
       "['C', 'java', 'javascript', 'python']"
      ]
     },
     "execution_count": 35,
     "metadata": {},
     "output_type": "execute_result"
    }
   ],
   "source": [
    "# can sort list of any comparable objects\n",
    "\n",
    "x = [\"java\", \"python\", \"javascript\", \"C\"]\n",
    "\n",
    "x.sort()\n",
    "x"
   ]
  },
  {
   "cell_type": "markdown",
   "metadata": {},
   "source": [
    "## List as a Stack\n",
    "\n",
    "A stack is a data structure in which elements added from one end and removed & accessed from the same end. Stack is \"last in first out\" (LIFO) queue of items. Consider an example of plates stacked over one another in the canteen. The plate which is at the top is the first one to be removed, i.e. the plate which has been placed at the bottommost position remains in the stack for the longest period of time.\n",
    "A stack has the following four operations:\n",
    "* push\n",
    "    add an element at the end of the stack\n",
    "* pop\n",
    "    remove the last element and return it (last pushed element is removed & returned)\n",
    "* isempty\n",
    "    tells whether the stack empty?\n",
    "* peek\n",
    "    get the last element, if any, but do not remove it from stack\n",
    "\n",
    "We can use Python list as a stack. List supports pop method already. isempty check is just len(mylist) being non-zero or zero. push is just \"append\"! \"peek\" is just accessing last element using\n",
    "mylist[ len(mylist) - 1 ]\n",
    "\n",
    "or simply\n",
    "mylist[-1]"
   ]
  },
  {
   "cell_type": "code",
   "execution_count": 36,
   "metadata": {},
   "outputs": [
    {
     "name": "stdout",
     "output_type": "stream",
     "text": [
      "['Amar', 'Akbar', 'Anthony', 'Ram', 'Iqbal']\n",
      "Iqbal\n",
      "['Amar', 'Akbar', 'Anthony', 'Ram']\n",
      "Ram\n",
      "['Amar', 'Akbar', 'Anthony']\n",
      "empty? False\n",
      "Anthony\n"
     ]
    }
   ],
   "source": [
    "stack = [\"Amar\", \"Akbar\", \"Anthony\"] \n",
    "\n",
    "# append is our push\n",
    "stack.append(\"Ram\") \n",
    "stack.append(\"Iqbal\") \n",
    "print(stack) \n",
    "\n",
    "# pop is available as API already!\n",
    "print(stack.pop())\n",
    "print(stack) \n",
    "\n",
    "print(stack.pop()) \n",
    "print(stack) \n",
    "\n",
    "# stack isempty check is nothing but length check!\n",
    "print(\"empty?\", len(stack) == 0)\n",
    "\n",
    "# peek is just looking (without removing) the last element\n",
    "print(stack[-1])"
   ]
  },
  {
   "cell_type": "markdown",
   "metadata": {},
   "source": [
    "## CBSE Sample Question Paper (2020-21) Computer Science (083)\n",
    "\n",
    "Write a function in Python PUSH(Arr), where Arr is a list of numbers. \n",
    "From this list push all numbers divisible by 5 into a stack implemented by using a list. \n",
    "Display the stack if it has at least one element, otherwise display appropriate error message."
   ]
  },
  {
   "cell_type": "code",
   "execution_count": 3,
   "metadata": {},
   "outputs": [
    {
     "name": "stdout",
     "output_type": "stream",
     "text": [
      "[55]\n",
      "Empty Stack\n"
     ]
    }
   ],
   "source": [
    "def PUSH(Arr):\n",
    "    s = []\n",
    "    for x in range(0,len(Arr)):\n",
    "        if Arr[x] % 5 == 0:\n",
    "            s.append(Arr[x])\n",
    "            \n",
    "    if len(s) == 0:\n",
    "        print(\"Empty Stack\")\n",
    "    else:\n",
    "        print(s)\n",
    "        \n",
    "PUSH([343, 55, 234, 33])\n",
    "PUSH([34, 11, -332])"
   ]
  },
  {
   "cell_type": "markdown",
   "metadata": {},
   "source": [
    "## CBSE Sample Question Paper (2020-21) Computer Science (083)\n",
    "\n",
    "Write a function in Python POP(Arr), where Arr is a stack implemented by a list of numbers. \n",
    "The function returns the value deleted from the stack."
   ]
  },
  {
   "cell_type": "code",
   "execution_count": 6,
   "metadata": {},
   "outputs": [
    {
     "name": "stdout",
     "output_type": "stream",
     "text": [
      "23\n",
      "Underflow\n",
      "None\n"
     ]
    }
   ],
   "source": [
    "def popStack(st) :\n",
    "    # If stack is empty\n",
    "    if len(st) == 0:\n",
    "        print(\"Underflow\")\n",
    "    else:\n",
    "        L = len(st)\n",
    "        val = st[L-1]\n",
    "        st.pop(L-1)\n",
    "        return val\n",
    "    \n",
    "print(popStack([33, 44, 23]))\n",
    "\n",
    "print(popStack([]))"
   ]
  },
  {
   "cell_type": "markdown",
   "metadata": {},
   "source": [
    "## Linear search of an element in a List"
   ]
  },
  {
   "cell_type": "code",
   "execution_count": 37,
   "metadata": {},
   "outputs": [
    {
     "data": {
      "text/plain": [
       "0"
      ]
     },
     "execution_count": 37,
     "metadata": {},
     "output_type": "execute_result"
    }
   ],
   "source": [
    "# There is a builtin list method to get index of an item\n",
    "\n",
    "x = [ \"java\", \"javascript\", \"python\"]\n",
    "\n",
    "x.index(\"java\")"
   ]
  },
  {
   "cell_type": "code",
   "execution_count": 38,
   "metadata": {},
   "outputs": [
    {
     "ename": "ValueError",
     "evalue": "'foo' is not in list",
     "output_type": "error",
     "traceback": [
      "\u001b[0;31m---------------------------------------------------------------------------\u001b[0m",
      "\u001b[0;31mValueError\u001b[0m                                Traceback (most recent call last)",
      "\u001b[0;32m<ipython-input-38-e3a25678127f>\u001b[0m in \u001b[0;36m<module>\u001b[0;34m\u001b[0m\n\u001b[0;32m----> 1\u001b[0;31m \u001b[0mx\u001b[0m\u001b[0;34m.\u001b[0m\u001b[0mindex\u001b[0m\u001b[0;34m(\u001b[0m\u001b[0;34m\"foo\"\u001b[0m\u001b[0;34m)\u001b[0m\u001b[0;34m\u001b[0m\u001b[0;34m\u001b[0m\u001b[0m\n\u001b[0m",
      "\u001b[0;31mValueError\u001b[0m: 'foo' is not in list"
     ]
    }
   ],
   "source": [
    "x.index(\"foo\")"
   ]
  },
  {
   "cell_type": "code",
   "execution_count": 39,
   "metadata": {},
   "outputs": [
    {
     "data": {
      "text/plain": [
       "2"
      ]
     },
     "execution_count": 39,
     "metadata": {},
     "output_type": "execute_result"
    }
   ],
   "source": [
    "x.index(\"python\")"
   ]
  },
  {
   "cell_type": "markdown",
   "metadata": {},
   "source": [
    "## Implementing Linear Search"
   ]
  },
  {
   "cell_type": "code",
   "execution_count": 40,
   "metadata": {},
   "outputs": [],
   "source": [
    "# implementing linear search\n",
    "\n",
    "def linearSearch(list, key):\n",
    "    for i in range(0, len(list)):\n",
    "        if (list[i] == key):\n",
    "            return i;\n",
    "    return -1"
   ]
  },
  {
   "cell_type": "code",
   "execution_count": 41,
   "metadata": {},
   "outputs": [
    {
     "data": {
      "text/plain": [
       "3"
      ]
     },
     "execution_count": 41,
     "metadata": {},
     "output_type": "execute_result"
    }
   ],
   "source": [
    "x = [4, 66, 34, 13, 55]\n",
    "\n",
    "linearSearch(x, 13)"
   ]
  },
  {
   "cell_type": "code",
   "execution_count": 42,
   "metadata": {},
   "outputs": [
    {
     "data": {
      "text/plain": [
       "4"
      ]
     },
     "execution_count": 42,
     "metadata": {},
     "output_type": "execute_result"
    }
   ],
   "source": [
    "linearSearch(x, 55)"
   ]
  },
  {
   "cell_type": "code",
   "execution_count": 43,
   "metadata": {},
   "outputs": [
    {
     "data": {
      "text/plain": [
       "-1"
      ]
     },
     "execution_count": 43,
     "metadata": {},
     "output_type": "execute_result"
    }
   ],
   "source": [
    "linearSearch(x, 23)"
   ]
  },
  {
   "cell_type": "markdown",
   "metadata": {},
   "source": [
    "## Frequencies of elements of a list via dictionary"
   ]
  },
  {
   "cell_type": "code",
   "execution_count": 44,
   "metadata": {},
   "outputs": [],
   "source": [
    "def frequencies(list):\n",
    "    result = dict()\n",
    "    for i in list:\n",
    "        if i in result:\n",
    "            result[i] = result[i] + 1\n",
    "        else:\n",
    "            result[i] = 1\n",
    "    return result\n"
   ]
  },
  {
   "cell_type": "code",
   "execution_count": 45,
   "metadata": {},
   "outputs": [
    {
     "name": "stdout",
     "output_type": "stream",
     "text": [
      "{4: 2, 6: 2, 66: 1, 3: 1, 9: 2, 99: 1}\n"
     ]
    }
   ],
   "source": [
    "x = [4, 6, 66, 4, 3, 6, 9, 99, 9]\n",
    "\n",
    "print(frequencies(x))"
   ]
  },
  {
   "cell_type": "markdown",
   "metadata": {},
   "source": [
    "## List assignment vs copy (same list or not?)\n",
    "\n",
    "When you assign a list to another, new list refers (points) to the same list. i.e., In C terminology, those point to the same list. Any modification in one list is visible via another.\n",
    "You can check if two lists point to the same object using \"is\" (or \"is not\") operator)"
   ]
  },
  {
   "cell_type": "code",
   "execution_count": 47,
   "metadata": {},
   "outputs": [
    {
     "name": "stdout",
     "output_type": "stream",
     "text": [
      "['java', 'javascript', 'C++']\n",
      "['java', 'javascript', 'C++']\n"
     ]
    }
   ],
   "source": [
    "s = [\"java\", \"javascript\", \"C++\"]\n",
    "t = s\n",
    "print(s)\n",
    "print(t)"
   ]
  },
  {
   "cell_type": "code",
   "execution_count": 48,
   "metadata": {},
   "outputs": [
    {
     "data": {
      "text/plain": [
       "True"
      ]
     },
     "execution_count": 48,
     "metadata": {},
     "output_type": "execute_result"
    }
   ],
   "source": [
    "s is t\n"
   ]
  },
  {
   "cell_type": "code",
   "execution_count": 49,
   "metadata": {},
   "outputs": [
    {
     "name": "stdout",
     "output_type": "stream",
     "text": [
      "Java\n",
      "Java\n"
     ]
    }
   ],
   "source": [
    "s[0] = s[0].capitalize()\n",
    "\n",
    "print(s[0])\n",
    "\n",
    "# t points to the same! t[0] is changed as well\n",
    "\n",
    "print(t[0])"
   ]
  },
  {
   "cell_type": "markdown",
   "metadata": {},
   "source": [
    "## if you want to create new list that has same elements, then you should use \"copy\" method"
   ]
  },
  {
   "cell_type": "code",
   "execution_count": 50,
   "metadata": {},
   "outputs": [
    {
     "name": "stdout",
     "output_type": "stream",
     "text": [
      "[1, 3, 5]\n",
      "[1, 3, 5]\n"
     ]
    }
   ],
   "source": [
    "s = [ 1, 3, 5 ]\n",
    "t = s.copy()\n",
    "print(s)\n",
    "print(t)"
   ]
  },
  {
   "cell_type": "code",
   "execution_count": 51,
   "metadata": {},
   "outputs": [
    {
     "data": {
      "text/plain": [
       "False"
      ]
     },
     "execution_count": 51,
     "metadata": {},
     "output_type": "execute_result"
    }
   ],
   "source": [
    "# s and t are different lists now\n",
    "s is t"
   ]
  },
  {
   "cell_type": "code",
   "execution_count": 52,
   "metadata": {},
   "outputs": [
    {
     "data": {
      "text/plain": [
       "True"
      ]
     },
     "execution_count": 52,
     "metadata": {},
     "output_type": "execute_result"
    }
   ],
   "source": [
    "s is not t\n"
   ]
  },
  {
   "cell_type": "code",
   "execution_count": 53,
   "metadata": {},
   "outputs": [
    {
     "name": "stdout",
     "output_type": "stream",
     "text": [
      "42 1\n"
     ]
    }
   ],
   "source": [
    "s[0] = 42\n",
    "print(s[0], t[0])"
   ]
  },
  {
   "cell_type": "markdown",
   "metadata": {},
   "source": [
    "## CBSE Sample Question Paper (2020-21) Computer Science (083)\n",
    "\n",
    "Write a function LShift(Arr,n) in Python, which accepts a list Arr of numbers and\n",
    "n is a numeric value  by which all elements of the list are shifted to left.\n",
    "\n",
    "Sample Input Data of the list\n",
    "\n",
    "```python\n",
    "Arr = [10, 20, 30, 40, 12, 11], n = 2\n",
    "\n",
    "# Output\n",
    "\n",
    "Arr = [30, 40, 12, 11, 10, 20]\n",
    "\n",
    "```"
   ]
  },
  {
   "cell_type": "code",
   "execution_count": 4,
   "metadata": {},
   "outputs": [
    {
     "name": "stdout",
     "output_type": "stream",
     "text": [
      "[30, 40, 12, 11, 10, 20]\n"
     ]
    }
   ],
   "source": [
    "def LShift(Arr,n):\n",
    "    L = len(Arr)\n",
    "    for x in range(0,n):\n",
    "        y = Arr[0]\n",
    "        for i in range(0,L-1):\n",
    "            Arr[i] = Arr[i+1]\n",
    "        Arr[L-1]=y\n",
    "    print(Arr)\n",
    "    \n",
    "    \n",
    "LShift([10, 20, 30, 40, 12, 11], 2)"
   ]
  }
 ],
 "metadata": {
  "kernelspec": {
   "display_name": "Python 3",
   "language": "python",
   "name": "python3"
  },
  "language_info": {
   "codemirror_mode": {
    "name": "ipython",
    "version": 3
   },
   "file_extension": ".py",
   "mimetype": "text/x-python",
   "name": "python",
   "nbconvert_exporter": "python",
   "pygments_lexer": "ipython3",
   "version": "3.7.6"
  }
 },
 "nbformat": 4,
 "nbformat_minor": 4
}
