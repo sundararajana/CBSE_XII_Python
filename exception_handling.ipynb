{
 "cells": [
  {
   "cell_type": "markdown",
   "metadata": {},
   "source": [
    "## Exception Handling in Python\n",
    "\n",
    "\n",
    "### NCERT Class XII chapter to read\n",
    "\n",
    "[Exception Handling in Python](https://ncert.nic.in/textbook.php?lecs1=1-13)\n",
    "\n",
    "\n",
    "Sometimes while executing a Python program, the program does not execute at all or the program executes\n",
    "but generates unexpected output or behaves abnormally. \n",
    "\n",
    "These occur when there are \n",
    "\n",
    "* syntax errors\n",
    "* runtime errors\n",
    "* logical errors in the code."
   ]
  },
  {
   "cell_type": "markdown",
   "metadata": {},
   "source": [
    "## Syntax Errors\n",
    "\n",
    "Syntax errors are detected when we have not followed the rules of the particular programming language \n",
    "while writing a program. These errors are also known as parsing errors. On encountering a syntax error, \n",
    "the interpreter does not execute the program unless we rectify the errors, save and rerun the program"
   ]
  },
  {
   "cell_type": "code",
   "execution_count": 4,
   "metadata": {},
   "outputs": [
    {
     "ename": "SyntaxError",
     "evalue": "invalid syntax (<ipython-input-4-43d6aa65d6fb>, line 1)",
     "output_type": "error",
     "traceback": [
      "\u001b[0;36m  File \u001b[0;32m\"<ipython-input-4-43d6aa65d6fb>\"\u001b[0;36m, line \u001b[0;32m1\u001b[0m\n\u001b[0;31m    4 /// 5\u001b[0m\n\u001b[0m        ^\u001b[0m\n\u001b[0;31mSyntaxError\u001b[0m\u001b[0;31m:\u001b[0m invalid syntax\n"
     ]
    }
   ],
   "source": [
    "4 /// 5"
   ]
  },
  {
   "cell_type": "markdown",
   "metadata": {},
   "source": [
    "## Exceptions\n",
    "\n",
    "Even if a statement or expression is syntactically\n",
    "correct, there might arise an error during its execution.\n",
    "For example, trying to open a file that does not exist,\n",
    "division by zero and so on. Such types of errors might\n",
    "disrupt the normal execution of the program and are\n",
    "called **exceptions.**\n",
    "\n",
    "\n",
    "An exception is a Python object that represents an\n",
    "error. When an error occurs during the execution of a\n",
    "program, an exception is said to have been **raised.** \n",
    "\n",
    "Such an exception needs to be handled by the programmer\n",
    "so that the program does not terminate abnormally.\n",
    "\n",
    "Therefore, while designing a program, a programmer\n",
    "may anticipate such erroneous situations that may arise\n",
    "during its execution and can address them by including\n",
    "appropriate code to handle that exception"
   ]
  },
  {
   "cell_type": "code",
   "execution_count": 5,
   "metadata": {},
   "outputs": [
    {
     "ename": "ZeroDivisionError",
     "evalue": "division by zero",
     "output_type": "error",
     "traceback": [
      "\u001b[0;31m---------------------------------------------------------------------------\u001b[0m",
      "\u001b[0;31mZeroDivisionError\u001b[0m                         Traceback (most recent call last)",
      "\u001b[0;32m<ipython-input-5-adafc2937013>\u001b[0m in \u001b[0;36m<module>\u001b[0;34m\u001b[0m\n\u001b[0;32m----> 1\u001b[0;31m \u001b[0;36m5\u001b[0m \u001b[0;34m/\u001b[0m \u001b[0;36m0\u001b[0m\u001b[0;34m\u001b[0m\u001b[0;34m\u001b[0m\u001b[0m\n\u001b[0m",
      "\u001b[0;31mZeroDivisionError\u001b[0m: division by zero"
     ]
    }
   ],
   "source": [
    "5 / 0"
   ]
  },
  {
   "cell_type": "code",
   "execution_count": 7,
   "metadata": {},
   "outputs": [
    {
     "ename": "FileNotFoundError",
     "evalue": "[Errno 2] No such file or directory: 'this_file_does_not_exist'",
     "output_type": "error",
     "traceback": [
      "\u001b[0;31m---------------------------------------------------------------------------\u001b[0m",
      "\u001b[0;31mFileNotFoundError\u001b[0m                         Traceback (most recent call last)",
      "\u001b[0;32m<ipython-input-7-12eb4021251f>\u001b[0m in \u001b[0;36m<module>\u001b[0;34m\u001b[0m\n\u001b[0;32m----> 1\u001b[0;31m \u001b[0mopen\u001b[0m\u001b[0;34m(\u001b[0m\u001b[0;34m\"this_file_does_not_exist\"\u001b[0m\u001b[0;34m,\u001b[0m \u001b[0;34m\"r\"\u001b[0m\u001b[0;34m)\u001b[0m\u001b[0;34m\u001b[0m\u001b[0;34m\u001b[0m\u001b[0m\n\u001b[0m",
      "\u001b[0;31mFileNotFoundError\u001b[0m: [Errno 2] No such file or directory: 'this_file_does_not_exist'"
     ]
    }
   ],
   "source": [
    "open(\"this_file_does_not_exist\", \"r\")"
   ]
  },
  {
   "cell_type": "markdown",
   "metadata": {},
   "source": [
    "## Raising Exceptions\n",
    "\n",
    "### The raise Statement\n",
    "\n",
    "The raise statement can be used to throw an exception.\n",
    "\n",
    "The syntax of raise statement is:\n",
    "    \n",
    "    \n",
    "    raise exception-name[(optional argument)]"
   ]
  },
  {
   "cell_type": "code",
   "execution_count": 11,
   "metadata": {},
   "outputs": [
    {
     "name": "stdout",
     "output_type": "stream",
     "text": [
      "give me an index 5\n"
     ]
    },
    {
     "ename": "IndexError",
     "evalue": "out of bounds",
     "output_type": "error",
     "traceback": [
      "\u001b[0;31m---------------------------------------------------------------------------\u001b[0m",
      "\u001b[0;31mIndexError\u001b[0m                                Traceback (most recent call last)",
      "\u001b[0;32m<ipython-input-11-7aed84dfbf77>\u001b[0m in \u001b[0;36m<module>\u001b[0;34m\u001b[0m\n\u001b[1;32m      4\u001b[0m \u001b[0;34m\u001b[0m\u001b[0m\n\u001b[1;32m      5\u001b[0m \u001b[0;32mif\u001b[0m \u001b[0midx\u001b[0m \u001b[0;34m>=\u001b[0m \u001b[0mlen\u001b[0m\u001b[0;34m(\u001b[0m\u001b[0mnumbers\u001b[0m\u001b[0;34m)\u001b[0m\u001b[0;34m:\u001b[0m\u001b[0;34m\u001b[0m\u001b[0;34m\u001b[0m\u001b[0m\n\u001b[0;32m----> 6\u001b[0;31m     \u001b[0;32mraise\u001b[0m \u001b[0mIndexError\u001b[0m\u001b[0;34m(\u001b[0m\u001b[0;34m\"out of bounds\"\u001b[0m\u001b[0;34m)\u001b[0m\u001b[0;34m\u001b[0m\u001b[0;34m\u001b[0m\u001b[0m\n\u001b[0m\u001b[1;32m      7\u001b[0m     \u001b[0mprint\u001b[0m\u001b[0;34m(\u001b[0m\u001b[0;34m\"NO EXCEPTION\"\u001b[0m\u001b[0;34m)\u001b[0m\u001b[0;34m\u001b[0m\u001b[0;34m\u001b[0m\u001b[0m\n\u001b[1;32m      8\u001b[0m \u001b[0;32melse\u001b[0m\u001b[0;34m:\u001b[0m\u001b[0;34m\u001b[0m\u001b[0;34m\u001b[0m\u001b[0m\n",
      "\u001b[0;31mIndexError\u001b[0m: out of bounds"
     ]
    }
   ],
   "source": [
    "numbers = [40, 50, 60, 70]\n",
    "\n",
    "idx = int(input(\"give me an index \"))\n",
    "\n",
    "if idx >= len(numbers):\n",
    "    raise IndexError(\"out of bounds\")\n",
    "    print(\"NO EXCEPTION\")\n",
    "else:\n",
    "    print(numbers[idx])"
   ]
  },
  {
   "cell_type": "markdown",
   "metadata": {},
   "source": [
    "## Handling Exceptions\n",
    "\n",
    "Each and every exception has to be handled by the\n",
    "programmer to avoid the program from crashing\n",
    "abruptly. This is done by writing additional code in\n",
    "a program to give proper messages or instructions to\n",
    "the user on encountering an exception. This process is\n",
    "known as exception handling.\n",
    "\n",
    "![exception handling](images/exception_handling.jpg)"
   ]
  },
  {
   "cell_type": "markdown",
   "metadata": {},
   "source": [
    "## Catching Exceptions\n",
    "\n",
    "An exception is said to be caught when a code that is\n",
    "designed to handle a particular exception is executed.\n",
    "Exceptions, if any, are caught in the **try** block and\n",
    "handled in the **except** block\n",
    "\n",
    "\n",
    "try:\n",
    "\n",
    "    [ program statements where exceptions might occur]\n",
    "\n",
    "except [exception-name]:\n",
    "\n",
    "    [ code for exception handling if the exception-name error is\n",
    "     encountered]\n"
   ]
  },
  {
   "cell_type": "code",
   "execution_count": 3,
   "metadata": {},
   "outputs": [
    {
     "name": "stdout",
     "output_type": "stream",
     "text": [
      "give me a number 45\n",
      "square root is  6.708203932499369\n",
      "give me a number 56\n",
      "square root is  7.483314773547883\n",
      "give me a number -34\n",
      "negative number\n"
     ]
    }
   ],
   "source": [
    "import math\n",
    "\n",
    "while True:\n",
    "    try:\n",
    "        num = float(input(\"give me a number \"))\n",
    "        print(\"square root is \", math.sqrt(num))\n",
    "    except:\n",
    "        print(\"negative number\")\n",
    "        break"
   ]
  },
  {
   "cell_type": "code",
   "execution_count": 5,
   "metadata": {},
   "outputs": [
    {
     "name": "stdout",
     "output_type": "stream",
     "text": [
      "give me a number 45\n",
      "square root is  6.708203932499369\n",
      "give me a number 81\n",
      "square root is  9.0\n",
      "give me a number -3.14\n",
      "negative number\n"
     ]
    }
   ],
   "source": [
    "# we can catch specific exception type as well - ValueError in this case\n",
    "import math\n",
    "\n",
    "while True:\n",
    "    try:\n",
    "        num = float(input(\"give me a number \"))\n",
    "        print(\"square root is \", math.sqrt(num))\n",
    "    except ValueError:\n",
    "        print(\"negative number\")\n",
    "        break"
   ]
  },
  {
   "cell_type": "code",
   "execution_count": 8,
   "metadata": {},
   "outputs": [
    {
     "name": "stdout",
     "output_type": "stream",
     "text": [
      "give me file name foo.txt\n",
      "cannot open file\n"
     ]
    }
   ],
   "source": [
    "try:\n",
    "    f = open(input(\"give me file name \"), \"r\")\n",
    "    print(f.read())\n",
    "    f.close()\n",
    "except FileNotFoundError:\n",
    "    print(\"cannot open file\")"
   ]
  },
  {
   "cell_type": "markdown",
   "metadata": {},
   "source": [
    "## try...except…else clause\n",
    "\n",
    "\n",
    "We can put an optional **else clause** along with the\n",
    "**try...except clause**. \n",
    "\n",
    "* An except block will be executed only if some exception is raised in the try block. \n",
    "\n",
    "* But if there is no error then none of the except blocks will be executed."
   ]
  },
  {
   "cell_type": "code",
   "execution_count": 10,
   "metadata": {},
   "outputs": [],
   "source": [
    "def division():\n",
    "    try:\n",
    "        nr = 50\n",
    "        dr = int(input(\"Enter denominator \"))\n",
    "        quotient = nr / dr\n",
    "    except ZeroDivisionError:\n",
    "        print(\"zero denominator not allowed\")\n",
    "    except ValueError:\n",
    "        print(\"only integers allowed\")\n",
    "    else:\n",
    "        print(\"result of division is\", quotient)"
   ]
  },
  {
   "cell_type": "code",
   "execution_count": 11,
   "metadata": {},
   "outputs": [
    {
     "name": "stdout",
     "output_type": "stream",
     "text": [
      "Enter denominator dfgdf\n",
      "only integers allowed\n"
     ]
    }
   ],
   "source": [
    "division()"
   ]
  },
  {
   "cell_type": "code",
   "execution_count": 13,
   "metadata": {},
   "outputs": [
    {
     "name": "stdout",
     "output_type": "stream",
     "text": [
      "Enter denominator 0\n",
      "zero denominator not allowed\n"
     ]
    }
   ],
   "source": [
    "division()"
   ]
  },
  {
   "cell_type": "code",
   "execution_count": 14,
   "metadata": {},
   "outputs": [
    {
     "name": "stdout",
     "output_type": "stream",
     "text": [
      "Enter denominator 5\n",
      "result of division is 10.0\n"
     ]
    }
   ],
   "source": [
    "division()"
   ]
  },
  {
   "cell_type": "markdown",
   "metadata": {},
   "source": [
    "## Finally Clause\n",
    "\n",
    "* The try statement in Python can also have an optional **finally clause.**\n",
    "\n",
    "* The statements inside the finally block are always executed regardless of whether an exception has occurred in the try block or not.\n",
    "\n",
    "* It is a common practice to use finally clause while working with files to ensure that the file object is closed. \n",
    "\n",
    "* If used, finally should always be placed at the end of try clause, after all except blocks and the else block."
   ]
  },
  {
   "cell_type": "code",
   "execution_count": 21,
   "metadata": {},
   "outputs": [],
   "source": [
    "def division1():\n",
    "    print (\"Handling exception using try...except...else...finally\")\n",
    "    try:\n",
    "        numerator = 50\n",
    "        denom = int(input(\"Enter the denominator: \"))\n",
    "        quotient = (numerator / denom)\n",
    "        print (\"Division performed successfully\")\n",
    "    except ZeroDivisionError:\n",
    "        print (\"ZeroDivisionError: Denominator as ZERO is not allowed\")\n",
    "    except ValueError:\n",
    "        print (\"ValueError: Only INTEGERS should be entered\")\n",
    "    else:\n",
    "        print (\"The result of division operation is \", quotient)\n",
    "    finally:\n",
    "        # This is executed regardless any exception is raised or not\n",
    "        print (\"OVER AND OUT\")"
   ]
  },
  {
   "cell_type": "code",
   "execution_count": 22,
   "metadata": {},
   "outputs": [
    {
     "name": "stdout",
     "output_type": "stream",
     "text": [
      "Handling exception using try...except...else...finally\n",
      "Enter the denominator: 0\n",
      "ZeroDivisionError: Denominator as ZERO is not allowed\n",
      "OVER AND OUT\n"
     ]
    }
   ],
   "source": [
    "division1()"
   ]
  },
  {
   "cell_type": "code",
   "execution_count": 23,
   "metadata": {},
   "outputs": [
    {
     "name": "stdout",
     "output_type": "stream",
     "text": [
      "Handling exception using try...except...else...finally\n",
      "Enter the denominator: hello\n",
      "ValueError: Only INTEGERS should be entered\n",
      "OVER AND OUT\n"
     ]
    }
   ],
   "source": [
    "division1()"
   ]
  },
  {
   "cell_type": "code",
   "execution_count": 24,
   "metadata": {},
   "outputs": [
    {
     "name": "stdout",
     "output_type": "stream",
     "text": [
      "Handling exception using try...except...else...finally\n",
      "Enter the denominator: 4\n",
      "Division performed successfully\n",
      "The result of division operation is  12.5\n",
      "OVER AND OUT\n"
     ]
    }
   ],
   "source": [
    "division1()"
   ]
  }
 ],
 "metadata": {
  "kernelspec": {
   "display_name": "Python 3",
   "language": "python",
   "name": "python3"
  },
  "language_info": {
   "codemirror_mode": {
    "name": "ipython",
    "version": 3
   },
   "file_extension": ".py",
   "mimetype": "text/x-python",
   "name": "python",
   "nbconvert_exporter": "python",
   "pygments_lexer": "ipython3",
   "version": "3.7.6"
  }
 },
 "nbformat": 4,
 "nbformat_minor": 4
}
