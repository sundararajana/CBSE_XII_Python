{
 "cells": [
  {
   "cell_type": "markdown",
   "metadata": {},
   "source": [
    "## Python dictionaries\n",
    "\n",
    "We can view Python list as a function from integer indices to values. A list associates integer index (position index) to values.\n",
    "\n",
    "Let \"s\" be a Python List. 0, 1, 2, ... len(s) are \"keys\" for the repective values s[0], s[1], ... s[len(l) - 1]\n",
    "\n",
    "s = [ \"banana\", \"apple\", \"orange\" ]\n",
    "    # s[0], s[1], s[2] are values against keys 0, 1, 2 respectively\n",
    "\n",
    "Dictionary (also called Map) is a data structure that allows **arbitrary keys** rather than just integers in range(0, len(s)). Dictionaries can be viewed as **unordered, mutable collection of key-value pairs** where keys can be anything (not just integers). In a way, dictionaries are like mathematical functions that allow domain to be other than a subset of integers. For examples, keys could be strings.\n",
    "\n",
    "Dictionaries are also called **Maps, Associative Arrays**. Dictionaries can be used for manipulating text files, table files etc. We use column names a keys. Each \"record\" in a multi-column file will become one dictionary instance. Entire table file can be read as a list of dictionary objects."
   ]
  },
  {
   "cell_type": "code",
   "execution_count": 1,
   "metadata": {},
   "outputs": [
    {
     "name": "stdout",
     "output_type": "stream",
     "text": [
      "{'John': 19, 'Smith': 14}\n"
     ]
    }
   ],
   "source": [
    "# dictionary is initialized with comma separated name:value pairs inside curly braces\n",
    "\n",
    "\n",
    "students = { \"John\": 19, \"Smith\": 14 }\n",
    "\n",
    "print(students)"
   ]
  },
  {
   "cell_type": "code",
   "execution_count": 2,
   "metadata": {},
   "outputs": [
    {
     "name": "stdout",
     "output_type": "stream",
     "text": [
      "19\n",
      "14\n"
     ]
    }
   ],
   "source": [
    "# we can access dictionary values with [] operator\n",
    "\n",
    "print(students[\"John\"])\n",
    "print(students[\"Smith\"])"
   ]
  },
  {
   "cell_type": "code",
   "execution_count": 3,
   "metadata": {},
   "outputs": [
    {
     "name": "stdout",
     "output_type": "stream",
     "text": [
      "{'John': 20, 'Smith': 14}\n"
     ]
    }
   ],
   "source": [
    "# we can update values using [] operator\n",
    "students[\"John\"] = 20\n",
    "print(students)"
   ]
  },
  {
   "cell_type": "code",
   "execution_count": 4,
   "metadata": {},
   "outputs": [
    {
     "name": "stdout",
     "output_type": "stream",
     "text": [
      "{'John': 20, 'Smith': 14, 'Maxwell': 23}\n"
     ]
    }
   ],
   "source": [
    "# we can also a new name-value pair by indexed assignment\n",
    "\n",
    "students[\"Maxwell\"] = 23\n",
    "print(students)"
   ]
  },
  {
   "cell_type": "markdown",
   "metadata": {},
   "source": [
    "## number of key-value pairs in a dictionary using len method"
   ]
  },
  {
   "cell_type": "code",
   "execution_count": 36,
   "metadata": {},
   "outputs": [
    {
     "data": {
      "text/plain": [
       "4"
      ]
     },
     "execution_count": 36,
     "metadata": {},
     "output_type": "execute_result"
    }
   ],
   "source": [
    "len(students)"
   ]
  },
  {
   "cell_type": "markdown",
   "metadata": {},
   "source": [
    "## Dictinary keys can be any immutable values\n",
    "\n",
    "Need not be just strings. Can use any immutable values like integers, floats, tuples, strings, bools etc. as keys in a dictionary. \n",
    "But **mutable values be used as values in a dictionary**."
   ]
  },
  {
   "cell_type": "code",
   "execution_count": 6,
   "metadata": {},
   "outputs": [
    {
     "name": "stdout",
     "output_type": "stream",
     "text": [
      "9\n",
      "8\n"
     ]
    }
   ],
   "source": [
    "# we use integer, tuple keys in this example\n",
    "s = { 2: 4, 3: 9, 4: 16, (2, 4): 8 }\n",
    "print(s[3])\n",
    "print(s[(2, 4)])"
   ]
  },
  {
   "cell_type": "code",
   "execution_count": 7,
   "metadata": {},
   "outputs": [
    {
     "ename": "TypeError",
     "evalue": "unhashable type: 'list'",
     "output_type": "error",
     "traceback": [
      "\u001b[0;31m---------------------------------------------------------------------------\u001b[0m",
      "\u001b[0;31mTypeError\u001b[0m                                 Traceback (most recent call last)",
      "\u001b[0;32m<ipython-input-7-980827aa9971>\u001b[0m in \u001b[0;36m<module>\u001b[0;34m\u001b[0m\n\u001b[1;32m      1\u001b[0m \u001b[0;31m# cannot use list a key as lists are mutable\u001b[0m\u001b[0;34m\u001b[0m\u001b[0;34m\u001b[0m\u001b[0;34m\u001b[0m\u001b[0m\n\u001b[0;32m----> 2\u001b[0;31m \u001b[0ms\u001b[0m \u001b[0;34m=\u001b[0m \u001b[0;34m{\u001b[0m \u001b[0;34m[\u001b[0m\u001b[0;36m23\u001b[0m\u001b[0;34m,\u001b[0m \u001b[0;36m44\u001b[0m\u001b[0;34m]\u001b[0m\u001b[0;34m:\u001b[0m \u001b[0;34m\"hello\"\u001b[0m\u001b[0;34m}\u001b[0m\u001b[0;34m\u001b[0m\u001b[0;34m\u001b[0m\u001b[0m\n\u001b[0m",
      "\u001b[0;31mTypeError\u001b[0m: unhashable type: 'list'"
     ]
    }
   ],
   "source": [
    "# cannot use list a key as lists are mutable\n",
    "s = { [23, 44]: \"hello\"}"
   ]
  },
  {
   "cell_type": "code",
   "execution_count": 8,
   "metadata": {},
   "outputs": [
    {
     "name": "stdout",
     "output_type": "stream",
     "text": [
      "{'hello': [2, 4], 'coordinate': {'x': 3, 'y': 45}}\n"
     ]
    }
   ],
   "source": [
    "# Note that the values can be mutable. We use dictionaries, lists as values in this example\n",
    "\n",
    "s = { \"hello\": [2, 4 ], \"coordinate\": { \"x\" : 3, \"y\": 45 } }\n",
    "print(s)"
   ]
  },
  {
   "cell_type": "markdown",
   "metadata": {},
   "source": [
    "## creating dictionary using dict function"
   ]
  },
  {
   "cell_type": "code",
   "execution_count": 9,
   "metadata": {},
   "outputs": [
    {
     "name": "stdout",
     "output_type": "stream",
     "text": [
      "{}\n",
      "<class 'dict'>\n",
      "{}\n",
      "<class 'dict'>\n"
     ]
    }
   ],
   "source": [
    "# We can also create dictionaries using dict constructor\n",
    "\n",
    "# following both create empty dictionaries\n",
    "s = dict()\n",
    "print(s)\n",
    "print(type(s))\n",
    "\n",
    "# NOTE: empty paranthesis is empty dictionary and not empty set!\n",
    "s = {}\n",
    "print(s)\n",
    "print(type(s))"
   ]
  },
  {
   "cell_type": "code",
   "execution_count": 10,
   "metadata": {},
   "outputs": [
    {
     "name": "stdout",
     "output_type": "stream",
     "text": [
      "{'test1': {'dhawan': 0, 'sharma': 102}, 'test2': {'dhawan': 2, 'sharma': 49}}\n",
      "0\n",
      "49\n"
     ]
    }
   ],
   "source": [
    "# can nest dictionaries\n",
    "s = { \"test1\": { \"dhawan\": 0, \"sharma\": 102 }, \"test2\": { \"dhawan\": 2, \"sharma\": 49 }}\n",
    "print(s)\n",
    "print(s[\"test1\"][\"dhawan\"])\n",
    "print(s[\"test2\"][\"sharma\"])"
   ]
  },
  {
   "cell_type": "markdown",
   "metadata": {},
   "source": [
    "## new dictionary from given keys using fromkeys method\n",
    "\n",
    "**dict.fromkeys** method can be used to create a new dictionary using given keys (as collection)"
   ]
  },
  {
   "cell_type": "code",
   "execution_count": 43,
   "metadata": {},
   "outputs": [
    {
     "name": "stdout",
     "output_type": "stream",
     "text": [
      "{'John': 0, 'Smith': 0}\n",
      "{'John': None, 'Smith': None}\n"
     ]
    }
   ],
   "source": [
    "# fromkeys method on dict accepts a collection of keys (could be a list or a tuple) \n",
    "# and an optional default value to be set against every key. If no value supplied\n",
    "# None is used\n",
    "\n",
    "d = dict.fromkeys((\"John\", \"Smith\"), 0)\n",
    "\n",
    "print(d)\n",
    "\n",
    "d = dict.fromkeys([\"John\", \"Smith\"])\n",
    "print(d)"
   ]
  },
  {
   "cell_type": "markdown",
   "metadata": {},
   "source": [
    "## updating dictionary with more name-value pairs\n",
    "\n",
    "\n",
    "The **update()** method inserts the specified items to the dictionary."
   ]
  },
  {
   "cell_type": "code",
   "execution_count": 14,
   "metadata": {},
   "outputs": [
    {
     "name": "stdout",
     "output_type": "stream",
     "text": [
      "{'John': 24, 'Smith': 19}\n",
      "{'John': 23, 'Smith': 19, 'Jana': 17, 'Kannan': 18}\n"
     ]
    }
   ],
   "source": [
    "students = { \"John\": 24, \"Smith\": 19 }\n",
    "\n",
    "print(students)\n",
    "\n",
    "# add more key-value pairs to an existing dictionary - including updates to existing key-value\n",
    "students.update({ \"Jana\" : 17, \"Kannan\": 18, \"John\": 23 })\n",
    "\n",
    "print(students)"
   ]
  },
  {
   "cell_type": "markdown",
   "metadata": {},
   "source": [
    "\n",
    "## for loop on dictionary iterates on keys\n",
    "\n",
    "for loop on lists iterates values. but for loop on dictionary iterates keys! \n",
    "There is *no specific order by which keys are iterated**! Dictionaries and sets are optimized fast retrieval \n",
    "and not sequential access. Keys are randomly iterated. Hence dictionaries are unordered collection of key-value\n",
    "pairs.\n"
   ]
  },
  {
   "cell_type": "code",
   "execution_count": 15,
   "metadata": {},
   "outputs": [
    {
     "name": "stdout",
     "output_type": "stream",
     "text": [
      "John\n",
      "Smith\n",
      "Jana\n",
      "Kannan\n"
     ]
    }
   ],
   "source": [
    "\n",
    "# iterates over keys of the dictionary\n",
    "for i in students:\n",
    "    print(i)"
   ]
  },
  {
   "cell_type": "code",
   "execution_count": 16,
   "metadata": {},
   "outputs": [
    {
     "name": "stdout",
     "output_type": "stream",
     "text": [
      "John\n",
      "Smith\n",
      "Jana\n",
      "Kannan\n"
     ]
    }
   ],
   "source": [
    "# can explicitly iterate on keys by keys() method\n",
    "for i in students.keys():\n",
    "    print(i)"
   ]
  },
  {
   "cell_type": "markdown",
   "metadata": {},
   "source": [
    "## Iterating dictionary values\n",
    "\n",
    "We can **values()** method to get collection of values"
   ]
  },
  {
   "cell_type": "code",
   "execution_count": 18,
   "metadata": {},
   "outputs": [
    {
     "name": "stdout",
     "output_type": "stream",
     "text": [
      "23\n",
      "19\n",
      "17\n",
      "18\n"
     ]
    }
   ],
   "source": [
    "# can explicitly iterate on values by values() method\n",
    "\n",
    "for i in students.values():\n",
    "    print(i)"
   ]
  },
  {
   "cell_type": "markdown",
   "metadata": {},
   "source": [
    "## Iterating key-value pairs from a dictionary\n",
    "\n",
    "We can **items()** method to get collection of values"
   ]
  },
  {
   "cell_type": "code",
   "execution_count": 20,
   "metadata": {},
   "outputs": [
    {
     "name": "stdout",
     "output_type": "stream",
     "text": [
      "('John', 23)\n",
      "('Smith', 19)\n",
      "('Jana', 17)\n",
      "('Kannan', 18)\n"
     ]
    }
   ],
   "source": [
    "# can iterate on key-value pairs using items() method\n",
    "# With items(), each time \"i\" receives a tuple containing name, value\n",
    "\n",
    "for i in students.items():\n",
    "    print(i)"
   ]
  },
  {
   "cell_type": "markdown",
   "metadata": {},
   "source": [
    "## Iterating with sorted keys"
   ]
  },
  {
   "cell_type": "code",
   "execution_count": 21,
   "metadata": {},
   "outputs": [
    {
     "name": "stdout",
     "output_type": "stream",
     "text": [
      "apple 80\n",
      "banana 6\n",
      "strawberry 120\n"
     ]
    }
   ],
   "source": [
    "# if you want keys in order, you've to call 'sorted' function\n",
    "# Note: sorted function returns a sorted copy of given iterable.\n",
    "# Unlike sort method on a list which sorts the list in-place\n",
    "\n",
    "s = { \"banana\": 6, \"apple\": 80, \"strawberry\": 120 }\n",
    "for i in sorted(s.keys()):\n",
    "    print(i, s[i])"
   ]
  },
  {
   "cell_type": "code",
   "execution_count": 22,
   "metadata": {},
   "outputs": [
    {
     "name": "stdout",
     "output_type": "stream",
     "text": [
      "<class 'dict_keys'>\n"
     ]
    }
   ],
   "source": [
    "# keys() does not return a list. some collection is returned\n",
    "\n",
    "print(type(s.keys()))"
   ]
  },
  {
   "cell_type": "code",
   "execution_count": 27,
   "metadata": {},
   "outputs": [
    {
     "name": "stdout",
     "output_type": "stream",
     "text": [
      "<class 'list'>\n",
      "['banana', 'apple', 'strawberry']\n"
     ]
    }
   ],
   "source": [
    "# can be converted to a list using list function\n",
    "\n",
    "print(type(list(s.keys())))\n",
    "print(list(s.keys()))"
   ]
  },
  {
   "cell_type": "markdown",
   "metadata": {},
   "source": [
    "## Tesing the presence of a key with \"in\" and \"not in\" operators"
   ]
  },
  {
   "cell_type": "code",
   "execution_count": 29,
   "metadata": {},
   "outputs": [
    {
     "name": "stdout",
     "output_type": "stream",
     "text": [
      "True\n",
      "False\n",
      "False\n",
      "True\n"
     ]
    }
   ],
   "source": [
    "s = { \"banana\": 6, \"apple\": 80, \"strawberry\": 120 }\n",
    "\n",
    "print(\"banana\" in s)\n",
    "print(\"apple\" not in s)\n",
    "print(\"orange\" in s)\n",
    "print(\"orange\" not in s)"
   ]
  },
  {
   "cell_type": "markdown",
   "metadata": {},
   "source": [
    "## Deleting a key-value pair from a dictionary using \"del\" statement"
   ]
  },
  {
   "cell_type": "code",
   "execution_count": 38,
   "metadata": {},
   "outputs": [
    {
     "name": "stdout",
     "output_type": "stream",
     "text": [
      "{'banana': 6, 'apple': 80, 'strawberry': 120}\n",
      "{'apple': 80}\n"
     ]
    }
   ],
   "source": [
    "s = { \"banana\": 6, \"apple\": 80, \"strawberry\": 120 }\n",
    "\n",
    "print(s)\n",
    "\n",
    "del s[\"banana\"]\n",
    "del s[\"strawberry\"]\n",
    "\n",
    "print(s)"
   ]
  },
  {
   "cell_type": "markdown",
   "metadata": {},
   "source": [
    "## deleating all key-value pairs in a dictionary using clear method"
   ]
  },
  {
   "cell_type": "code",
   "execution_count": 40,
   "metadata": {},
   "outputs": [
    {
     "name": "stdout",
     "output_type": "stream",
     "text": [
      "{'banana': 6, 'apple': 80, 'strawberry': 120}\n",
      "{}\n"
     ]
    }
   ],
   "source": [
    "s = { \"banana\": 6, \"apple\": 80, \"strawberry\": 120 }\n",
    "\n",
    "print(s)\n",
    "\n",
    "s.clear()\n",
    "\n",
    "print(s)"
   ]
  },
  {
   "cell_type": "markdown",
   "metadata": {},
   "source": [
    "## pop method"
   ]
  },
  {
   "cell_type": "code",
   "execution_count": 79,
   "metadata": {},
   "outputs": [
    {
     "name": "stdout",
     "output_type": "stream",
     "text": [
      "The dictionary is: {'banana': 6, 'apple': 80, 'strawberry': 120}\n",
      "The popped price is: 80\n",
      "The dictionary is: {'banana': 6, 'strawberry': 120}\n",
      "344\n"
     ]
    },
    {
     "ename": "KeyError",
     "evalue": "'haha'",
     "output_type": "error",
     "traceback": [
      "\u001b[0;31m---------------------------------------------------------------------------\u001b[0m",
      "\u001b[0;31mKeyError\u001b[0m                                  Traceback (most recent call last)",
      "\u001b[0;32m<ipython-input-79-cec6c3de1328>\u001b[0m in \u001b[0;36m<module>\u001b[0;34m\u001b[0m\n\u001b[1;32m     11\u001b[0m \u001b[0;34m\u001b[0m\u001b[0m\n\u001b[1;32m     12\u001b[0m \u001b[0;31m# popping non-existent key without default\u001b[0m\u001b[0;34m\u001b[0m\u001b[0;34m\u001b[0m\u001b[0;34m\u001b[0m\u001b[0m\n\u001b[0;32m---> 13\u001b[0;31m \u001b[0mprint\u001b[0m\u001b[0;34m(\u001b[0m\u001b[0mprices\u001b[0m\u001b[0;34m.\u001b[0m\u001b[0mpop\u001b[0m\u001b[0;34m(\u001b[0m\u001b[0;34m\"haha\"\u001b[0m\u001b[0;34m)\u001b[0m\u001b[0;34m)\u001b[0m\u001b[0;34m\u001b[0m\u001b[0;34m\u001b[0m\u001b[0m\n\u001b[0m",
      "\u001b[0;31mKeyError\u001b[0m: 'haha'"
     ]
    }
   ],
   "source": [
    "\n",
    "prices = { \"banana\": 6, \"apple\": 80, \"strawberry\": 120 }\n",
    "\n",
    "print(\"The dictionary is:\", prices)\n",
    "price = prices.pop('apple')\n",
    "print('The popped price is:', price)\n",
    "print('The dictionary is:', prices)\n",
    "\n",
    "# popping non-existent key with default\n",
    "\n",
    "print(prices.pop(\"haha\", 344))\n",
    "\n",
    "# popping non-existent key without default\n",
    "print(prices.pop(\"haha\"))"
   ]
  },
  {
   "cell_type": "markdown",
   "metadata": {},
   "source": [
    "## popitem method\n",
    "\n",
    "removes last inserted item from a dictionary"
   ]
  },
  {
   "cell_type": "code",
   "execution_count": 81,
   "metadata": {},
   "outputs": [
    {
     "name": "stdout",
     "output_type": "stream",
     "text": [
      "{'banana': 6, 'apple': 80, 'strawberry': 120, 'orange': 50}\n",
      "{'banana': 6, 'apple': 80, 'strawberry': 120}\n",
      "{'banana': 6, 'apple': 80}\n"
     ]
    }
   ],
   "source": [
    "prices = { \"banana\": 6, \"apple\": 80, \"strawberry\": 120 }\n",
    "\n",
    "prices[\"orange\"] = 50\n",
    "\n",
    "print(prices)\n",
    "\n",
    "prices.popitem()\n",
    "\n",
    "print(prices)\n",
    "\n",
    "\n",
    "prices.popitem()\n",
    "\n",
    "print(prices)"
   ]
  },
  {
   "cell_type": "markdown",
   "metadata": {},
   "source": [
    "## Difference between a list and a dictionary for non-existent key"
   ]
  },
  {
   "cell_type": "code",
   "execution_count": 32,
   "metadata": {},
   "outputs": [
    {
     "name": "stdout",
     "output_type": "stream",
     "text": [
      "{'apple': 33}\n"
     ]
    },
    {
     "ename": "IndexError",
     "evalue": "list assignment index out of range",
     "output_type": "error",
     "traceback": [
      "\u001b[0;31m---------------------------------------------------------------------------\u001b[0m",
      "\u001b[0;31mIndexError\u001b[0m                                Traceback (most recent call last)",
      "\u001b[0;32m<ipython-input-32-6d9f307f3420>\u001b[0m in \u001b[0;36m<module>\u001b[0;34m\u001b[0m\n\u001b[1;32m     10\u001b[0m \u001b[0;31m# cannot set at non-existent index. Have to extend or append to the list\u001b[0m\u001b[0;34m\u001b[0m\u001b[0;34m\u001b[0m\u001b[0;34m\u001b[0m\u001b[0m\n\u001b[1;32m     11\u001b[0m \u001b[0;31m# The following throws IndexError\u001b[0m\u001b[0;34m\u001b[0m\u001b[0;34m\u001b[0m\u001b[0;34m\u001b[0m\u001b[0m\n\u001b[0;32m---> 12\u001b[0;31m \u001b[0ml\u001b[0m\u001b[0;34m[\u001b[0m\u001b[0;36m0\u001b[0m\u001b[0;34m]\u001b[0m \u001b[0;34m=\u001b[0m \u001b[0;36m23\u001b[0m\u001b[0;34m\u001b[0m\u001b[0;34m\u001b[0m\u001b[0m\n\u001b[0m",
      "\u001b[0;31mIndexError\u001b[0m: list assignment index out of range"
     ]
    }
   ],
   "source": [
    "d = {}\n",
    "\n",
    "# okay to set value for a non-existent key!\n",
    "# adds a new key-value pair\n",
    "\n",
    "d[\"apple\"] = 33\n",
    "print(d)\n",
    "\n",
    "l = []\n",
    "# cannot set at non-existent index. Have to extend or append to the list\n",
    "# The following throws IndexError\n",
    "l[0] = 23"
   ]
  },
  {
   "cell_type": "markdown",
   "metadata": {},
   "source": [
    "## setdefault method on a dictionary"
   ]
  },
  {
   "cell_type": "code",
   "execution_count": 49,
   "metadata": {},
   "outputs": [
    {
     "name": "stdout",
     "output_type": "stream",
     "text": [
      "240\n",
      "56\n",
      "240\n",
      "{'apple': 240, 'orange': 100, 'strawberry': 56}\n"
     ]
    }
   ],
   "source": [
    "d = { \"apple\": 240, \"orange\": 100 }\n",
    "\n",
    "\n",
    "print(d[\"apple\"])\n",
    "# set default value if key is missing\n",
    "print(d.setdefault(\"strawberry\", 56))\n",
    "\n",
    "# value of \"apple\" key unchanged as key is set value in the dictionary already\n",
    "print(d.setdefault(\"apple\", 444))\n",
    "print(d)"
   ]
  },
  {
   "cell_type": "markdown",
   "metadata": {},
   "source": [
    "## min, max of keys of a dictionary"
   ]
  },
  {
   "cell_type": "code",
   "execution_count": 51,
   "metadata": {},
   "outputs": [],
   "source": [
    "d = {'apple': 240, 'orange': 100, 'strawberry': 56}"
   ]
  },
  {
   "cell_type": "code",
   "execution_count": 52,
   "metadata": {},
   "outputs": [
    {
     "data": {
      "text/plain": [
       "'apple'"
      ]
     },
     "execution_count": 52,
     "metadata": {},
     "output_type": "execute_result"
    }
   ],
   "source": [
    "min(d)"
   ]
  },
  {
   "cell_type": "code",
   "execution_count": 53,
   "metadata": {},
   "outputs": [
    {
     "data": {
      "text/plain": [
       "'strawberry'"
      ]
     },
     "execution_count": 53,
     "metadata": {},
     "output_type": "execute_result"
    }
   ],
   "source": [
    "max(d)"
   ]
  },
  {
   "cell_type": "code",
   "execution_count": 55,
   "metadata": {},
   "outputs": [
    {
     "data": {
      "text/plain": [
       "['apple', 'orange', 'strawberry']"
      ]
     },
     "execution_count": 55,
     "metadata": {},
     "output_type": "execute_result"
    }
   ],
   "source": [
    "# sorted method on dictionary sorts keys and returns sorted list\n",
    "sorted(d)"
   ]
  },
  {
   "cell_type": "markdown",
   "metadata": {},
   "source": [
    "## dictionary copy to create a new dictionary with same key-value pairs"
   ]
  },
  {
   "cell_type": "code",
   "execution_count": 61,
   "metadata": {},
   "outputs": [
    {
     "name": "stdout",
     "output_type": "stream",
     "text": [
      "d = {'apple': 240, 'orange': 100, 'strawberry': 56}\n",
      "s = {'apple': 240, 'orange': 100, 'strawberry': 56}\n",
      "d = {'apple': 240, 'orange': 100, 'strawberry': 56}\n",
      "s = {'apple': 455, 'orange': 100, 'strawberry': 56}\n"
     ]
    }
   ],
   "source": [
    "s = d.copy()\n",
    "print(\"d =\", d)\n",
    "print(\"s =\", s)\n",
    "\n",
    "# copy. so only \"s\" is modified\n",
    "s[\"apple\"] = 455\n",
    "\n",
    "print(\"d =\", d)\n",
    "print(\"s =\", s)"
   ]
  },
  {
   "cell_type": "markdown",
   "metadata": {},
   "source": [
    "## count the number of times a character appears in a dictionary"
   ]
  },
  {
   "cell_type": "code",
   "execution_count": 67,
   "metadata": {},
   "outputs": [],
   "source": [
    "def countChars(string):\n",
    "    frequencies = {}\n",
    "    for i in string:\n",
    "        if i in frequencies:\n",
    "            frequencies[i] = frequencies[i] + 1\n",
    "        else:\n",
    "            frequencies[i] = 1\n",
    "    return frequencies"
   ]
  },
  {
   "cell_type": "code",
   "execution_count": 68,
   "metadata": {},
   "outputs": [
    {
     "data": {
      "text/plain": [
       "{'h': 1, 'e': 1, 'l': 2, 'o': 1}"
      ]
     },
     "execution_count": 68,
     "metadata": {},
     "output_type": "execute_result"
    }
   ],
   "source": [
    "countChars(\"hello\")"
   ]
  },
  {
   "cell_type": "code",
   "execution_count": 69,
   "metadata": {},
   "outputs": [
    {
     "data": {
      "text/plain": [
       "{'a': 5, 'b': 2, 'r': 2, 'c': 1, 'd': 1}"
      ]
     },
     "execution_count": 69,
     "metadata": {},
     "output_type": "execute_result"
    }
   ],
   "source": [
    "countChars(\"abracadabra\")"
   ]
  },
  {
   "cell_type": "markdown",
   "metadata": {},
   "source": [
    "## create a dictionary of employees with salary and access those"
   ]
  },
  {
   "cell_type": "code",
   "execution_count": 70,
   "metadata": {},
   "outputs": [],
   "source": [
    "employees = { \"John\" : 250000, \"Smith\": 30000, \"Kannan\": 1000000 }"
   ]
  },
  {
   "cell_type": "code",
   "execution_count": 71,
   "metadata": {},
   "outputs": [
    {
     "data": {
      "text/plain": [
       "250000"
      ]
     },
     "execution_count": 71,
     "metadata": {},
     "output_type": "execute_result"
    }
   ],
   "source": [
    "employees[\"John\"]"
   ]
  },
  {
   "cell_type": "code",
   "execution_count": 72,
   "metadata": {},
   "outputs": [
    {
     "data": {
      "text/plain": [
       "1000000"
      ]
     },
     "execution_count": 72,
     "metadata": {},
     "output_type": "execute_result"
    }
   ],
   "source": [
    "employees[\"Kannan\"]"
   ]
  }
 ],
 "metadata": {
  "kernelspec": {
   "display_name": "Python 3",
   "language": "python",
   "name": "python3"
  },
  "language_info": {
   "codemirror_mode": {
    "name": "ipython",
    "version": 3
   },
   "file_extension": ".py",
   "mimetype": "text/x-python",
   "name": "python",
   "nbconvert_exporter": "python",
   "pygments_lexer": "ipython3",
   "version": "3.7.6"
  }
 },
 "nbformat": 4,
 "nbformat_minor": 4
}
