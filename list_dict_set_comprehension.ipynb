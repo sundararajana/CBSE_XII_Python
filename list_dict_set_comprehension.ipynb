{
 "cells": [
  {
   "cell_type": "markdown",
   "metadata": {},
   "source": [
    "## Python List Comprehension\n",
    "\n",
    "\n",
    "If you want to compute elements of list, you'd typically create an empty list and then append \n",
    "elements one by one with a for loop. **List comprehension is an easier way to create lists.**"
   ]
  },
  {
   "cell_type": "code",
   "execution_count": 1,
   "metadata": {},
   "outputs": [],
   "source": [
    "squares = []\n",
    "for i in range(0, 10):\n",
    "    squares.append(i*i)"
   ]
  },
  {
   "cell_type": "code",
   "execution_count": 2,
   "metadata": {},
   "outputs": [
    {
     "name": "stdout",
     "output_type": "stream",
     "text": [
      "[0, 1, 4, 9, 16, 25, 36, 49, 64, 81]\n"
     ]
    }
   ],
   "source": [
    "print(squares)"
   ]
  },
  {
   "cell_type": "markdown",
   "metadata": {},
   "source": [
    "## The above for-loop way of appending elements to a list can be simplified using list comprehension."
   ]
  },
  {
   "cell_type": "code",
   "execution_count": 5,
   "metadata": {},
   "outputs": [
    {
     "name": "stdout",
     "output_type": "stream",
     "text": [
      "[0, 1, 4, 9, 16, 25, 36, 49, 64, 81]\n"
     ]
    }
   ],
   "source": [
    "# create squares list with list comprehension\n",
    "\n",
    "squares = [ i*i for i in range(0, 10) ]\n",
    "print(squares)"
   ]
  },
  {
   "cell_type": "markdown",
   "metadata": {},
   "source": [
    "## List comprehension with filtering\n",
    "\n",
    "Suppose you're create an empty list and append elements by a for-loop. That for-loop may have if condition to filter certain elements. Example:\n",
    "\n",
    "\n",
    "```python\n",
    "\n",
    "odd_squares = []\n",
    "    for i in range(0, 10):\n",
    "        if (i*i) % 2 != 0:\n",
    "            odd_squares.append(i*i)\n",
    "```\n",
    "\n",
    "Then the above can also be written compactly using list-comprehension:\n",
    "\n",
    "```python\n",
    "\n",
    "odd_squares = [ i*i for i in range(0, 10) if (i*i) % 2 != 0]\n",
    "\n",
    "```"
   ]
  },
  {
   "cell_type": "code",
   "execution_count": 4,
   "metadata": {},
   "outputs": [
    {
     "name": "stdout",
     "output_type": "stream",
     "text": [
      "[1, 9, 25, 49, 81]\n"
     ]
    }
   ],
   "source": [
    "odd_squares = [ i*i for i in range(0, 10) if (i*i) % 2 != 0]\n",
    "print(odd_squares)"
   ]
  },
  {
   "cell_type": "markdown",
   "metadata": {},
   "source": [
    "## Python Dictionary Comprehension\n",
    "\n",
    "### Using dictionary comprehension to create a dictionary"
   ]
  },
  {
   "cell_type": "code",
   "execution_count": 6,
   "metadata": {},
   "outputs": [
    {
     "name": "stdout",
     "output_type": "stream",
     "text": [
      "{'1': 1, '2': 2, '3': 3, '4': 4, '5': 5}\n",
      "{'apple': 5, 'mango': 5, 'banana': 6, 'cherry': 6}\n",
      "{'a': 1, 'b': 2, 'c': 3}\n"
     ]
    }
   ],
   "source": [
    "# Dictionary comprehension is short-cut way to create and populate a dictionary\n",
    "\n",
    "d = { str(i):i for i in [1,2,3,4,5]}\n",
    "print(d)\n",
    "\n",
    "fruits = ['apple', 'mango', 'banana','cherry']\n",
    "# dict comprehension to create dict with fruit name as keys\n",
    "d = { f:len(f) for f in fruits}\n",
    "print(d)\n",
    "\n",
    "# zip can be used to create dictionary via dictionary comprehension\n",
    "\n",
    "keys = ['a', 'b', 'c']\n",
    "values = [ 1, 2, 3]\n",
    "\n",
    "d = { i:j for (i,j) in zip(keys, values) }\n",
    "print(d)"
   ]
  },
  {
   "cell_type": "markdown",
   "metadata": {},
   "source": [
    "## Python Set Comprehension\n",
    "\n",
    "### Python sets can be created by set comprehension as well\n",
    "\n",
    "Set comprehension is a way to create set using for loop inside set initial expression:\n",
    "\n",
    "\n",
    "```python\n",
    "\n",
    "    # set of squares of [0, 100)\n",
    "    s = { i*i for i in range(0, 100) }\n",
    "\n",
    "```"
   ]
  },
  {
   "cell_type": "code",
   "execution_count": 7,
   "metadata": {},
   "outputs": [
    {
     "name": "stdout",
     "output_type": "stream",
     "text": [
      "{0, 1, 1024, 4096, 4, 9216, 9, 16, 529, 3600, 4624, 25, 36, 2601, 49, 7225, 3136, 64, 576, 1089, 1600, 2116, 5184, 6724, 7744, 9801, 81, 8281, 6241, 100, 625, 121, 4225, 1156, 8836, 3721, 144, 1681, 2704, 5776, 4761, 2209, 676, 169, 3249, 9409, 196, 1225, 5329, 729, 225, 1764, 7396, 6889, 7921, 2809, 256, 2304, 6400, 3844, 4356, 784, 1296, 8464, 289, 3364, 4900, 5929, 1849, 9025, 324, 841, 1369, 2401, 2916, 5476, 361, 3969, 900, 9604, 4489, 400, 1936, 7056, 7569, 3481, 6561, 1444, 8100, 5041, 441, 961, 2500, 6084, 8649, 3025, 484, 2025, 1521, 5625}\n"
     ]
    }
   ],
   "source": [
    "s = { i*i  for i in range(0, 100) }\n",
    "print(s)"
   ]
  },
  {
   "cell_type": "code",
   "execution_count": 8,
   "metadata": {},
   "outputs": [
    {
     "name": "stdout",
     "output_type": "stream",
     "text": [
      "{1, 3969, 4225, 9, 3721, 4489, 5625, 529, 1681, 7569, 25, 3481, 4761, 289, 2209, 6561, 169, 2601, 5929, 49, 3249, 5041, 2809, 441, 1849, 7225, 961, 1089, 9025, 9409, 841, 1225, 8649, 9801, 81, 3025, 5329, 1369, 729, 8281, 225, 2401, 6241, 361, 2025, 6889, 625, 1521, 7921, 121}\n"
     ]
    }
   ],
   "source": [
    "# In set comprehension, if condition may be added at the end to filter out the generated values!\n",
    "\n",
    "# squares of [0, 100) but only if the square is odd\n",
    "s = { i*i for i in range(0, 100) if i*i % 2 != 0}\n",
    "print(s)"
   ]
  },
  {
   "cell_type": "markdown",
   "metadata": {},
   "source": [
    "## Why no tuple comprehension?\n",
    "\n",
    "* Unlike to list, set and dict, tuple is immutable. \n",
    "* You cannot extend a tuple by adding an element, you only can create a new tuple\n",
    "\n",
    "\n",
    "```python\n",
    "\n",
    "result = ()\n",
    "for item in iterable:\n",
    "     # new tuple everytime\n",
    "     result += (item,)\n",
    "```"
   ]
  },
  {
   "cell_type": "code",
   "execution_count": 14,
   "metadata": {},
   "outputs": [
    {
     "name": "stdout",
     "output_type": "stream",
     "text": [
      "id of result tuple 140456302248016\n",
      "id of result tuple 140454698594064\n",
      "id of result tuple 140455505010512\n",
      "id of result tuple 140455230477088\n",
      "(43, 5, 334)\n"
     ]
    }
   ],
   "source": [
    "result = ()\n",
    "print(\"id of result tuple\", id(result))\n",
    "\n",
    "for item in [43, 5, 334]:\n",
    "    result += (item,)\n",
    "    print(\"id of result tuple\", id(result))\n",
    "    \n",
    "print(result)"
   ]
  },
  {
   "cell_type": "code",
   "execution_count": 15,
   "metadata": {},
   "outputs": [
    {
     "name": "stdout",
     "output_type": "stream",
     "text": [
      "id of result list 140455504827488\n",
      "id of result list 140455504827488\n",
      "id of result list 140455504827488\n",
      "id of result list 140455504827488\n",
      "[43, 5, 334]\n"
     ]
    }
   ],
   "source": [
    "result = []\n",
    "print(\"id of result list\", id(result))\n",
    "\n",
    "for item in [43, 5, 334]:\n",
    "    result.append(item)\n",
    "    print(\"id of result list\", id(result))\n",
    "\n",
    "print(result)"
   ]
  }
 ],
 "metadata": {
  "kernelspec": {
   "display_name": "Python 3",
   "language": "python",
   "name": "python3"
  },
  "language_info": {
   "codemirror_mode": {
    "name": "ipython",
    "version": 3
   },
   "file_extension": ".py",
   "mimetype": "text/x-python",
   "name": "python",
   "nbconvert_exporter": "python",
   "pygments_lexer": "ipython3",
   "version": "3.7.6"
  }
 },
 "nbformat": 4,
 "nbformat_minor": 4
}
